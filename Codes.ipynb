{
  "nbformat": 4,
  "nbformat_minor": 0,
  "metadata": {
    "colab": {
      "provenance": [],
      "authorship_tag": "ABX9TyNXqYQ/zRJ6a+aWGJ5j8WTT",
      "include_colab_link": true
    },
    "kernelspec": {
      "name": "python3",
      "display_name": "Python 3"
    },
    "language_info": {
      "name": "python"
    }
  },
  "cells": [
    {
      "cell_type": "markdown",
      "metadata": {
        "id": "view-in-github",
        "colab_type": "text"
      },
      "source": [
        "<a href=\"https://colab.research.google.com/github/anand1994sp/AutoSAVE/blob/main/Codes.ipynb\" target=\"_parent\"><img src=\"https://colab.research.google.com/assets/colab-badge.svg\" alt=\"Open In Colab\"/></a>"
      ]
    },
    {
      "cell_type": "code",
      "source": [
        "#user defined mean_squared_error\n",
        "def mse(anand,gokulnath):\n",
        "  sumsqr=0\n",
        "  for i,j in zip(anand,gokulnath):\n",
        "    dif=j-i\n",
        "    sumsqr+=dif*dif\n",
        "  return sumsqr/len(y_pred)  "
      ],
      "metadata": {
        "id": "G_y32qkWiKzl"
      },
      "execution_count": 11,
      "outputs": []
    }
  ]
}