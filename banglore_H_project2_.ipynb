{
  "metadata": {
    "kernelspec": {
      "display_name": "Python 3 (ipykernel)",
      "language": "python",
      "name": "python3"
    },
    "language_info": {
      "codemirror_mode": {
        "name": "ipython",
        "version": 3
      },
      "file_extension": ".py",
      "mimetype": "text/x-python",
      "name": "python",
      "nbconvert_exporter": "python",
      "pygments_lexer": "ipython3",
      "version": "3.9.12"
    },
    "colab": {
      "provenance": [],
      "include_colab_link": true
    },
    "accelerator": "GPU",
    "gpuClass": "standard"
  },
  "nbformat_minor": 5,
  "nbformat": 4,
  "cells": [
    {
      "cell_type": "markdown",
      "metadata": {
        "id": "view-in-github",
        "colab_type": "text"
      },
      "source": [
        "<a href=\"https://colab.research.google.com/github/anand1994sp/AutoSAVE/blob/main/banglore_H_project2_.ipynb\" target=\"_parent\"><img src=\"https://colab.research.google.com/assets/colab-badge.svg\" alt=\"Open In Colab\"/></a>"
      ]
    },
    {
      "cell_type": "markdown",
      "source": [
        "# House Price Prediction"
      ],
      "metadata": {
        "id": "OvwO-aT3PFUL"
      },
      "id": "OvwO-aT3PFUL"
    },
    {
      "cell_type": "markdown",
      "source": [
        "What are the things that a potential home buyer considers before purchasing a house? The location, the size of the property, vicinity to offices, schools, parks, restaurants, hospitals or the stereotypical white picket fence? What about the most important factor — the price?\n",
        "\n",
        "Now with the lingering impact of demonetization, the enforcement of the Real Estate (Regulation and Development) Act (RERA), and the lack of trust in property developers in the city, housing units sold across India in 2017 dropped by 7 percent. In fact, the property prices in Bengaluru fell by almost 5 percent in the second half of 2017, said a study published by property consultancy Knight Frank.\n",
        "For example, for a potential homeowner, over 9,000 apartment projects and flats for sale are available in the range of ₹42-52 lakh, followed by over 7,100 apartments that are in the ₹52-62 lakh budget segment, says a report by property website Makaan. According to the study, there are over 5,000 projects in the ₹15-25 lakh budget segment followed by those in the ₹34-43 lakh budget category.\n",
        "\n",
        "\n",
        "Data Source: \n",
        "https://www.kaggle.com/amitabhajoy/bengaluru-house-price-data"
      ],
      "metadata": {
        "id": "zSUCzLoSPFUP"
      },
      "id": "zSUCzLoSPFUP"
    },
    {
      "cell_type": "markdown",
      "source": [
        "# Importing Libraries and Loading Data"
      ],
      "metadata": {
        "id": "oh9Tj9nuPFUP"
      },
      "id": "oh9Tj9nuPFUP"
    },
    {
      "cell_type": "code",
      "source": [
        "import pandas as pd\n",
        "import numpy as np\n",
        "from matplotlib import pyplot as plt\n",
        "%matplotlib inline\n",
        "import matplotlib as mat\n",
        "mat.rcParams[\"figure.figsize\"]=(20,10)\n",
        "import seaborn as sns\n",
        "import warnings\n",
        "warnings.filterwarnings(\"ignore\")"
      ],
      "metadata": {
        "id": "Onh64xg1PFUQ"
      },
      "execution_count": 4,
      "outputs": [],
      "id": "Onh64xg1PFUQ"
    },
    {
      "cell_type": "code",
      "source": [
        "from google.colab import drive\n",
        "drive.mount('/content/drive')"
      ],
      "metadata": {
        "colab": {
          "base_uri": "https://localhost:8080/"
        },
        "id": "Tf8SGAG0P23i",
        "outputId": "b3f09e7d-e37a-427c-e845-a0232b016cf1"
      },
      "id": "Tf8SGAG0P23i",
      "execution_count": 5,
      "outputs": [
        {
          "output_type": "stream",
          "name": "stdout",
          "text": [
            "Drive already mounted at /content/drive; to attempt to forcibly remount, call drive.mount(\"/content/drive\", force_remount=True).\n"
          ]
        }
      ]
    },
    {
      "cell_type": "code",
      "source": [
        "df= pd.read_csv(\"/content/drive/MyDrive/DS/DATASETS/Bengaluru_House_Dataset.csv\")\n",
        "df.head(10)"
      ],
      "metadata": {
        "scrolled": true,
        "colab": {
          "base_uri": "https://localhost:8080/",
          "height": 363
        },
        "id": "0YdbL9BdPFUR",
        "outputId": "f74a712a-dbbc-4250-9fc4-ca8b546e48ec"
      },
      "execution_count": 6,
      "outputs": [
        {
          "output_type": "execute_result",
          "data": {
            "text/plain": [
              "              area_type   availability                  location       size  \\\n",
              "0  Super built-up  Area         19-Dec  Electronic City Phase II      2 BHK   \n",
              "1            Plot  Area  Ready To Move          Chikka Tirupathi  4 Bedroom   \n",
              "2        Built-up  Area  Ready To Move               Uttarahalli      3 BHK   \n",
              "3  Super built-up  Area  Ready To Move        Lingadheeranahalli      3 BHK   \n",
              "4  Super built-up  Area  Ready To Move                  Kothanur      2 BHK   \n",
              "5  Super built-up  Area  Ready To Move                Whitefield      2 BHK   \n",
              "6  Super built-up  Area         18-May          Old Airport Road      4 BHK   \n",
              "7  Super built-up  Area  Ready To Move              Rajaji Nagar      4 BHK   \n",
              "8  Super built-up  Area  Ready To Move              Marathahalli      3 BHK   \n",
              "9            Plot  Area  Ready To Move              Gandhi Bazar  6 Bedroom   \n",
              "\n",
              "   society total_sqft  bath  balcony   price  \n",
              "0  Coomee        1056   2.0      1.0   39.07  \n",
              "1  Theanmp       2600   5.0      3.0  120.00  \n",
              "2      NaN       1440   2.0      3.0   62.00  \n",
              "3  Soiewre       1521   3.0      1.0   95.00  \n",
              "4      NaN       1200   2.0      1.0   51.00  \n",
              "5  DuenaTa       1170   2.0      1.0   38.00  \n",
              "6  Jaades        2732   4.0      NaN  204.00  \n",
              "7  Brway G       3300   4.0      NaN  600.00  \n",
              "8      NaN       1310   3.0      1.0   63.25  \n",
              "9      NaN       1020   6.0      NaN  370.00  "
            ],
            "text/html": [
              "\n",
              "  <div id=\"df-a7908dfe-7b3c-46e9-a55d-024708691518\">\n",
              "    <div class=\"colab-df-container\">\n",
              "      <div>\n",
              "<style scoped>\n",
              "    .dataframe tbody tr th:only-of-type {\n",
              "        vertical-align: middle;\n",
              "    }\n",
              "\n",
              "    .dataframe tbody tr th {\n",
              "        vertical-align: top;\n",
              "    }\n",
              "\n",
              "    .dataframe thead th {\n",
              "        text-align: right;\n",
              "    }\n",
              "</style>\n",
              "<table border=\"1\" class=\"dataframe\">\n",
              "  <thead>\n",
              "    <tr style=\"text-align: right;\">\n",
              "      <th></th>\n",
              "      <th>area_type</th>\n",
              "      <th>availability</th>\n",
              "      <th>location</th>\n",
              "      <th>size</th>\n",
              "      <th>society</th>\n",
              "      <th>total_sqft</th>\n",
              "      <th>bath</th>\n",
              "      <th>balcony</th>\n",
              "      <th>price</th>\n",
              "    </tr>\n",
              "  </thead>\n",
              "  <tbody>\n",
              "    <tr>\n",
              "      <th>0</th>\n",
              "      <td>Super built-up  Area</td>\n",
              "      <td>19-Dec</td>\n",
              "      <td>Electronic City Phase II</td>\n",
              "      <td>2 BHK</td>\n",
              "      <td>Coomee</td>\n",
              "      <td>1056</td>\n",
              "      <td>2.0</td>\n",
              "      <td>1.0</td>\n",
              "      <td>39.07</td>\n",
              "    </tr>\n",
              "    <tr>\n",
              "      <th>1</th>\n",
              "      <td>Plot  Area</td>\n",
              "      <td>Ready To Move</td>\n",
              "      <td>Chikka Tirupathi</td>\n",
              "      <td>4 Bedroom</td>\n",
              "      <td>Theanmp</td>\n",
              "      <td>2600</td>\n",
              "      <td>5.0</td>\n",
              "      <td>3.0</td>\n",
              "      <td>120.00</td>\n",
              "    </tr>\n",
              "    <tr>\n",
              "      <th>2</th>\n",
              "      <td>Built-up  Area</td>\n",
              "      <td>Ready To Move</td>\n",
              "      <td>Uttarahalli</td>\n",
              "      <td>3 BHK</td>\n",
              "      <td>NaN</td>\n",
              "      <td>1440</td>\n",
              "      <td>2.0</td>\n",
              "      <td>3.0</td>\n",
              "      <td>62.00</td>\n",
              "    </tr>\n",
              "    <tr>\n",
              "      <th>3</th>\n",
              "      <td>Super built-up  Area</td>\n",
              "      <td>Ready To Move</td>\n",
              "      <td>Lingadheeranahalli</td>\n",
              "      <td>3 BHK</td>\n",
              "      <td>Soiewre</td>\n",
              "      <td>1521</td>\n",
              "      <td>3.0</td>\n",
              "      <td>1.0</td>\n",
              "      <td>95.00</td>\n",
              "    </tr>\n",
              "    <tr>\n",
              "      <th>4</th>\n",
              "      <td>Super built-up  Area</td>\n",
              "      <td>Ready To Move</td>\n",
              "      <td>Kothanur</td>\n",
              "      <td>2 BHK</td>\n",
              "      <td>NaN</td>\n",
              "      <td>1200</td>\n",
              "      <td>2.0</td>\n",
              "      <td>1.0</td>\n",
              "      <td>51.00</td>\n",
              "    </tr>\n",
              "    <tr>\n",
              "      <th>5</th>\n",
              "      <td>Super built-up  Area</td>\n",
              "      <td>Ready To Move</td>\n",
              "      <td>Whitefield</td>\n",
              "      <td>2 BHK</td>\n",
              "      <td>DuenaTa</td>\n",
              "      <td>1170</td>\n",
              "      <td>2.0</td>\n",
              "      <td>1.0</td>\n",
              "      <td>38.00</td>\n",
              "    </tr>\n",
              "    <tr>\n",
              "      <th>6</th>\n",
              "      <td>Super built-up  Area</td>\n",
              "      <td>18-May</td>\n",
              "      <td>Old Airport Road</td>\n",
              "      <td>4 BHK</td>\n",
              "      <td>Jaades</td>\n",
              "      <td>2732</td>\n",
              "      <td>4.0</td>\n",
              "      <td>NaN</td>\n",
              "      <td>204.00</td>\n",
              "    </tr>\n",
              "    <tr>\n",
              "      <th>7</th>\n",
              "      <td>Super built-up  Area</td>\n",
              "      <td>Ready To Move</td>\n",
              "      <td>Rajaji Nagar</td>\n",
              "      <td>4 BHK</td>\n",
              "      <td>Brway G</td>\n",
              "      <td>3300</td>\n",
              "      <td>4.0</td>\n",
              "      <td>NaN</td>\n",
              "      <td>600.00</td>\n",
              "    </tr>\n",
              "    <tr>\n",
              "      <th>8</th>\n",
              "      <td>Super built-up  Area</td>\n",
              "      <td>Ready To Move</td>\n",
              "      <td>Marathahalli</td>\n",
              "      <td>3 BHK</td>\n",
              "      <td>NaN</td>\n",
              "      <td>1310</td>\n",
              "      <td>3.0</td>\n",
              "      <td>1.0</td>\n",
              "      <td>63.25</td>\n",
              "    </tr>\n",
              "    <tr>\n",
              "      <th>9</th>\n",
              "      <td>Plot  Area</td>\n",
              "      <td>Ready To Move</td>\n",
              "      <td>Gandhi Bazar</td>\n",
              "      <td>6 Bedroom</td>\n",
              "      <td>NaN</td>\n",
              "      <td>1020</td>\n",
              "      <td>6.0</td>\n",
              "      <td>NaN</td>\n",
              "      <td>370.00</td>\n",
              "    </tr>\n",
              "  </tbody>\n",
              "</table>\n",
              "</div>\n",
              "      <button class=\"colab-df-convert\" onclick=\"convertToInteractive('df-a7908dfe-7b3c-46e9-a55d-024708691518')\"\n",
              "              title=\"Convert this dataframe to an interactive table.\"\n",
              "              style=\"display:none;\">\n",
              "        \n",
              "  <svg xmlns=\"http://www.w3.org/2000/svg\" height=\"24px\"viewBox=\"0 0 24 24\"\n",
              "       width=\"24px\">\n",
              "    <path d=\"M0 0h24v24H0V0z\" fill=\"none\"/>\n",
              "    <path d=\"M18.56 5.44l.94 2.06.94-2.06 2.06-.94-2.06-.94-.94-2.06-.94 2.06-2.06.94zm-11 1L8.5 8.5l.94-2.06 2.06-.94-2.06-.94L8.5 2.5l-.94 2.06-2.06.94zm10 10l.94 2.06.94-2.06 2.06-.94-2.06-.94-.94-2.06-.94 2.06-2.06.94z\"/><path d=\"M17.41 7.96l-1.37-1.37c-.4-.4-.92-.59-1.43-.59-.52 0-1.04.2-1.43.59L10.3 9.45l-7.72 7.72c-.78.78-.78 2.05 0 2.83L4 21.41c.39.39.9.59 1.41.59.51 0 1.02-.2 1.41-.59l7.78-7.78 2.81-2.81c.8-.78.8-2.07 0-2.86zM5.41 20L4 18.59l7.72-7.72 1.47 1.35L5.41 20z\"/>\n",
              "  </svg>\n",
              "      </button>\n",
              "      \n",
              "  <style>\n",
              "    .colab-df-container {\n",
              "      display:flex;\n",
              "      flex-wrap:wrap;\n",
              "      gap: 12px;\n",
              "    }\n",
              "\n",
              "    .colab-df-convert {\n",
              "      background-color: #E8F0FE;\n",
              "      border: none;\n",
              "      border-radius: 50%;\n",
              "      cursor: pointer;\n",
              "      display: none;\n",
              "      fill: #1967D2;\n",
              "      height: 32px;\n",
              "      padding: 0 0 0 0;\n",
              "      width: 32px;\n",
              "    }\n",
              "\n",
              "    .colab-df-convert:hover {\n",
              "      background-color: #E2EBFA;\n",
              "      box-shadow: 0px 1px 2px rgba(60, 64, 67, 0.3), 0px 1px 3px 1px rgba(60, 64, 67, 0.15);\n",
              "      fill: #174EA6;\n",
              "    }\n",
              "\n",
              "    [theme=dark] .colab-df-convert {\n",
              "      background-color: #3B4455;\n",
              "      fill: #D2E3FC;\n",
              "    }\n",
              "\n",
              "    [theme=dark] .colab-df-convert:hover {\n",
              "      background-color: #434B5C;\n",
              "      box-shadow: 0px 1px 3px 1px rgba(0, 0, 0, 0.15);\n",
              "      filter: drop-shadow(0px 1px 2px rgba(0, 0, 0, 0.3));\n",
              "      fill: #FFFFFF;\n",
              "    }\n",
              "  </style>\n",
              "\n",
              "      <script>\n",
              "        const buttonEl =\n",
              "          document.querySelector('#df-a7908dfe-7b3c-46e9-a55d-024708691518 button.colab-df-convert');\n",
              "        buttonEl.style.display =\n",
              "          google.colab.kernel.accessAllowed ? 'block' : 'none';\n",
              "\n",
              "        async function convertToInteractive(key) {\n",
              "          const element = document.querySelector('#df-a7908dfe-7b3c-46e9-a55d-024708691518');\n",
              "          const dataTable =\n",
              "            await google.colab.kernel.invokeFunction('convertToInteractive',\n",
              "                                                     [key], {});\n",
              "          if (!dataTable) return;\n",
              "\n",
              "          const docLinkHtml = 'Like what you see? Visit the ' +\n",
              "            '<a target=\"_blank\" href=https://colab.research.google.com/notebooks/data_table.ipynb>data table notebook</a>'\n",
              "            + ' to learn more about interactive tables.';\n",
              "          element.innerHTML = '';\n",
              "          dataTable['output_type'] = 'display_data';\n",
              "          await google.colab.output.renderOutput(dataTable, element);\n",
              "          const docLink = document.createElement('div');\n",
              "          docLink.innerHTML = docLinkHtml;\n",
              "          element.appendChild(docLink);\n",
              "        }\n",
              "      </script>\n",
              "    </div>\n",
              "  </div>\n",
              "  "
            ]
          },
          "metadata": {},
          "execution_count": 6
        }
      ],
      "id": "0YdbL9BdPFUR"
    },
    {
      "cell_type": "markdown",
      "source": [
        "price (target) is in Lakh unit"
      ],
      "metadata": {
        "id": "qZT5ss0aPVj5"
      },
      "id": "qZT5ss0aPVj5"
    },
    {
      "cell_type": "markdown",
      "source": [
        "# Understanding the Dataset (EDA & Data Preprocessing)"
      ],
      "metadata": {
        "id": "hWGu0mDlPFUR"
      },
      "id": "hWGu0mDlPFUR"
    },
    {
      "cell_type": "code",
      "source": [
        "df.shape"
      ],
      "metadata": {
        "colab": {
          "base_uri": "https://localhost:8080/"
        },
        "id": "i5SzgX9VPFUS",
        "outputId": "7316bdec-330d-4e4f-ae62-813424c7aafa"
      },
      "execution_count": 7,
      "outputs": [
        {
          "output_type": "execute_result",
          "data": {
            "text/plain": [
              "(13320, 9)"
            ]
          },
          "metadata": {},
          "execution_count": 7
        }
      ],
      "id": "i5SzgX9VPFUS"
    },
    {
      "cell_type": "code",
      "source": [
        "df.info()"
      ],
      "metadata": {
        "colab": {
          "base_uri": "https://localhost:8080/"
        },
        "id": "BJM49AR4PFUS",
        "outputId": "68521d3a-24d3-47a9-ede0-e96c6fb63a05"
      },
      "execution_count": 8,
      "outputs": [
        {
          "output_type": "stream",
          "name": "stdout",
          "text": [
            "<class 'pandas.core.frame.DataFrame'>\n",
            "RangeIndex: 13320 entries, 0 to 13319\n",
            "Data columns (total 9 columns):\n",
            " #   Column        Non-Null Count  Dtype  \n",
            "---  ------        --------------  -----  \n",
            " 0   area_type     13320 non-null  object \n",
            " 1   availability  13320 non-null  object \n",
            " 2   location      13319 non-null  object \n",
            " 3   size          13304 non-null  object \n",
            " 4   society       7818 non-null   object \n",
            " 5   total_sqft    13320 non-null  object \n",
            " 6   bath          13247 non-null  float64\n",
            " 7   balcony       12711 non-null  float64\n",
            " 8   price         13320 non-null  float64\n",
            "dtypes: float64(3), object(6)\n",
            "memory usage: 936.7+ KB\n"
          ]
        }
      ],
      "id": "BJM49AR4PFUS"
    },
    {
      "cell_type": "code",
      "source": [
        "df.groupby(\"area_type\")[\"area_type\"].agg(\"count\")"
      ],
      "metadata": {
        "colab": {
          "base_uri": "https://localhost:8080/"
        },
        "id": "B4a0LwKOQ-3E",
        "outputId": "af804e33-1687-4538-fa1a-a29360406f31"
      },
      "id": "B4a0LwKOQ-3E",
      "execution_count": 9,
      "outputs": [
        {
          "output_type": "execute_result",
          "data": {
            "text/plain": [
              "area_type\n",
              "Built-up  Area          2418\n",
              "Carpet  Area              87\n",
              "Plot  Area              2025\n",
              "Super built-up  Area    8790\n",
              "Name: area_type, dtype: int64"
            ]
          },
          "metadata": {},
          "execution_count": 9
        }
      ]
    },
    {
      "cell_type": "code",
      "source": [
        "# df[\"area_type\"].value_counts()"
      ],
      "metadata": {
        "id": "dnhUGqkFRjT2"
      },
      "id": "dnhUGqkFRjT2",
      "execution_count": 10,
      "outputs": []
    },
    {
      "cell_type": "code",
      "source": [
        "df.isnull().sum()"
      ],
      "metadata": {
        "colab": {
          "base_uri": "https://localhost:8080/"
        },
        "id": "3bUcPg74SgOH",
        "outputId": "d3cf00a5-d258-420e-ec3a-2ea7d28ab3ba"
      },
      "id": "3bUcPg74SgOH",
      "execution_count": 11,
      "outputs": [
        {
          "output_type": "execute_result",
          "data": {
            "text/plain": [
              "area_type          0\n",
              "availability       0\n",
              "location           1\n",
              "size              16\n",
              "society         5502\n",
              "total_sqft         0\n",
              "bath              73\n",
              "balcony          609\n",
              "price              0\n",
              "dtype: int64"
            ]
          },
          "metadata": {},
          "execution_count": 11
        }
      ]
    },
    {
      "cell_type": "markdown",
      "source": [
        "Let's drop columns that are not required for our model:\n",
        "Society as large number of null values. "
      ],
      "metadata": {
        "id": "J02tlPH4PFUS"
      },
      "id": "J02tlPH4PFUS"
    },
    {
      "cell_type": "code",
      "source": [
        "df1 = df.drop(['society'], axis=1)\n",
        "df1.head()"
      ],
      "metadata": {
        "colab": {
          "base_uri": "https://localhost:8080/",
          "height": 206
        },
        "id": "P3XLnxRZPFUS",
        "outputId": "c883872f-59cd-43cf-c3c0-fca9333ffa8d"
      },
      "execution_count": 12,
      "outputs": [
        {
          "output_type": "execute_result",
          "data": {
            "text/plain": [
              "              area_type   availability                  location       size  \\\n",
              "0  Super built-up  Area         19-Dec  Electronic City Phase II      2 BHK   \n",
              "1            Plot  Area  Ready To Move          Chikka Tirupathi  4 Bedroom   \n",
              "2        Built-up  Area  Ready To Move               Uttarahalli      3 BHK   \n",
              "3  Super built-up  Area  Ready To Move        Lingadheeranahalli      3 BHK   \n",
              "4  Super built-up  Area  Ready To Move                  Kothanur      2 BHK   \n",
              "\n",
              "  total_sqft  bath  balcony   price  \n",
              "0       1056   2.0      1.0   39.07  \n",
              "1       2600   5.0      3.0  120.00  \n",
              "2       1440   2.0      3.0   62.00  \n",
              "3       1521   3.0      1.0   95.00  \n",
              "4       1200   2.0      1.0   51.00  "
            ],
            "text/html": [
              "\n",
              "  <div id=\"df-b28b962c-0e86-4bf4-becb-6c6ed3969804\">\n",
              "    <div class=\"colab-df-container\">\n",
              "      <div>\n",
              "<style scoped>\n",
              "    .dataframe tbody tr th:only-of-type {\n",
              "        vertical-align: middle;\n",
              "    }\n",
              "\n",
              "    .dataframe tbody tr th {\n",
              "        vertical-align: top;\n",
              "    }\n",
              "\n",
              "    .dataframe thead th {\n",
              "        text-align: right;\n",
              "    }\n",
              "</style>\n",
              "<table border=\"1\" class=\"dataframe\">\n",
              "  <thead>\n",
              "    <tr style=\"text-align: right;\">\n",
              "      <th></th>\n",
              "      <th>area_type</th>\n",
              "      <th>availability</th>\n",
              "      <th>location</th>\n",
              "      <th>size</th>\n",
              "      <th>total_sqft</th>\n",
              "      <th>bath</th>\n",
              "      <th>balcony</th>\n",
              "      <th>price</th>\n",
              "    </tr>\n",
              "  </thead>\n",
              "  <tbody>\n",
              "    <tr>\n",
              "      <th>0</th>\n",
              "      <td>Super built-up  Area</td>\n",
              "      <td>19-Dec</td>\n",
              "      <td>Electronic City Phase II</td>\n",
              "      <td>2 BHK</td>\n",
              "      <td>1056</td>\n",
              "      <td>2.0</td>\n",
              "      <td>1.0</td>\n",
              "      <td>39.07</td>\n",
              "    </tr>\n",
              "    <tr>\n",
              "      <th>1</th>\n",
              "      <td>Plot  Area</td>\n",
              "      <td>Ready To Move</td>\n",
              "      <td>Chikka Tirupathi</td>\n",
              "      <td>4 Bedroom</td>\n",
              "      <td>2600</td>\n",
              "      <td>5.0</td>\n",
              "      <td>3.0</td>\n",
              "      <td>120.00</td>\n",
              "    </tr>\n",
              "    <tr>\n",
              "      <th>2</th>\n",
              "      <td>Built-up  Area</td>\n",
              "      <td>Ready To Move</td>\n",
              "      <td>Uttarahalli</td>\n",
              "      <td>3 BHK</td>\n",
              "      <td>1440</td>\n",
              "      <td>2.0</td>\n",
              "      <td>3.0</td>\n",
              "      <td>62.00</td>\n",
              "    </tr>\n",
              "    <tr>\n",
              "      <th>3</th>\n",
              "      <td>Super built-up  Area</td>\n",
              "      <td>Ready To Move</td>\n",
              "      <td>Lingadheeranahalli</td>\n",
              "      <td>3 BHK</td>\n",
              "      <td>1521</td>\n",
              "      <td>3.0</td>\n",
              "      <td>1.0</td>\n",
              "      <td>95.00</td>\n",
              "    </tr>\n",
              "    <tr>\n",
              "      <th>4</th>\n",
              "      <td>Super built-up  Area</td>\n",
              "      <td>Ready To Move</td>\n",
              "      <td>Kothanur</td>\n",
              "      <td>2 BHK</td>\n",
              "      <td>1200</td>\n",
              "      <td>2.0</td>\n",
              "      <td>1.0</td>\n",
              "      <td>51.00</td>\n",
              "    </tr>\n",
              "  </tbody>\n",
              "</table>\n",
              "</div>\n",
              "      <button class=\"colab-df-convert\" onclick=\"convertToInteractive('df-b28b962c-0e86-4bf4-becb-6c6ed3969804')\"\n",
              "              title=\"Convert this dataframe to an interactive table.\"\n",
              "              style=\"display:none;\">\n",
              "        \n",
              "  <svg xmlns=\"http://www.w3.org/2000/svg\" height=\"24px\"viewBox=\"0 0 24 24\"\n",
              "       width=\"24px\">\n",
              "    <path d=\"M0 0h24v24H0V0z\" fill=\"none\"/>\n",
              "    <path d=\"M18.56 5.44l.94 2.06.94-2.06 2.06-.94-2.06-.94-.94-2.06-.94 2.06-2.06.94zm-11 1L8.5 8.5l.94-2.06 2.06-.94-2.06-.94L8.5 2.5l-.94 2.06-2.06.94zm10 10l.94 2.06.94-2.06 2.06-.94-2.06-.94-.94-2.06-.94 2.06-2.06.94z\"/><path d=\"M17.41 7.96l-1.37-1.37c-.4-.4-.92-.59-1.43-.59-.52 0-1.04.2-1.43.59L10.3 9.45l-7.72 7.72c-.78.78-.78 2.05 0 2.83L4 21.41c.39.39.9.59 1.41.59.51 0 1.02-.2 1.41-.59l7.78-7.78 2.81-2.81c.8-.78.8-2.07 0-2.86zM5.41 20L4 18.59l7.72-7.72 1.47 1.35L5.41 20z\"/>\n",
              "  </svg>\n",
              "      </button>\n",
              "      \n",
              "  <style>\n",
              "    .colab-df-container {\n",
              "      display:flex;\n",
              "      flex-wrap:wrap;\n",
              "      gap: 12px;\n",
              "    }\n",
              "\n",
              "    .colab-df-convert {\n",
              "      background-color: #E8F0FE;\n",
              "      border: none;\n",
              "      border-radius: 50%;\n",
              "      cursor: pointer;\n",
              "      display: none;\n",
              "      fill: #1967D2;\n",
              "      height: 32px;\n",
              "      padding: 0 0 0 0;\n",
              "      width: 32px;\n",
              "    }\n",
              "\n",
              "    .colab-df-convert:hover {\n",
              "      background-color: #E2EBFA;\n",
              "      box-shadow: 0px 1px 2px rgba(60, 64, 67, 0.3), 0px 1px 3px 1px rgba(60, 64, 67, 0.15);\n",
              "      fill: #174EA6;\n",
              "    }\n",
              "\n",
              "    [theme=dark] .colab-df-convert {\n",
              "      background-color: #3B4455;\n",
              "      fill: #D2E3FC;\n",
              "    }\n",
              "\n",
              "    [theme=dark] .colab-df-convert:hover {\n",
              "      background-color: #434B5C;\n",
              "      box-shadow: 0px 1px 3px 1px rgba(0, 0, 0, 0.15);\n",
              "      filter: drop-shadow(0px 1px 2px rgba(0, 0, 0, 0.3));\n",
              "      fill: #FFFFFF;\n",
              "    }\n",
              "  </style>\n",
              "\n",
              "      <script>\n",
              "        const buttonEl =\n",
              "          document.querySelector('#df-b28b962c-0e86-4bf4-becb-6c6ed3969804 button.colab-df-convert');\n",
              "        buttonEl.style.display =\n",
              "          google.colab.kernel.accessAllowed ? 'block' : 'none';\n",
              "\n",
              "        async function convertToInteractive(key) {\n",
              "          const element = document.querySelector('#df-b28b962c-0e86-4bf4-becb-6c6ed3969804');\n",
              "          const dataTable =\n",
              "            await google.colab.kernel.invokeFunction('convertToInteractive',\n",
              "                                                     [key], {});\n",
              "          if (!dataTable) return;\n",
              "\n",
              "          const docLinkHtml = 'Like what you see? Visit the ' +\n",
              "            '<a target=\"_blank\" href=https://colab.research.google.com/notebooks/data_table.ipynb>data table notebook</a>'\n",
              "            + ' to learn more about interactive tables.';\n",
              "          element.innerHTML = '';\n",
              "          dataTable['output_type'] = 'display_data';\n",
              "          await google.colab.output.renderOutput(dataTable, element);\n",
              "          const docLink = document.createElement('div');\n",
              "          docLink.innerHTML = docLinkHtml;\n",
              "          element.appendChild(docLink);\n",
              "        }\n",
              "      </script>\n",
              "    </div>\n",
              "  </div>\n",
              "  "
            ]
          },
          "metadata": {},
          "execution_count": 12
        }
      ],
      "id": "P3XLnxRZPFUS"
    },
    {
      "cell_type": "code",
      "source": [
        "df1.shape"
      ],
      "metadata": {
        "colab": {
          "base_uri": "https://localhost:8080/"
        },
        "id": "7BTMBEKIPFUT",
        "outputId": "3e5ad302-156e-4849-bf4e-12850b380c03"
      },
      "execution_count": 13,
      "outputs": [
        {
          "output_type": "execute_result",
          "data": {
            "text/plain": [
              "(13320, 8)"
            ]
          },
          "metadata": {},
          "execution_count": 13
        }
      ],
      "id": "7BTMBEKIPFUT"
    },
    {
      "cell_type": "code",
      "source": [
        "df1.info()"
      ],
      "metadata": {
        "colab": {
          "base_uri": "https://localhost:8080/"
        },
        "id": "2QRSIgOtPFUT",
        "outputId": "4159a008-1b03-4c62-e2ea-776ea49e409c"
      },
      "execution_count": 14,
      "outputs": [
        {
          "output_type": "stream",
          "name": "stdout",
          "text": [
            "<class 'pandas.core.frame.DataFrame'>\n",
            "RangeIndex: 13320 entries, 0 to 13319\n",
            "Data columns (total 8 columns):\n",
            " #   Column        Non-Null Count  Dtype  \n",
            "---  ------        --------------  -----  \n",
            " 0   area_type     13320 non-null  object \n",
            " 1   availability  13320 non-null  object \n",
            " 2   location      13319 non-null  object \n",
            " 3   size          13304 non-null  object \n",
            " 4   total_sqft    13320 non-null  object \n",
            " 5   bath          13247 non-null  float64\n",
            " 6   balcony       12711 non-null  float64\n",
            " 7   price         13320 non-null  float64\n",
            "dtypes: float64(3), object(5)\n",
            "memory usage: 832.6+ KB\n"
          ]
        }
      ],
      "id": "2QRSIgOtPFUT"
    },
    {
      "cell_type": "code",
      "source": [
        "df1.isnull().sum()"
      ],
      "metadata": {
        "colab": {
          "base_uri": "https://localhost:8080/"
        },
        "id": "bR65YaUEPFUT",
        "outputId": "e3a5c47a-e5b1-4df7-e24d-3511e3ff8d75"
      },
      "execution_count": 15,
      "outputs": [
        {
          "output_type": "execute_result",
          "data": {
            "text/plain": [
              "area_type         0\n",
              "availability      0\n",
              "location          1\n",
              "size             16\n",
              "total_sqft        0\n",
              "bath             73\n",
              "balcony         609\n",
              "price             0\n",
              "dtype: int64"
            ]
          },
          "metadata": {},
          "execution_count": 15
        }
      ],
      "id": "bR65YaUEPFUT"
    },
    {
      "cell_type": "markdown",
      "source": [
        "Large number of rows in balcony have null values. They can be filled with mode of balcony column."
      ],
      "metadata": {
        "id": "SUJP7aOhL0Oz"
      },
      "id": "SUJP7aOhL0Oz"
    },
    {
      "cell_type": "code",
      "source": [
        "df1['balcony'].fillna(df1['balcony'].mode()[0], inplace=True)"
      ],
      "metadata": {
        "id": "uU86IQhGLzxE"
      },
      "id": "uU86IQhGLzxE",
      "execution_count": 16,
      "outputs": []
    },
    {
      "cell_type": "code",
      "source": [
        "df1.isnull().sum()"
      ],
      "metadata": {
        "colab": {
          "base_uri": "https://localhost:8080/"
        },
        "id": "266RqeBcWc8y",
        "outputId": "6e73a51f-5b1d-4387-f23a-f17588abcd8f"
      },
      "id": "266RqeBcWc8y",
      "execution_count": 17,
      "outputs": [
        {
          "output_type": "execute_result",
          "data": {
            "text/plain": [
              "area_type        0\n",
              "availability     0\n",
              "location         1\n",
              "size            16\n",
              "total_sqft       0\n",
              "bath            73\n",
              "balcony          0\n",
              "price            0\n",
              "dtype: int64"
            ]
          },
          "metadata": {},
          "execution_count": 17
        }
      ]
    },
    {
      "cell_type": "markdown",
      "source": [
        "To avoid less accuracy droping 73 rows out of 13 thousands"
      ],
      "metadata": {
        "id": "5rtgt3gIV8TP"
      },
      "id": "5rtgt3gIV8TP"
    },
    {
      "cell_type": "code",
      "source": [
        " df1.dropna(axis=0,subset=[\"bath\"],inplace=True)"
      ],
      "metadata": {
        "id": "hi7USIFVPFUT"
      },
      "execution_count": 18,
      "outputs": [],
      "id": "hi7USIFVPFUT"
    },
    {
      "cell_type": "code",
      "source": [
        "df1.isnull().sum()"
      ],
      "metadata": {
        "colab": {
          "base_uri": "https://localhost:8080/"
        },
        "id": "GOXOokZcMOkn",
        "outputId": "65105e02-b16b-4d59-e6c7-e52d4da7973f"
      },
      "id": "GOXOokZcMOkn",
      "execution_count": 19,
      "outputs": [
        {
          "output_type": "execute_result",
          "data": {
            "text/plain": [
              "area_type       0\n",
              "availability    0\n",
              "location        1\n",
              "size            0\n",
              "total_sqft      0\n",
              "bath            0\n",
              "balcony         0\n",
              "price           0\n",
              "dtype: int64"
            ]
          },
          "metadata": {},
          "execution_count": 19
        }
      ]
    },
    {
      "cell_type": "code",
      "source": [
        "df1.columns"
      ],
      "metadata": {
        "colab": {
          "base_uri": "https://localhost:8080/"
        },
        "id": "iqo7dCzAVT4U",
        "outputId": "f93602cb-f404-465e-fec3-ca794efa2660"
      },
      "id": "iqo7dCzAVT4U",
      "execution_count": 20,
      "outputs": [
        {
          "output_type": "execute_result",
          "data": {
            "text/plain": [
              "Index(['area_type', 'availability', 'location', 'size', 'total_sqft', 'bath',\n",
              "       'balcony', 'price'],\n",
              "      dtype='object')"
            ]
          },
          "metadata": {},
          "execution_count": 20
        }
      ]
    },
    {
      "cell_type": "code",
      "source": [
        "df1[\"location\"]=df1[\"location\"].fillna(df1[\"location\"].mode()[0])"
      ],
      "metadata": {
        "id": "AnZFKbJ_TA4i"
      },
      "id": "AnZFKbJ_TA4i",
      "execution_count": 21,
      "outputs": []
    },
    {
      "cell_type": "code",
      "source": [
        "df1.isnull().sum()"
      ],
      "metadata": {
        "colab": {
          "base_uri": "https://localhost:8080/"
        },
        "id": "-L-HUJXDU2mr",
        "outputId": "62ec4336-c93b-47e6-e9a6-a1aff2386678"
      },
      "id": "-L-HUJXDU2mr",
      "execution_count": 22,
      "outputs": [
        {
          "output_type": "execute_result",
          "data": {
            "text/plain": [
              "area_type       0\n",
              "availability    0\n",
              "location        0\n",
              "size            0\n",
              "total_sqft      0\n",
              "bath            0\n",
              "balcony         0\n",
              "price           0\n",
              "dtype: int64"
            ]
          },
          "metadata": {},
          "execution_count": 22
        }
      ]
    },
    {
      "cell_type": "code",
      "source": [
        "df1[df1.duplicated()].value_counts()"
      ],
      "metadata": {
        "colab": {
          "base_uri": "https://localhost:8080/"
        },
        "id": "CSaKotDKPFUU",
        "outputId": "ae8f3013-a128-4fad-c351-777abcc65e45"
      },
      "execution_count": 23,
      "outputs": [
        {
          "output_type": "execute_result",
          "data": {
            "text/plain": [
              "area_type             availability   location            size       total_sqft  bath  balcony  price \n",
              "Super built-up  Area  Ready To Move  Haralur Road        2 BHK      1243        2.0   2.0      46.00     15\n",
              "                                     HSR Layout          2 BHK      1140        2.0   2.0      46.00      8\n",
              "Plot  Area            Ready To Move  TC Palaya           3 Bedroom  1200        2.0   0.0      66.00      8\n",
              "Super built-up  Area  Ready To Move  Parappana Agrahara  2 BHK      1194        2.0   2.0      47.00      6\n",
              "Plot  Area            19-Jan         Anekal              2 Bedroom  1200        1.0   1.0      36.00      6\n",
              "                                                                                                         ..\n",
              "Super built-up  Area  Ready To Move  Banashankari        2 BHK      1020        2.0   2.0      40.79      1\n",
              "                                     BEML Layout         2 BHK      1194        2.0   1.0      65.00      1\n",
              "                                     Attibele            2 BHK      656         2.0   1.0      25.00      1\n",
              "                                     Ardendale           4 BHK      2062        3.0   2.0      140.00     1\n",
              "                                     Yeshwanthpur        3 BHK      1855        3.0   3.0      140.00     1\n",
              "Length: 405, dtype: int64"
            ]
          },
          "metadata": {},
          "execution_count": 23
        }
      ],
      "id": "CSaKotDKPFUU"
    },
    {
      "cell_type": "code",
      "source": [
        "len(df1[df1.duplicated()])"
      ],
      "metadata": {
        "scrolled": true,
        "colab": {
          "base_uri": "https://localhost:8080/"
        },
        "id": "B4AKAp8-PFUU",
        "outputId": "660aae56-3abb-4415-c272-7d5c8aaefac1"
      },
      "execution_count": 24,
      "outputs": [
        {
          "output_type": "execute_result",
          "data": {
            "text/plain": [
              "569"
            ]
          },
          "metadata": {},
          "execution_count": 24
        }
      ],
      "id": "B4AKAp8-PFUU"
    },
    {
      "cell_type": "code",
      "source": [
        "df1.loc[(df1.location==\"Haralur Road\") & (df1.price==46.00)]"
      ],
      "metadata": {
        "colab": {
          "base_uri": "https://localhost:8080/",
          "height": 895
        },
        "id": "QoofWDSaPFUU",
        "outputId": "6576ee3e-68c7-45c9-e9f0-6f0e54a91043"
      },
      "execution_count": 25,
      "outputs": [
        {
          "output_type": "execute_result",
          "data": {
            "text/plain": [
              "                  area_type   availability      location   size total_sqft  \\\n",
              "1031   Super built-up  Area  Ready To Move  Haralur Road  2 BHK       1194   \n",
              "1113   Super built-up  Area  Ready To Move  Haralur Road  2 BHK       1243   \n",
              "1823   Super built-up  Area  Ready To Move  Haralur Road  2 BHK       1194   \n",
              "2832   Super built-up  Area  Ready To Move  Haralur Road  2 BHK       1243   \n",
              "3055   Super built-up  Area  Ready To Move  Haralur Road  2 BHK       1243   \n",
              "4445   Super built-up  Area  Ready To Move  Haralur Road  2 BHK       1194   \n",
              "5710   Super built-up  Area  Ready To Move  Haralur Road  2 BHK       1243   \n",
              "5827   Super built-up  Area  Ready To Move  Haralur Road  2 BHK       1243   \n",
              "6040   Super built-up  Area  Ready To Move  Haralur Road  2 BHK       1243   \n",
              "6074   Super built-up  Area  Ready To Move  Haralur Road  2 BHK       1243   \n",
              "7785   Super built-up  Area  Ready To Move  Haralur Road  2 BHK       1194   \n",
              "8131   Super built-up  Area  Ready To Move  Haralur Road  2 BHK       1243   \n",
              "8700   Super built-up  Area  Ready To Move  Haralur Road  2 BHK       1243   \n",
              "8823   Super built-up  Area  Ready To Move  Haralur Road  2 BHK       1194   \n",
              "8989   Super built-up  Area  Ready To Move  Haralur Road  2 BHK       1243   \n",
              "9039   Super built-up  Area  Ready To Move  Haralur Road  2 BHK       1194   \n",
              "9710   Super built-up  Area  Ready To Move  Haralur Road  2 BHK       1243   \n",
              "10121  Super built-up  Area  Ready To Move  Haralur Road  2 BHK       1243   \n",
              "10167  Super built-up  Area  Ready To Move  Haralur Road  2 BHK       1243   \n",
              "10200  Super built-up  Area  Ready To Move  Haralur Road  2 BHK       1243   \n",
              "10556  Super built-up  Area  Ready To Move  Haralur Road  2 BHK       1200   \n",
              "11539  Super built-up  Area  Ready To Move  Haralur Road  2 BHK       1243   \n",
              "11570  Super built-up  Area  Ready To Move  Haralur Road  2 BHK       1243   \n",
              "12137  Super built-up  Area  Ready To Move  Haralur Road  2 BHK       1243   \n",
              "12619  Super built-up  Area  Ready To Move  Haralur Road  2 BHK       1194   \n",
              "12979  Super built-up  Area  Ready To Move  Haralur Road  2 BHK       1200   \n",
              "13054  Super built-up  Area  Ready To Move  Haralur Road  2 BHK       1243   \n",
              "\n",
              "       bath  balcony  price  \n",
              "1031    2.0      2.0   46.0  \n",
              "1113    2.0      1.0   46.0  \n",
              "1823    2.0      2.0   46.0  \n",
              "2832    2.0      2.0   46.0  \n",
              "3055    2.0      2.0   46.0  \n",
              "4445    2.0      2.0   46.0  \n",
              "5710    2.0      2.0   46.0  \n",
              "5827    2.0      2.0   46.0  \n",
              "6040    2.0      2.0   46.0  \n",
              "6074    2.0      2.0   46.0  \n",
              "7785    2.0      2.0   46.0  \n",
              "8131    2.0      2.0   46.0  \n",
              "8700    2.0      2.0   46.0  \n",
              "8823    2.0      2.0   46.0  \n",
              "8989    2.0      2.0   46.0  \n",
              "9039    2.0      2.0   46.0  \n",
              "9710    2.0      1.0   46.0  \n",
              "10121   2.0      2.0   46.0  \n",
              "10167   2.0      2.0   46.0  \n",
              "10200   2.0      2.0   46.0  \n",
              "10556   2.0      2.0   46.0  \n",
              "11539   2.0      2.0   46.0  \n",
              "11570   2.0      2.0   46.0  \n",
              "12137   2.0      2.0   46.0  \n",
              "12619   2.0      2.0   46.0  \n",
              "12979   2.0      2.0   46.0  \n",
              "13054   2.0      2.0   46.0  "
            ],
            "text/html": [
              "\n",
              "  <div id=\"df-1902238c-2412-4eb8-9a48-b8a9485b31f2\">\n",
              "    <div class=\"colab-df-container\">\n",
              "      <div>\n",
              "<style scoped>\n",
              "    .dataframe tbody tr th:only-of-type {\n",
              "        vertical-align: middle;\n",
              "    }\n",
              "\n",
              "    .dataframe tbody tr th {\n",
              "        vertical-align: top;\n",
              "    }\n",
              "\n",
              "    .dataframe thead th {\n",
              "        text-align: right;\n",
              "    }\n",
              "</style>\n",
              "<table border=\"1\" class=\"dataframe\">\n",
              "  <thead>\n",
              "    <tr style=\"text-align: right;\">\n",
              "      <th></th>\n",
              "      <th>area_type</th>\n",
              "      <th>availability</th>\n",
              "      <th>location</th>\n",
              "      <th>size</th>\n",
              "      <th>total_sqft</th>\n",
              "      <th>bath</th>\n",
              "      <th>balcony</th>\n",
              "      <th>price</th>\n",
              "    </tr>\n",
              "  </thead>\n",
              "  <tbody>\n",
              "    <tr>\n",
              "      <th>1031</th>\n",
              "      <td>Super built-up  Area</td>\n",
              "      <td>Ready To Move</td>\n",
              "      <td>Haralur Road</td>\n",
              "      <td>2 BHK</td>\n",
              "      <td>1194</td>\n",
              "      <td>2.0</td>\n",
              "      <td>2.0</td>\n",
              "      <td>46.0</td>\n",
              "    </tr>\n",
              "    <tr>\n",
              "      <th>1113</th>\n",
              "      <td>Super built-up  Area</td>\n",
              "      <td>Ready To Move</td>\n",
              "      <td>Haralur Road</td>\n",
              "      <td>2 BHK</td>\n",
              "      <td>1243</td>\n",
              "      <td>2.0</td>\n",
              "      <td>1.0</td>\n",
              "      <td>46.0</td>\n",
              "    </tr>\n",
              "    <tr>\n",
              "      <th>1823</th>\n",
              "      <td>Super built-up  Area</td>\n",
              "      <td>Ready To Move</td>\n",
              "      <td>Haralur Road</td>\n",
              "      <td>2 BHK</td>\n",
              "      <td>1194</td>\n",
              "      <td>2.0</td>\n",
              "      <td>2.0</td>\n",
              "      <td>46.0</td>\n",
              "    </tr>\n",
              "    <tr>\n",
              "      <th>2832</th>\n",
              "      <td>Super built-up  Area</td>\n",
              "      <td>Ready To Move</td>\n",
              "      <td>Haralur Road</td>\n",
              "      <td>2 BHK</td>\n",
              "      <td>1243</td>\n",
              "      <td>2.0</td>\n",
              "      <td>2.0</td>\n",
              "      <td>46.0</td>\n",
              "    </tr>\n",
              "    <tr>\n",
              "      <th>3055</th>\n",
              "      <td>Super built-up  Area</td>\n",
              "      <td>Ready To Move</td>\n",
              "      <td>Haralur Road</td>\n",
              "      <td>2 BHK</td>\n",
              "      <td>1243</td>\n",
              "      <td>2.0</td>\n",
              "      <td>2.0</td>\n",
              "      <td>46.0</td>\n",
              "    </tr>\n",
              "    <tr>\n",
              "      <th>4445</th>\n",
              "      <td>Super built-up  Area</td>\n",
              "      <td>Ready To Move</td>\n",
              "      <td>Haralur Road</td>\n",
              "      <td>2 BHK</td>\n",
              "      <td>1194</td>\n",
              "      <td>2.0</td>\n",
              "      <td>2.0</td>\n",
              "      <td>46.0</td>\n",
              "    </tr>\n",
              "    <tr>\n",
              "      <th>5710</th>\n",
              "      <td>Super built-up  Area</td>\n",
              "      <td>Ready To Move</td>\n",
              "      <td>Haralur Road</td>\n",
              "      <td>2 BHK</td>\n",
              "      <td>1243</td>\n",
              "      <td>2.0</td>\n",
              "      <td>2.0</td>\n",
              "      <td>46.0</td>\n",
              "    </tr>\n",
              "    <tr>\n",
              "      <th>5827</th>\n",
              "      <td>Super built-up  Area</td>\n",
              "      <td>Ready To Move</td>\n",
              "      <td>Haralur Road</td>\n",
              "      <td>2 BHK</td>\n",
              "      <td>1243</td>\n",
              "      <td>2.0</td>\n",
              "      <td>2.0</td>\n",
              "      <td>46.0</td>\n",
              "    </tr>\n",
              "    <tr>\n",
              "      <th>6040</th>\n",
              "      <td>Super built-up  Area</td>\n",
              "      <td>Ready To Move</td>\n",
              "      <td>Haralur Road</td>\n",
              "      <td>2 BHK</td>\n",
              "      <td>1243</td>\n",
              "      <td>2.0</td>\n",
              "      <td>2.0</td>\n",
              "      <td>46.0</td>\n",
              "    </tr>\n",
              "    <tr>\n",
              "      <th>6074</th>\n",
              "      <td>Super built-up  Area</td>\n",
              "      <td>Ready To Move</td>\n",
              "      <td>Haralur Road</td>\n",
              "      <td>2 BHK</td>\n",
              "      <td>1243</td>\n",
              "      <td>2.0</td>\n",
              "      <td>2.0</td>\n",
              "      <td>46.0</td>\n",
              "    </tr>\n",
              "    <tr>\n",
              "      <th>7785</th>\n",
              "      <td>Super built-up  Area</td>\n",
              "      <td>Ready To Move</td>\n",
              "      <td>Haralur Road</td>\n",
              "      <td>2 BHK</td>\n",
              "      <td>1194</td>\n",
              "      <td>2.0</td>\n",
              "      <td>2.0</td>\n",
              "      <td>46.0</td>\n",
              "    </tr>\n",
              "    <tr>\n",
              "      <th>8131</th>\n",
              "      <td>Super built-up  Area</td>\n",
              "      <td>Ready To Move</td>\n",
              "      <td>Haralur Road</td>\n",
              "      <td>2 BHK</td>\n",
              "      <td>1243</td>\n",
              "      <td>2.0</td>\n",
              "      <td>2.0</td>\n",
              "      <td>46.0</td>\n",
              "    </tr>\n",
              "    <tr>\n",
              "      <th>8700</th>\n",
              "      <td>Super built-up  Area</td>\n",
              "      <td>Ready To Move</td>\n",
              "      <td>Haralur Road</td>\n",
              "      <td>2 BHK</td>\n",
              "      <td>1243</td>\n",
              "      <td>2.0</td>\n",
              "      <td>2.0</td>\n",
              "      <td>46.0</td>\n",
              "    </tr>\n",
              "    <tr>\n",
              "      <th>8823</th>\n",
              "      <td>Super built-up  Area</td>\n",
              "      <td>Ready To Move</td>\n",
              "      <td>Haralur Road</td>\n",
              "      <td>2 BHK</td>\n",
              "      <td>1194</td>\n",
              "      <td>2.0</td>\n",
              "      <td>2.0</td>\n",
              "      <td>46.0</td>\n",
              "    </tr>\n",
              "    <tr>\n",
              "      <th>8989</th>\n",
              "      <td>Super built-up  Area</td>\n",
              "      <td>Ready To Move</td>\n",
              "      <td>Haralur Road</td>\n",
              "      <td>2 BHK</td>\n",
              "      <td>1243</td>\n",
              "      <td>2.0</td>\n",
              "      <td>2.0</td>\n",
              "      <td>46.0</td>\n",
              "    </tr>\n",
              "    <tr>\n",
              "      <th>9039</th>\n",
              "      <td>Super built-up  Area</td>\n",
              "      <td>Ready To Move</td>\n",
              "      <td>Haralur Road</td>\n",
              "      <td>2 BHK</td>\n",
              "      <td>1194</td>\n",
              "      <td>2.0</td>\n",
              "      <td>2.0</td>\n",
              "      <td>46.0</td>\n",
              "    </tr>\n",
              "    <tr>\n",
              "      <th>9710</th>\n",
              "      <td>Super built-up  Area</td>\n",
              "      <td>Ready To Move</td>\n",
              "      <td>Haralur Road</td>\n",
              "      <td>2 BHK</td>\n",
              "      <td>1243</td>\n",
              "      <td>2.0</td>\n",
              "      <td>1.0</td>\n",
              "      <td>46.0</td>\n",
              "    </tr>\n",
              "    <tr>\n",
              "      <th>10121</th>\n",
              "      <td>Super built-up  Area</td>\n",
              "      <td>Ready To Move</td>\n",
              "      <td>Haralur Road</td>\n",
              "      <td>2 BHK</td>\n",
              "      <td>1243</td>\n",
              "      <td>2.0</td>\n",
              "      <td>2.0</td>\n",
              "      <td>46.0</td>\n",
              "    </tr>\n",
              "    <tr>\n",
              "      <th>10167</th>\n",
              "      <td>Super built-up  Area</td>\n",
              "      <td>Ready To Move</td>\n",
              "      <td>Haralur Road</td>\n",
              "      <td>2 BHK</td>\n",
              "      <td>1243</td>\n",
              "      <td>2.0</td>\n",
              "      <td>2.0</td>\n",
              "      <td>46.0</td>\n",
              "    </tr>\n",
              "    <tr>\n",
              "      <th>10200</th>\n",
              "      <td>Super built-up  Area</td>\n",
              "      <td>Ready To Move</td>\n",
              "      <td>Haralur Road</td>\n",
              "      <td>2 BHK</td>\n",
              "      <td>1243</td>\n",
              "      <td>2.0</td>\n",
              "      <td>2.0</td>\n",
              "      <td>46.0</td>\n",
              "    </tr>\n",
              "    <tr>\n",
              "      <th>10556</th>\n",
              "      <td>Super built-up  Area</td>\n",
              "      <td>Ready To Move</td>\n",
              "      <td>Haralur Road</td>\n",
              "      <td>2 BHK</td>\n",
              "      <td>1200</td>\n",
              "      <td>2.0</td>\n",
              "      <td>2.0</td>\n",
              "      <td>46.0</td>\n",
              "    </tr>\n",
              "    <tr>\n",
              "      <th>11539</th>\n",
              "      <td>Super built-up  Area</td>\n",
              "      <td>Ready To Move</td>\n",
              "      <td>Haralur Road</td>\n",
              "      <td>2 BHK</td>\n",
              "      <td>1243</td>\n",
              "      <td>2.0</td>\n",
              "      <td>2.0</td>\n",
              "      <td>46.0</td>\n",
              "    </tr>\n",
              "    <tr>\n",
              "      <th>11570</th>\n",
              "      <td>Super built-up  Area</td>\n",
              "      <td>Ready To Move</td>\n",
              "      <td>Haralur Road</td>\n",
              "      <td>2 BHK</td>\n",
              "      <td>1243</td>\n",
              "      <td>2.0</td>\n",
              "      <td>2.0</td>\n",
              "      <td>46.0</td>\n",
              "    </tr>\n",
              "    <tr>\n",
              "      <th>12137</th>\n",
              "      <td>Super built-up  Area</td>\n",
              "      <td>Ready To Move</td>\n",
              "      <td>Haralur Road</td>\n",
              "      <td>2 BHK</td>\n",
              "      <td>1243</td>\n",
              "      <td>2.0</td>\n",
              "      <td>2.0</td>\n",
              "      <td>46.0</td>\n",
              "    </tr>\n",
              "    <tr>\n",
              "      <th>12619</th>\n",
              "      <td>Super built-up  Area</td>\n",
              "      <td>Ready To Move</td>\n",
              "      <td>Haralur Road</td>\n",
              "      <td>2 BHK</td>\n",
              "      <td>1194</td>\n",
              "      <td>2.0</td>\n",
              "      <td>2.0</td>\n",
              "      <td>46.0</td>\n",
              "    </tr>\n",
              "    <tr>\n",
              "      <th>12979</th>\n",
              "      <td>Super built-up  Area</td>\n",
              "      <td>Ready To Move</td>\n",
              "      <td>Haralur Road</td>\n",
              "      <td>2 BHK</td>\n",
              "      <td>1200</td>\n",
              "      <td>2.0</td>\n",
              "      <td>2.0</td>\n",
              "      <td>46.0</td>\n",
              "    </tr>\n",
              "    <tr>\n",
              "      <th>13054</th>\n",
              "      <td>Super built-up  Area</td>\n",
              "      <td>Ready To Move</td>\n",
              "      <td>Haralur Road</td>\n",
              "      <td>2 BHK</td>\n",
              "      <td>1243</td>\n",
              "      <td>2.0</td>\n",
              "      <td>2.0</td>\n",
              "      <td>46.0</td>\n",
              "    </tr>\n",
              "  </tbody>\n",
              "</table>\n",
              "</div>\n",
              "      <button class=\"colab-df-convert\" onclick=\"convertToInteractive('df-1902238c-2412-4eb8-9a48-b8a9485b31f2')\"\n",
              "              title=\"Convert this dataframe to an interactive table.\"\n",
              "              style=\"display:none;\">\n",
              "        \n",
              "  <svg xmlns=\"http://www.w3.org/2000/svg\" height=\"24px\"viewBox=\"0 0 24 24\"\n",
              "       width=\"24px\">\n",
              "    <path d=\"M0 0h24v24H0V0z\" fill=\"none\"/>\n",
              "    <path d=\"M18.56 5.44l.94 2.06.94-2.06 2.06-.94-2.06-.94-.94-2.06-.94 2.06-2.06.94zm-11 1L8.5 8.5l.94-2.06 2.06-.94-2.06-.94L8.5 2.5l-.94 2.06-2.06.94zm10 10l.94 2.06.94-2.06 2.06-.94-2.06-.94-.94-2.06-.94 2.06-2.06.94z\"/><path d=\"M17.41 7.96l-1.37-1.37c-.4-.4-.92-.59-1.43-.59-.52 0-1.04.2-1.43.59L10.3 9.45l-7.72 7.72c-.78.78-.78 2.05 0 2.83L4 21.41c.39.39.9.59 1.41.59.51 0 1.02-.2 1.41-.59l7.78-7.78 2.81-2.81c.8-.78.8-2.07 0-2.86zM5.41 20L4 18.59l7.72-7.72 1.47 1.35L5.41 20z\"/>\n",
              "  </svg>\n",
              "      </button>\n",
              "      \n",
              "  <style>\n",
              "    .colab-df-container {\n",
              "      display:flex;\n",
              "      flex-wrap:wrap;\n",
              "      gap: 12px;\n",
              "    }\n",
              "\n",
              "    .colab-df-convert {\n",
              "      background-color: #E8F0FE;\n",
              "      border: none;\n",
              "      border-radius: 50%;\n",
              "      cursor: pointer;\n",
              "      display: none;\n",
              "      fill: #1967D2;\n",
              "      height: 32px;\n",
              "      padding: 0 0 0 0;\n",
              "      width: 32px;\n",
              "    }\n",
              "\n",
              "    .colab-df-convert:hover {\n",
              "      background-color: #E2EBFA;\n",
              "      box-shadow: 0px 1px 2px rgba(60, 64, 67, 0.3), 0px 1px 3px 1px rgba(60, 64, 67, 0.15);\n",
              "      fill: #174EA6;\n",
              "    }\n",
              "\n",
              "    [theme=dark] .colab-df-convert {\n",
              "      background-color: #3B4455;\n",
              "      fill: #D2E3FC;\n",
              "    }\n",
              "\n",
              "    [theme=dark] .colab-df-convert:hover {\n",
              "      background-color: #434B5C;\n",
              "      box-shadow: 0px 1px 3px 1px rgba(0, 0, 0, 0.15);\n",
              "      filter: drop-shadow(0px 1px 2px rgba(0, 0, 0, 0.3));\n",
              "      fill: #FFFFFF;\n",
              "    }\n",
              "  </style>\n",
              "\n",
              "      <script>\n",
              "        const buttonEl =\n",
              "          document.querySelector('#df-1902238c-2412-4eb8-9a48-b8a9485b31f2 button.colab-df-convert');\n",
              "        buttonEl.style.display =\n",
              "          google.colab.kernel.accessAllowed ? 'block' : 'none';\n",
              "\n",
              "        async function convertToInteractive(key) {\n",
              "          const element = document.querySelector('#df-1902238c-2412-4eb8-9a48-b8a9485b31f2');\n",
              "          const dataTable =\n",
              "            await google.colab.kernel.invokeFunction('convertToInteractive',\n",
              "                                                     [key], {});\n",
              "          if (!dataTable) return;\n",
              "\n",
              "          const docLinkHtml = 'Like what you see? Visit the ' +\n",
              "            '<a target=\"_blank\" href=https://colab.research.google.com/notebooks/data_table.ipynb>data table notebook</a>'\n",
              "            + ' to learn more about interactive tables.';\n",
              "          element.innerHTML = '';\n",
              "          dataTable['output_type'] = 'display_data';\n",
              "          await google.colab.output.renderOutput(dataTable, element);\n",
              "          const docLink = document.createElement('div');\n",
              "          docLink.innerHTML = docLinkHtml;\n",
              "          element.appendChild(docLink);\n",
              "        }\n",
              "      </script>\n",
              "    </div>\n",
              "  </div>\n",
              "  "
            ]
          },
          "metadata": {},
          "execution_count": 25
        }
      ],
      "id": "QoofWDSaPFUU"
    },
    {
      "cell_type": "markdown",
      "source": [
        "Let's drop duplicate rows:"
      ],
      "metadata": {
        "id": "qMsQLsbTPFUV"
      },
      "id": "qMsQLsbTPFUV"
    },
    {
      "cell_type": "code",
      "source": [
        "df1.drop(df1[df1.duplicated()].index, axis=0, inplace=True)"
      ],
      "metadata": {
        "id": "Q-0OdWkNPFUV"
      },
      "execution_count": 26,
      "outputs": [],
      "id": "Q-0OdWkNPFUV"
    },
    {
      "cell_type": "markdown",
      "source": [
        "dropped 569 duplicate rows"
      ],
      "metadata": {
        "id": "9o-_-bH4PFUV"
      },
      "id": "9o-_-bH4PFUV"
    },
    {
      "cell_type": "code",
      "source": [
        "df1.shape"
      ],
      "metadata": {
        "colab": {
          "base_uri": "https://localhost:8080/"
        },
        "id": "4oNEGOSTPFUV",
        "outputId": "8c056374-c638-4757-9637-42365b365d8e"
      },
      "execution_count": 27,
      "outputs": [
        {
          "output_type": "execute_result",
          "data": {
            "text/plain": [
              "(12678, 8)"
            ]
          },
          "metadata": {},
          "execution_count": 27
        }
      ],
      "id": "4oNEGOSTPFUV"
    },
    {
      "cell_type": "code",
      "source": [
        "len(df1[df1.duplicated()])"
      ],
      "metadata": {
        "colab": {
          "base_uri": "https://localhost:8080/"
        },
        "id": "g-rwFGO0PFUW",
        "outputId": "8dfe1540-810b-41a5-a177-e017a0d38335"
      },
      "execution_count": 28,
      "outputs": [
        {
          "output_type": "execute_result",
          "data": {
            "text/plain": [
              "0"
            ]
          },
          "metadata": {},
          "execution_count": 28
        }
      ],
      "id": "g-rwFGO0PFUW"
    },
    {
      "cell_type": "code",
      "source": [
        "df1.isnull().sum()"
      ],
      "metadata": {
        "colab": {
          "base_uri": "https://localhost:8080/"
        },
        "id": "Yicq-YK6PFUW",
        "outputId": "60dbbb41-fcbd-4812-fe0c-bf3beaff3b60"
      },
      "execution_count": 29,
      "outputs": [
        {
          "output_type": "execute_result",
          "data": {
            "text/plain": [
              "area_type       0\n",
              "availability    0\n",
              "location        0\n",
              "size            0\n",
              "total_sqft      0\n",
              "bath            0\n",
              "balcony         0\n",
              "price           0\n",
              "dtype: int64"
            ]
          },
          "metadata": {},
          "execution_count": 29
        }
      ],
      "id": "Yicq-YK6PFUW"
    },
    {
      "cell_type": "code",
      "source": [
        "df1.head()"
      ],
      "metadata": {
        "scrolled": true,
        "colab": {
          "base_uri": "https://localhost:8080/",
          "height": 206
        },
        "id": "Qu2g2o9xPFUW",
        "outputId": "53be65ac-323f-42c0-ba90-9a8b4436e662"
      },
      "execution_count": 30,
      "outputs": [
        {
          "output_type": "execute_result",
          "data": {
            "text/plain": [
              "              area_type   availability                  location       size  \\\n",
              "0  Super built-up  Area         19-Dec  Electronic City Phase II      2 BHK   \n",
              "1            Plot  Area  Ready To Move          Chikka Tirupathi  4 Bedroom   \n",
              "2        Built-up  Area  Ready To Move               Uttarahalli      3 BHK   \n",
              "3  Super built-up  Area  Ready To Move        Lingadheeranahalli      3 BHK   \n",
              "4  Super built-up  Area  Ready To Move                  Kothanur      2 BHK   \n",
              "\n",
              "  total_sqft  bath  balcony   price  \n",
              "0       1056   2.0      1.0   39.07  \n",
              "1       2600   5.0      3.0  120.00  \n",
              "2       1440   2.0      3.0   62.00  \n",
              "3       1521   3.0      1.0   95.00  \n",
              "4       1200   2.0      1.0   51.00  "
            ],
            "text/html": [
              "\n",
              "  <div id=\"df-965dff88-6ce8-47ba-8abb-ef42b6af6de9\">\n",
              "    <div class=\"colab-df-container\">\n",
              "      <div>\n",
              "<style scoped>\n",
              "    .dataframe tbody tr th:only-of-type {\n",
              "        vertical-align: middle;\n",
              "    }\n",
              "\n",
              "    .dataframe tbody tr th {\n",
              "        vertical-align: top;\n",
              "    }\n",
              "\n",
              "    .dataframe thead th {\n",
              "        text-align: right;\n",
              "    }\n",
              "</style>\n",
              "<table border=\"1\" class=\"dataframe\">\n",
              "  <thead>\n",
              "    <tr style=\"text-align: right;\">\n",
              "      <th></th>\n",
              "      <th>area_type</th>\n",
              "      <th>availability</th>\n",
              "      <th>location</th>\n",
              "      <th>size</th>\n",
              "      <th>total_sqft</th>\n",
              "      <th>bath</th>\n",
              "      <th>balcony</th>\n",
              "      <th>price</th>\n",
              "    </tr>\n",
              "  </thead>\n",
              "  <tbody>\n",
              "    <tr>\n",
              "      <th>0</th>\n",
              "      <td>Super built-up  Area</td>\n",
              "      <td>19-Dec</td>\n",
              "      <td>Electronic City Phase II</td>\n",
              "      <td>2 BHK</td>\n",
              "      <td>1056</td>\n",
              "      <td>2.0</td>\n",
              "      <td>1.0</td>\n",
              "      <td>39.07</td>\n",
              "    </tr>\n",
              "    <tr>\n",
              "      <th>1</th>\n",
              "      <td>Plot  Area</td>\n",
              "      <td>Ready To Move</td>\n",
              "      <td>Chikka Tirupathi</td>\n",
              "      <td>4 Bedroom</td>\n",
              "      <td>2600</td>\n",
              "      <td>5.0</td>\n",
              "      <td>3.0</td>\n",
              "      <td>120.00</td>\n",
              "    </tr>\n",
              "    <tr>\n",
              "      <th>2</th>\n",
              "      <td>Built-up  Area</td>\n",
              "      <td>Ready To Move</td>\n",
              "      <td>Uttarahalli</td>\n",
              "      <td>3 BHK</td>\n",
              "      <td>1440</td>\n",
              "      <td>2.0</td>\n",
              "      <td>3.0</td>\n",
              "      <td>62.00</td>\n",
              "    </tr>\n",
              "    <tr>\n",
              "      <th>3</th>\n",
              "      <td>Super built-up  Area</td>\n",
              "      <td>Ready To Move</td>\n",
              "      <td>Lingadheeranahalli</td>\n",
              "      <td>3 BHK</td>\n",
              "      <td>1521</td>\n",
              "      <td>3.0</td>\n",
              "      <td>1.0</td>\n",
              "      <td>95.00</td>\n",
              "    </tr>\n",
              "    <tr>\n",
              "      <th>4</th>\n",
              "      <td>Super built-up  Area</td>\n",
              "      <td>Ready To Move</td>\n",
              "      <td>Kothanur</td>\n",
              "      <td>2 BHK</td>\n",
              "      <td>1200</td>\n",
              "      <td>2.0</td>\n",
              "      <td>1.0</td>\n",
              "      <td>51.00</td>\n",
              "    </tr>\n",
              "  </tbody>\n",
              "</table>\n",
              "</div>\n",
              "      <button class=\"colab-df-convert\" onclick=\"convertToInteractive('df-965dff88-6ce8-47ba-8abb-ef42b6af6de9')\"\n",
              "              title=\"Convert this dataframe to an interactive table.\"\n",
              "              style=\"display:none;\">\n",
              "        \n",
              "  <svg xmlns=\"http://www.w3.org/2000/svg\" height=\"24px\"viewBox=\"0 0 24 24\"\n",
              "       width=\"24px\">\n",
              "    <path d=\"M0 0h24v24H0V0z\" fill=\"none\"/>\n",
              "    <path d=\"M18.56 5.44l.94 2.06.94-2.06 2.06-.94-2.06-.94-.94-2.06-.94 2.06-2.06.94zm-11 1L8.5 8.5l.94-2.06 2.06-.94-2.06-.94L8.5 2.5l-.94 2.06-2.06.94zm10 10l.94 2.06.94-2.06 2.06-.94-2.06-.94-.94-2.06-.94 2.06-2.06.94z\"/><path d=\"M17.41 7.96l-1.37-1.37c-.4-.4-.92-.59-1.43-.59-.52 0-1.04.2-1.43.59L10.3 9.45l-7.72 7.72c-.78.78-.78 2.05 0 2.83L4 21.41c.39.39.9.59 1.41.59.51 0 1.02-.2 1.41-.59l7.78-7.78 2.81-2.81c.8-.78.8-2.07 0-2.86zM5.41 20L4 18.59l7.72-7.72 1.47 1.35L5.41 20z\"/>\n",
              "  </svg>\n",
              "      </button>\n",
              "      \n",
              "  <style>\n",
              "    .colab-df-container {\n",
              "      display:flex;\n",
              "      flex-wrap:wrap;\n",
              "      gap: 12px;\n",
              "    }\n",
              "\n",
              "    .colab-df-convert {\n",
              "      background-color: #E8F0FE;\n",
              "      border: none;\n",
              "      border-radius: 50%;\n",
              "      cursor: pointer;\n",
              "      display: none;\n",
              "      fill: #1967D2;\n",
              "      height: 32px;\n",
              "      padding: 0 0 0 0;\n",
              "      width: 32px;\n",
              "    }\n",
              "\n",
              "    .colab-df-convert:hover {\n",
              "      background-color: #E2EBFA;\n",
              "      box-shadow: 0px 1px 2px rgba(60, 64, 67, 0.3), 0px 1px 3px 1px rgba(60, 64, 67, 0.15);\n",
              "      fill: #174EA6;\n",
              "    }\n",
              "\n",
              "    [theme=dark] .colab-df-convert {\n",
              "      background-color: #3B4455;\n",
              "      fill: #D2E3FC;\n",
              "    }\n",
              "\n",
              "    [theme=dark] .colab-df-convert:hover {\n",
              "      background-color: #434B5C;\n",
              "      box-shadow: 0px 1px 3px 1px rgba(0, 0, 0, 0.15);\n",
              "      filter: drop-shadow(0px 1px 2px rgba(0, 0, 0, 0.3));\n",
              "      fill: #FFFFFF;\n",
              "    }\n",
              "  </style>\n",
              "\n",
              "      <script>\n",
              "        const buttonEl =\n",
              "          document.querySelector('#df-965dff88-6ce8-47ba-8abb-ef42b6af6de9 button.colab-df-convert');\n",
              "        buttonEl.style.display =\n",
              "          google.colab.kernel.accessAllowed ? 'block' : 'none';\n",
              "\n",
              "        async function convertToInteractive(key) {\n",
              "          const element = document.querySelector('#df-965dff88-6ce8-47ba-8abb-ef42b6af6de9');\n",
              "          const dataTable =\n",
              "            await google.colab.kernel.invokeFunction('convertToInteractive',\n",
              "                                                     [key], {});\n",
              "          if (!dataTable) return;\n",
              "\n",
              "          const docLinkHtml = 'Like what you see? Visit the ' +\n",
              "            '<a target=\"_blank\" href=https://colab.research.google.com/notebooks/data_table.ipynb>data table notebook</a>'\n",
              "            + ' to learn more about interactive tables.';\n",
              "          element.innerHTML = '';\n",
              "          dataTable['output_type'] = 'display_data';\n",
              "          await google.colab.output.renderOutput(dataTable, element);\n",
              "          const docLink = document.createElement('div');\n",
              "          docLink.innerHTML = docLinkHtml;\n",
              "          element.appendChild(docLink);\n",
              "        }\n",
              "      </script>\n",
              "    </div>\n",
              "  </div>\n",
              "  "
            ]
          },
          "metadata": {},
          "execution_count": 30
        }
      ],
      "id": "Qu2g2o9xPFUW"
    },
    {
      "cell_type": "markdown",
      "source": [
        "## Handling columns"
      ],
      "metadata": {
        "id": "KftXBy87PFUW"
      },
      "id": "KftXBy87PFUW"
    },
    {
      "cell_type": "code",
      "source": [
        "for i in df1.columns:\n",
        "   print(f\"******{i}******\")\n",
        "   print(\"unique values: \", df1[i].unique())\n",
        "   print(\"\")"
      ],
      "metadata": {
        "colab": {
          "base_uri": "https://localhost:8080/"
        },
        "id": "XGp8A2u6PFUW",
        "outputId": "b75383fa-6e21-4df5-8636-6f4a8a963c1e"
      },
      "execution_count": 31,
      "outputs": [
        {
          "output_type": "stream",
          "name": "stdout",
          "text": [
            "******area_type******\n",
            "unique values:  ['Super built-up  Area' 'Plot  Area' 'Built-up  Area' 'Carpet  Area']\n",
            "\n",
            "******availability******\n",
            "unique values:  ['19-Dec' 'Ready To Move' '18-May' '18-Feb' '18-Nov' '20-Dec' '17-Oct'\n",
            " '21-Dec' '19-Sep' '20-Sep' '18-Mar' '18-Apr' '20-Aug' '19-Mar' '17-Sep'\n",
            " '18-Dec' '17-Aug' '19-Apr' '18-Jun' '22-Dec' '22-Jan' '18-Aug' '19-Jan'\n",
            " '17-Jul' '18-Jul' '21-Jun' '20-May' '19-Aug' '18-Sep' '17-May' '17-Jun'\n",
            " '18-Oct' '21-May' '18-Jan' '20-Mar' '17-Dec' '16-Mar' '19-Jun' '22-Jun'\n",
            " '19-Jul' '21-Feb' '19-May' '17-Nov' '20-Oct' '20-Jun' '19-Feb' '21-Oct'\n",
            " '21-Jan' '17-Mar' '17-Apr' '22-May' '19-Oct' '21-Jul' '21-Nov' '21-Mar'\n",
            " '16-Dec' '22-Mar' '20-Jan' '21-Sep' '21-Aug' '14-Nov' '19-Nov' '15-Nov'\n",
            " '16-Jul' '15-Jun' '17-Feb' '20-Nov' '20-Jul' '16-Sep' '15-Oct' '20-Feb'\n",
            " '15-Dec' '16-Oct' '22-Nov' '15-Aug' '17-Jan' '16-Nov' '20-Apr' '16-Jan'\n",
            " '14-Jul']\n",
            "\n",
            "******location******\n",
            "unique values:  ['Electronic City Phase II' 'Chikka Tirupathi' 'Uttarahalli' ...\n",
            " '12th cross srinivas nagar banshankari 3rd stage' 'Havanur extension'\n",
            " 'Abshot Layout']\n",
            "\n",
            "******size******\n",
            "unique values:  ['2 BHK' '4 Bedroom' '3 BHK' '4 BHK' '6 Bedroom' '3 Bedroom' '1 BHK'\n",
            " '1 RK' '1 Bedroom' '8 Bedroom' '2 Bedroom' '7 Bedroom' '5 BHK' '7 BHK'\n",
            " '6 BHK' '5 Bedroom' '11 BHK' '9 BHK' '9 Bedroom' '27 BHK' '10 Bedroom'\n",
            " '11 Bedroom' '10 BHK' '19 BHK' '16 BHK' '43 Bedroom' '14 BHK' '8 BHK'\n",
            " '12 Bedroom' '13 BHK' '18 Bedroom']\n",
            "\n",
            "******total_sqft******\n",
            "unique values:  ['1056' '2600' '1440' ... '1133 - 1384' '774' '4689']\n",
            "\n",
            "******bath******\n",
            "unique values:  [ 2.  5.  3.  4.  6.  1.  9.  8.  7. 11. 10. 14. 27. 12. 16. 40. 15. 13.\n",
            " 18.]\n",
            "\n",
            "******balcony******\n",
            "unique values:  [1. 3. 2. 0.]\n",
            "\n",
            "******price******\n",
            "unique values:  [ 39.07 120.    62.   ...  40.14 231.   488.  ]\n",
            "\n"
          ]
        }
      ],
      "id": "XGp8A2u6PFUW"
    },
    {
      "cell_type": "markdown",
      "source": [
        "Availability doesn't seems to be an important feature. Thus, it can be dropped from original DataFrame."
      ],
      "metadata": {
        "id": "CM83Jr6jMxeY"
      },
      "id": "CM83Jr6jMxeY"
    },
    {
      "cell_type": "code",
      "source": [
        "df1 = df1.drop([\"availability\"], axis = 1)"
      ],
      "metadata": {
        "id": "hhJ408xUM39j"
      },
      "id": "hhJ408xUM39j",
      "execution_count": 32,
      "outputs": []
    },
    {
      "cell_type": "markdown",
      "source": [
        "In size column we can note that '4 Bedroom','4 BHK' are same likewise '9 BHK' '9 Bedroom' are also same and so on"
      ],
      "metadata": {
        "id": "WjklAfyYYbfs"
      },
      "id": "WjklAfyYYbfs"
    },
    {
      "cell_type": "markdown",
      "source": [
        "### Handling \"size\" column"
      ],
      "metadata": {
        "id": "2YtQ--w3PFUX"
      },
      "id": "2YtQ--w3PFUX"
    },
    {
      "cell_type": "markdown",
      "source": [
        "Let's drop the nonnumerical values in the size column, and show it in a different column:"
      ],
      "metadata": {
        "id": "OE8qgs-mPFUX"
      },
      "id": "OE8qgs-mPFUX"
    },
    {
      "cell_type": "code",
      "source": [
        "df1['Bedrooms'] = df1['size'].apply(lambda x: int(x.split(' ')[0]))"
      ],
      "metadata": {
        "id": "GZGeUu-MPFUX"
      },
      "execution_count": 33,
      "outputs": [],
      "id": "GZGeUu-MPFUX"
    },
    {
      "cell_type": "code",
      "source": [
        "df1.head()"
      ],
      "metadata": {
        "colab": {
          "base_uri": "https://localhost:8080/",
          "height": 206
        },
        "id": "yIuyWG47PFUX",
        "outputId": "3e02107b-1a41-4299-eb60-38deb68001e3"
      },
      "execution_count": 34,
      "outputs": [
        {
          "output_type": "execute_result",
          "data": {
            "text/plain": [
              "              area_type                  location       size total_sqft  bath  \\\n",
              "0  Super built-up  Area  Electronic City Phase II      2 BHK       1056   2.0   \n",
              "1            Plot  Area          Chikka Tirupathi  4 Bedroom       2600   5.0   \n",
              "2        Built-up  Area               Uttarahalli      3 BHK       1440   2.0   \n",
              "3  Super built-up  Area        Lingadheeranahalli      3 BHK       1521   3.0   \n",
              "4  Super built-up  Area                  Kothanur      2 BHK       1200   2.0   \n",
              "\n",
              "   balcony   price  Bedrooms  \n",
              "0      1.0   39.07         2  \n",
              "1      3.0  120.00         4  \n",
              "2      3.0   62.00         3  \n",
              "3      1.0   95.00         3  \n",
              "4      1.0   51.00         2  "
            ],
            "text/html": [
              "\n",
              "  <div id=\"df-897ffe13-7d79-4957-9351-3a43ceb6a6ea\">\n",
              "    <div class=\"colab-df-container\">\n",
              "      <div>\n",
              "<style scoped>\n",
              "    .dataframe tbody tr th:only-of-type {\n",
              "        vertical-align: middle;\n",
              "    }\n",
              "\n",
              "    .dataframe tbody tr th {\n",
              "        vertical-align: top;\n",
              "    }\n",
              "\n",
              "    .dataframe thead th {\n",
              "        text-align: right;\n",
              "    }\n",
              "</style>\n",
              "<table border=\"1\" class=\"dataframe\">\n",
              "  <thead>\n",
              "    <tr style=\"text-align: right;\">\n",
              "      <th></th>\n",
              "      <th>area_type</th>\n",
              "      <th>location</th>\n",
              "      <th>size</th>\n",
              "      <th>total_sqft</th>\n",
              "      <th>bath</th>\n",
              "      <th>balcony</th>\n",
              "      <th>price</th>\n",
              "      <th>Bedrooms</th>\n",
              "    </tr>\n",
              "  </thead>\n",
              "  <tbody>\n",
              "    <tr>\n",
              "      <th>0</th>\n",
              "      <td>Super built-up  Area</td>\n",
              "      <td>Electronic City Phase II</td>\n",
              "      <td>2 BHK</td>\n",
              "      <td>1056</td>\n",
              "      <td>2.0</td>\n",
              "      <td>1.0</td>\n",
              "      <td>39.07</td>\n",
              "      <td>2</td>\n",
              "    </tr>\n",
              "    <tr>\n",
              "      <th>1</th>\n",
              "      <td>Plot  Area</td>\n",
              "      <td>Chikka Tirupathi</td>\n",
              "      <td>4 Bedroom</td>\n",
              "      <td>2600</td>\n",
              "      <td>5.0</td>\n",
              "      <td>3.0</td>\n",
              "      <td>120.00</td>\n",
              "      <td>4</td>\n",
              "    </tr>\n",
              "    <tr>\n",
              "      <th>2</th>\n",
              "      <td>Built-up  Area</td>\n",
              "      <td>Uttarahalli</td>\n",
              "      <td>3 BHK</td>\n",
              "      <td>1440</td>\n",
              "      <td>2.0</td>\n",
              "      <td>3.0</td>\n",
              "      <td>62.00</td>\n",
              "      <td>3</td>\n",
              "    </tr>\n",
              "    <tr>\n",
              "      <th>3</th>\n",
              "      <td>Super built-up  Area</td>\n",
              "      <td>Lingadheeranahalli</td>\n",
              "      <td>3 BHK</td>\n",
              "      <td>1521</td>\n",
              "      <td>3.0</td>\n",
              "      <td>1.0</td>\n",
              "      <td>95.00</td>\n",
              "      <td>3</td>\n",
              "    </tr>\n",
              "    <tr>\n",
              "      <th>4</th>\n",
              "      <td>Super built-up  Area</td>\n",
              "      <td>Kothanur</td>\n",
              "      <td>2 BHK</td>\n",
              "      <td>1200</td>\n",
              "      <td>2.0</td>\n",
              "      <td>1.0</td>\n",
              "      <td>51.00</td>\n",
              "      <td>2</td>\n",
              "    </tr>\n",
              "  </tbody>\n",
              "</table>\n",
              "</div>\n",
              "      <button class=\"colab-df-convert\" onclick=\"convertToInteractive('df-897ffe13-7d79-4957-9351-3a43ceb6a6ea')\"\n",
              "              title=\"Convert this dataframe to an interactive table.\"\n",
              "              style=\"display:none;\">\n",
              "        \n",
              "  <svg xmlns=\"http://www.w3.org/2000/svg\" height=\"24px\"viewBox=\"0 0 24 24\"\n",
              "       width=\"24px\">\n",
              "    <path d=\"M0 0h24v24H0V0z\" fill=\"none\"/>\n",
              "    <path d=\"M18.56 5.44l.94 2.06.94-2.06 2.06-.94-2.06-.94-.94-2.06-.94 2.06-2.06.94zm-11 1L8.5 8.5l.94-2.06 2.06-.94-2.06-.94L8.5 2.5l-.94 2.06-2.06.94zm10 10l.94 2.06.94-2.06 2.06-.94-2.06-.94-.94-2.06-.94 2.06-2.06.94z\"/><path d=\"M17.41 7.96l-1.37-1.37c-.4-.4-.92-.59-1.43-.59-.52 0-1.04.2-1.43.59L10.3 9.45l-7.72 7.72c-.78.78-.78 2.05 0 2.83L4 21.41c.39.39.9.59 1.41.59.51 0 1.02-.2 1.41-.59l7.78-7.78 2.81-2.81c.8-.78.8-2.07 0-2.86zM5.41 20L4 18.59l7.72-7.72 1.47 1.35L5.41 20z\"/>\n",
              "  </svg>\n",
              "      </button>\n",
              "      \n",
              "  <style>\n",
              "    .colab-df-container {\n",
              "      display:flex;\n",
              "      flex-wrap:wrap;\n",
              "      gap: 12px;\n",
              "    }\n",
              "\n",
              "    .colab-df-convert {\n",
              "      background-color: #E8F0FE;\n",
              "      border: none;\n",
              "      border-radius: 50%;\n",
              "      cursor: pointer;\n",
              "      display: none;\n",
              "      fill: #1967D2;\n",
              "      height: 32px;\n",
              "      padding: 0 0 0 0;\n",
              "      width: 32px;\n",
              "    }\n",
              "\n",
              "    .colab-df-convert:hover {\n",
              "      background-color: #E2EBFA;\n",
              "      box-shadow: 0px 1px 2px rgba(60, 64, 67, 0.3), 0px 1px 3px 1px rgba(60, 64, 67, 0.15);\n",
              "      fill: #174EA6;\n",
              "    }\n",
              "\n",
              "    [theme=dark] .colab-df-convert {\n",
              "      background-color: #3B4455;\n",
              "      fill: #D2E3FC;\n",
              "    }\n",
              "\n",
              "    [theme=dark] .colab-df-convert:hover {\n",
              "      background-color: #434B5C;\n",
              "      box-shadow: 0px 1px 3px 1px rgba(0, 0, 0, 0.15);\n",
              "      filter: drop-shadow(0px 1px 2px rgba(0, 0, 0, 0.3));\n",
              "      fill: #FFFFFF;\n",
              "    }\n",
              "  </style>\n",
              "\n",
              "      <script>\n",
              "        const buttonEl =\n",
              "          document.querySelector('#df-897ffe13-7d79-4957-9351-3a43ceb6a6ea button.colab-df-convert');\n",
              "        buttonEl.style.display =\n",
              "          google.colab.kernel.accessAllowed ? 'block' : 'none';\n",
              "\n",
              "        async function convertToInteractive(key) {\n",
              "          const element = document.querySelector('#df-897ffe13-7d79-4957-9351-3a43ceb6a6ea');\n",
              "          const dataTable =\n",
              "            await google.colab.kernel.invokeFunction('convertToInteractive',\n",
              "                                                     [key], {});\n",
              "          if (!dataTable) return;\n",
              "\n",
              "          const docLinkHtml = 'Like what you see? Visit the ' +\n",
              "            '<a target=\"_blank\" href=https://colab.research.google.com/notebooks/data_table.ipynb>data table notebook</a>'\n",
              "            + ' to learn more about interactive tables.';\n",
              "          element.innerHTML = '';\n",
              "          dataTable['output_type'] = 'display_data';\n",
              "          await google.colab.output.renderOutput(dataTable, element);\n",
              "          const docLink = document.createElement('div');\n",
              "          docLink.innerHTML = docLinkHtml;\n",
              "          element.appendChild(docLink);\n",
              "        }\n",
              "      </script>\n",
              "    </div>\n",
              "  </div>\n",
              "  "
            ]
          },
          "metadata": {},
          "execution_count": 34
        }
      ],
      "id": "yIuyWG47PFUX"
    },
    {
      "cell_type": "code",
      "source": [
        "df2 = df1.drop(['size'], axis=1)\n",
        "df2.head()"
      ],
      "metadata": {
        "colab": {
          "base_uri": "https://localhost:8080/",
          "height": 206
        },
        "id": "ngwxWyQ3PFUX",
        "outputId": "be7a1adb-7fa5-46b8-b05c-ba615c4df85d"
      },
      "execution_count": 35,
      "outputs": [
        {
          "output_type": "execute_result",
          "data": {
            "text/plain": [
              "              area_type                  location total_sqft  bath  balcony  \\\n",
              "0  Super built-up  Area  Electronic City Phase II       1056   2.0      1.0   \n",
              "1            Plot  Area          Chikka Tirupathi       2600   5.0      3.0   \n",
              "2        Built-up  Area               Uttarahalli       1440   2.0      3.0   \n",
              "3  Super built-up  Area        Lingadheeranahalli       1521   3.0      1.0   \n",
              "4  Super built-up  Area                  Kothanur       1200   2.0      1.0   \n",
              "\n",
              "    price  Bedrooms  \n",
              "0   39.07         2  \n",
              "1  120.00         4  \n",
              "2   62.00         3  \n",
              "3   95.00         3  \n",
              "4   51.00         2  "
            ],
            "text/html": [
              "\n",
              "  <div id=\"df-b81f7c46-9b0b-4ef5-a9c6-e869093cd1d6\">\n",
              "    <div class=\"colab-df-container\">\n",
              "      <div>\n",
              "<style scoped>\n",
              "    .dataframe tbody tr th:only-of-type {\n",
              "        vertical-align: middle;\n",
              "    }\n",
              "\n",
              "    .dataframe tbody tr th {\n",
              "        vertical-align: top;\n",
              "    }\n",
              "\n",
              "    .dataframe thead th {\n",
              "        text-align: right;\n",
              "    }\n",
              "</style>\n",
              "<table border=\"1\" class=\"dataframe\">\n",
              "  <thead>\n",
              "    <tr style=\"text-align: right;\">\n",
              "      <th></th>\n",
              "      <th>area_type</th>\n",
              "      <th>location</th>\n",
              "      <th>total_sqft</th>\n",
              "      <th>bath</th>\n",
              "      <th>balcony</th>\n",
              "      <th>price</th>\n",
              "      <th>Bedrooms</th>\n",
              "    </tr>\n",
              "  </thead>\n",
              "  <tbody>\n",
              "    <tr>\n",
              "      <th>0</th>\n",
              "      <td>Super built-up  Area</td>\n",
              "      <td>Electronic City Phase II</td>\n",
              "      <td>1056</td>\n",
              "      <td>2.0</td>\n",
              "      <td>1.0</td>\n",
              "      <td>39.07</td>\n",
              "      <td>2</td>\n",
              "    </tr>\n",
              "    <tr>\n",
              "      <th>1</th>\n",
              "      <td>Plot  Area</td>\n",
              "      <td>Chikka Tirupathi</td>\n",
              "      <td>2600</td>\n",
              "      <td>5.0</td>\n",
              "      <td>3.0</td>\n",
              "      <td>120.00</td>\n",
              "      <td>4</td>\n",
              "    </tr>\n",
              "    <tr>\n",
              "      <th>2</th>\n",
              "      <td>Built-up  Area</td>\n",
              "      <td>Uttarahalli</td>\n",
              "      <td>1440</td>\n",
              "      <td>2.0</td>\n",
              "      <td>3.0</td>\n",
              "      <td>62.00</td>\n",
              "      <td>3</td>\n",
              "    </tr>\n",
              "    <tr>\n",
              "      <th>3</th>\n",
              "      <td>Super built-up  Area</td>\n",
              "      <td>Lingadheeranahalli</td>\n",
              "      <td>1521</td>\n",
              "      <td>3.0</td>\n",
              "      <td>1.0</td>\n",
              "      <td>95.00</td>\n",
              "      <td>3</td>\n",
              "    </tr>\n",
              "    <tr>\n",
              "      <th>4</th>\n",
              "      <td>Super built-up  Area</td>\n",
              "      <td>Kothanur</td>\n",
              "      <td>1200</td>\n",
              "      <td>2.0</td>\n",
              "      <td>1.0</td>\n",
              "      <td>51.00</td>\n",
              "      <td>2</td>\n",
              "    </tr>\n",
              "  </tbody>\n",
              "</table>\n",
              "</div>\n",
              "      <button class=\"colab-df-convert\" onclick=\"convertToInteractive('df-b81f7c46-9b0b-4ef5-a9c6-e869093cd1d6')\"\n",
              "              title=\"Convert this dataframe to an interactive table.\"\n",
              "              style=\"display:none;\">\n",
              "        \n",
              "  <svg xmlns=\"http://www.w3.org/2000/svg\" height=\"24px\"viewBox=\"0 0 24 24\"\n",
              "       width=\"24px\">\n",
              "    <path d=\"M0 0h24v24H0V0z\" fill=\"none\"/>\n",
              "    <path d=\"M18.56 5.44l.94 2.06.94-2.06 2.06-.94-2.06-.94-.94-2.06-.94 2.06-2.06.94zm-11 1L8.5 8.5l.94-2.06 2.06-.94-2.06-.94L8.5 2.5l-.94 2.06-2.06.94zm10 10l.94 2.06.94-2.06 2.06-.94-2.06-.94-.94-2.06-.94 2.06-2.06.94z\"/><path d=\"M17.41 7.96l-1.37-1.37c-.4-.4-.92-.59-1.43-.59-.52 0-1.04.2-1.43.59L10.3 9.45l-7.72 7.72c-.78.78-.78 2.05 0 2.83L4 21.41c.39.39.9.59 1.41.59.51 0 1.02-.2 1.41-.59l7.78-7.78 2.81-2.81c.8-.78.8-2.07 0-2.86zM5.41 20L4 18.59l7.72-7.72 1.47 1.35L5.41 20z\"/>\n",
              "  </svg>\n",
              "      </button>\n",
              "      \n",
              "  <style>\n",
              "    .colab-df-container {\n",
              "      display:flex;\n",
              "      flex-wrap:wrap;\n",
              "      gap: 12px;\n",
              "    }\n",
              "\n",
              "    .colab-df-convert {\n",
              "      background-color: #E8F0FE;\n",
              "      border: none;\n",
              "      border-radius: 50%;\n",
              "      cursor: pointer;\n",
              "      display: none;\n",
              "      fill: #1967D2;\n",
              "      height: 32px;\n",
              "      padding: 0 0 0 0;\n",
              "      width: 32px;\n",
              "    }\n",
              "\n",
              "    .colab-df-convert:hover {\n",
              "      background-color: #E2EBFA;\n",
              "      box-shadow: 0px 1px 2px rgba(60, 64, 67, 0.3), 0px 1px 3px 1px rgba(60, 64, 67, 0.15);\n",
              "      fill: #174EA6;\n",
              "    }\n",
              "\n",
              "    [theme=dark] .colab-df-convert {\n",
              "      background-color: #3B4455;\n",
              "      fill: #D2E3FC;\n",
              "    }\n",
              "\n",
              "    [theme=dark] .colab-df-convert:hover {\n",
              "      background-color: #434B5C;\n",
              "      box-shadow: 0px 1px 3px 1px rgba(0, 0, 0, 0.15);\n",
              "      filter: drop-shadow(0px 1px 2px rgba(0, 0, 0, 0.3));\n",
              "      fill: #FFFFFF;\n",
              "    }\n",
              "  </style>\n",
              "\n",
              "      <script>\n",
              "        const buttonEl =\n",
              "          document.querySelector('#df-b81f7c46-9b0b-4ef5-a9c6-e869093cd1d6 button.colab-df-convert');\n",
              "        buttonEl.style.display =\n",
              "          google.colab.kernel.accessAllowed ? 'block' : 'none';\n",
              "\n",
              "        async function convertToInteractive(key) {\n",
              "          const element = document.querySelector('#df-b81f7c46-9b0b-4ef5-a9c6-e869093cd1d6');\n",
              "          const dataTable =\n",
              "            await google.colab.kernel.invokeFunction('convertToInteractive',\n",
              "                                                     [key], {});\n",
              "          if (!dataTable) return;\n",
              "\n",
              "          const docLinkHtml = 'Like what you see? Visit the ' +\n",
              "            '<a target=\"_blank\" href=https://colab.research.google.com/notebooks/data_table.ipynb>data table notebook</a>'\n",
              "            + ' to learn more about interactive tables.';\n",
              "          element.innerHTML = '';\n",
              "          dataTable['output_type'] = 'display_data';\n",
              "          await google.colab.output.renderOutput(dataTable, element);\n",
              "          const docLink = document.createElement('div');\n",
              "          docLink.innerHTML = docLinkHtml;\n",
              "          element.appendChild(docLink);\n",
              "        }\n",
              "      </script>\n",
              "    </div>\n",
              "  </div>\n",
              "  "
            ]
          },
          "metadata": {},
          "execution_count": 35
        }
      ],
      "id": "ngwxWyQ3PFUX"
    },
    {
      "cell_type": "markdown",
      "source": [
        "### Handling \"total_sqft\" column"
      ],
      "metadata": {
        "id": "0hfNPgG2PFUX"
      },
      "id": "0hfNPgG2PFUX"
    },
    {
      "cell_type": "code",
      "source": [
        "df2[\"total_sqft\"].unique()"
      ],
      "metadata": {
        "colab": {
          "base_uri": "https://localhost:8080/"
        },
        "id": "a3PJtqNRaDjb",
        "outputId": "1dc3708e-a344-4ad5-80fa-f608b8a4fe32"
      },
      "id": "a3PJtqNRaDjb",
      "execution_count": 36,
      "outputs": [
        {
          "output_type": "execute_result",
          "data": {
            "text/plain": [
              "array(['1056', '2600', '1440', ..., '1133 - 1384', '774', '4689'],\n",
              "      dtype=object)"
            ]
          },
          "metadata": {},
          "execution_count": 36
        }
      ]
    },
    {
      "cell_type": "markdown",
      "source": [
        "Some range values were observed in the \"total_sqft\" column. We have to average them for ML\n",
        "\n",
        "let's show non-floats:"
      ],
      "metadata": {
        "id": "s7-EGOK6PFUX"
      },
      "id": "s7-EGOK6PFUX"
    },
    {
      "cell_type": "code",
      "source": [
        "def is_float(x):\n",
        "    try:\n",
        "        float(x)\n",
        "    except:\n",
        "        return False\n",
        "    return True"
      ],
      "metadata": {
        "id": "OYrnC1_5PFUY"
      },
      "execution_count": 37,
      "outputs": [],
      "id": "OYrnC1_5PFUY"
    },
    {
      "cell_type": "code",
      "source": [
        "df2[df2['total_sqft'].apply(is_float)].head(10)"
      ],
      "metadata": {
        "colab": {
          "base_uri": "https://localhost:8080/",
          "height": 363
        },
        "id": "lWbIVsYgPaw-",
        "outputId": "be317c29-ed1d-437f-9dc1-4c5b74d9cf2f"
      },
      "id": "lWbIVsYgPaw-",
      "execution_count": 38,
      "outputs": [
        {
          "output_type": "execute_result",
          "data": {
            "text/plain": [
              "              area_type                  location total_sqft  bath  balcony  \\\n",
              "0  Super built-up  Area  Electronic City Phase II       1056   2.0      1.0   \n",
              "1            Plot  Area          Chikka Tirupathi       2600   5.0      3.0   \n",
              "2        Built-up  Area               Uttarahalli       1440   2.0      3.0   \n",
              "3  Super built-up  Area        Lingadheeranahalli       1521   3.0      1.0   \n",
              "4  Super built-up  Area                  Kothanur       1200   2.0      1.0   \n",
              "5  Super built-up  Area                Whitefield       1170   2.0      1.0   \n",
              "6  Super built-up  Area          Old Airport Road       2732   4.0      2.0   \n",
              "7  Super built-up  Area              Rajaji Nagar       3300   4.0      2.0   \n",
              "8  Super built-up  Area              Marathahalli       1310   3.0      1.0   \n",
              "9            Plot  Area              Gandhi Bazar       1020   6.0      2.0   \n",
              "\n",
              "    price  Bedrooms  \n",
              "0   39.07         2  \n",
              "1  120.00         4  \n",
              "2   62.00         3  \n",
              "3   95.00         3  \n",
              "4   51.00         2  \n",
              "5   38.00         2  \n",
              "6  204.00         4  \n",
              "7  600.00         4  \n",
              "8   63.25         3  \n",
              "9  370.00         6  "
            ],
            "text/html": [
              "\n",
              "  <div id=\"df-08a8b45f-34e8-44a0-ba89-dc1e2c6adf1a\">\n",
              "    <div class=\"colab-df-container\">\n",
              "      <div>\n",
              "<style scoped>\n",
              "    .dataframe tbody tr th:only-of-type {\n",
              "        vertical-align: middle;\n",
              "    }\n",
              "\n",
              "    .dataframe tbody tr th {\n",
              "        vertical-align: top;\n",
              "    }\n",
              "\n",
              "    .dataframe thead th {\n",
              "        text-align: right;\n",
              "    }\n",
              "</style>\n",
              "<table border=\"1\" class=\"dataframe\">\n",
              "  <thead>\n",
              "    <tr style=\"text-align: right;\">\n",
              "      <th></th>\n",
              "      <th>area_type</th>\n",
              "      <th>location</th>\n",
              "      <th>total_sqft</th>\n",
              "      <th>bath</th>\n",
              "      <th>balcony</th>\n",
              "      <th>price</th>\n",
              "      <th>Bedrooms</th>\n",
              "    </tr>\n",
              "  </thead>\n",
              "  <tbody>\n",
              "    <tr>\n",
              "      <th>0</th>\n",
              "      <td>Super built-up  Area</td>\n",
              "      <td>Electronic City Phase II</td>\n",
              "      <td>1056</td>\n",
              "      <td>2.0</td>\n",
              "      <td>1.0</td>\n",
              "      <td>39.07</td>\n",
              "      <td>2</td>\n",
              "    </tr>\n",
              "    <tr>\n",
              "      <th>1</th>\n",
              "      <td>Plot  Area</td>\n",
              "      <td>Chikka Tirupathi</td>\n",
              "      <td>2600</td>\n",
              "      <td>5.0</td>\n",
              "      <td>3.0</td>\n",
              "      <td>120.00</td>\n",
              "      <td>4</td>\n",
              "    </tr>\n",
              "    <tr>\n",
              "      <th>2</th>\n",
              "      <td>Built-up  Area</td>\n",
              "      <td>Uttarahalli</td>\n",
              "      <td>1440</td>\n",
              "      <td>2.0</td>\n",
              "      <td>3.0</td>\n",
              "      <td>62.00</td>\n",
              "      <td>3</td>\n",
              "    </tr>\n",
              "    <tr>\n",
              "      <th>3</th>\n",
              "      <td>Super built-up  Area</td>\n",
              "      <td>Lingadheeranahalli</td>\n",
              "      <td>1521</td>\n",
              "      <td>3.0</td>\n",
              "      <td>1.0</td>\n",
              "      <td>95.00</td>\n",
              "      <td>3</td>\n",
              "    </tr>\n",
              "    <tr>\n",
              "      <th>4</th>\n",
              "      <td>Super built-up  Area</td>\n",
              "      <td>Kothanur</td>\n",
              "      <td>1200</td>\n",
              "      <td>2.0</td>\n",
              "      <td>1.0</td>\n",
              "      <td>51.00</td>\n",
              "      <td>2</td>\n",
              "    </tr>\n",
              "    <tr>\n",
              "      <th>5</th>\n",
              "      <td>Super built-up  Area</td>\n",
              "      <td>Whitefield</td>\n",
              "      <td>1170</td>\n",
              "      <td>2.0</td>\n",
              "      <td>1.0</td>\n",
              "      <td>38.00</td>\n",
              "      <td>2</td>\n",
              "    </tr>\n",
              "    <tr>\n",
              "      <th>6</th>\n",
              "      <td>Super built-up  Area</td>\n",
              "      <td>Old Airport Road</td>\n",
              "      <td>2732</td>\n",
              "      <td>4.0</td>\n",
              "      <td>2.0</td>\n",
              "      <td>204.00</td>\n",
              "      <td>4</td>\n",
              "    </tr>\n",
              "    <tr>\n",
              "      <th>7</th>\n",
              "      <td>Super built-up  Area</td>\n",
              "      <td>Rajaji Nagar</td>\n",
              "      <td>3300</td>\n",
              "      <td>4.0</td>\n",
              "      <td>2.0</td>\n",
              "      <td>600.00</td>\n",
              "      <td>4</td>\n",
              "    </tr>\n",
              "    <tr>\n",
              "      <th>8</th>\n",
              "      <td>Super built-up  Area</td>\n",
              "      <td>Marathahalli</td>\n",
              "      <td>1310</td>\n",
              "      <td>3.0</td>\n",
              "      <td>1.0</td>\n",
              "      <td>63.25</td>\n",
              "      <td>3</td>\n",
              "    </tr>\n",
              "    <tr>\n",
              "      <th>9</th>\n",
              "      <td>Plot  Area</td>\n",
              "      <td>Gandhi Bazar</td>\n",
              "      <td>1020</td>\n",
              "      <td>6.0</td>\n",
              "      <td>2.0</td>\n",
              "      <td>370.00</td>\n",
              "      <td>6</td>\n",
              "    </tr>\n",
              "  </tbody>\n",
              "</table>\n",
              "</div>\n",
              "      <button class=\"colab-df-convert\" onclick=\"convertToInteractive('df-08a8b45f-34e8-44a0-ba89-dc1e2c6adf1a')\"\n",
              "              title=\"Convert this dataframe to an interactive table.\"\n",
              "              style=\"display:none;\">\n",
              "        \n",
              "  <svg xmlns=\"http://www.w3.org/2000/svg\" height=\"24px\"viewBox=\"0 0 24 24\"\n",
              "       width=\"24px\">\n",
              "    <path d=\"M0 0h24v24H0V0z\" fill=\"none\"/>\n",
              "    <path d=\"M18.56 5.44l.94 2.06.94-2.06 2.06-.94-2.06-.94-.94-2.06-.94 2.06-2.06.94zm-11 1L8.5 8.5l.94-2.06 2.06-.94-2.06-.94L8.5 2.5l-.94 2.06-2.06.94zm10 10l.94 2.06.94-2.06 2.06-.94-2.06-.94-.94-2.06-.94 2.06-2.06.94z\"/><path d=\"M17.41 7.96l-1.37-1.37c-.4-.4-.92-.59-1.43-.59-.52 0-1.04.2-1.43.59L10.3 9.45l-7.72 7.72c-.78.78-.78 2.05 0 2.83L4 21.41c.39.39.9.59 1.41.59.51 0 1.02-.2 1.41-.59l7.78-7.78 2.81-2.81c.8-.78.8-2.07 0-2.86zM5.41 20L4 18.59l7.72-7.72 1.47 1.35L5.41 20z\"/>\n",
              "  </svg>\n",
              "      </button>\n",
              "      \n",
              "  <style>\n",
              "    .colab-df-container {\n",
              "      display:flex;\n",
              "      flex-wrap:wrap;\n",
              "      gap: 12px;\n",
              "    }\n",
              "\n",
              "    .colab-df-convert {\n",
              "      background-color: #E8F0FE;\n",
              "      border: none;\n",
              "      border-radius: 50%;\n",
              "      cursor: pointer;\n",
              "      display: none;\n",
              "      fill: #1967D2;\n",
              "      height: 32px;\n",
              "      padding: 0 0 0 0;\n",
              "      width: 32px;\n",
              "    }\n",
              "\n",
              "    .colab-df-convert:hover {\n",
              "      background-color: #E2EBFA;\n",
              "      box-shadow: 0px 1px 2px rgba(60, 64, 67, 0.3), 0px 1px 3px 1px rgba(60, 64, 67, 0.15);\n",
              "      fill: #174EA6;\n",
              "    }\n",
              "\n",
              "    [theme=dark] .colab-df-convert {\n",
              "      background-color: #3B4455;\n",
              "      fill: #D2E3FC;\n",
              "    }\n",
              "\n",
              "    [theme=dark] .colab-df-convert:hover {\n",
              "      background-color: #434B5C;\n",
              "      box-shadow: 0px 1px 3px 1px rgba(0, 0, 0, 0.15);\n",
              "      filter: drop-shadow(0px 1px 2px rgba(0, 0, 0, 0.3));\n",
              "      fill: #FFFFFF;\n",
              "    }\n",
              "  </style>\n",
              "\n",
              "      <script>\n",
              "        const buttonEl =\n",
              "          document.querySelector('#df-08a8b45f-34e8-44a0-ba89-dc1e2c6adf1a button.colab-df-convert');\n",
              "        buttonEl.style.display =\n",
              "          google.colab.kernel.accessAllowed ? 'block' : 'none';\n",
              "\n",
              "        async function convertToInteractive(key) {\n",
              "          const element = document.querySelector('#df-08a8b45f-34e8-44a0-ba89-dc1e2c6adf1a');\n",
              "          const dataTable =\n",
              "            await google.colab.kernel.invokeFunction('convertToInteractive',\n",
              "                                                     [key], {});\n",
              "          if (!dataTable) return;\n",
              "\n",
              "          const docLinkHtml = 'Like what you see? Visit the ' +\n",
              "            '<a target=\"_blank\" href=https://colab.research.google.com/notebooks/data_table.ipynb>data table notebook</a>'\n",
              "            + ' to learn more about interactive tables.';\n",
              "          element.innerHTML = '';\n",
              "          dataTable['output_type'] = 'display_data';\n",
              "          await google.colab.output.renderOutput(dataTable, element);\n",
              "          const docLink = document.createElement('div');\n",
              "          docLink.innerHTML = docLinkHtml;\n",
              "          element.appendChild(docLink);\n",
              "        }\n",
              "      </script>\n",
              "    </div>\n",
              "  </div>\n",
              "  "
            ]
          },
          "metadata": {},
          "execution_count": 38
        }
      ]
    },
    {
      "cell_type": "markdown",
      "source": [
        "need range which returned false"
      ],
      "metadata": {
        "id": "hH3U9oPGb0b6"
      },
      "id": "hH3U9oPGb0b6"
    },
    {
      "cell_type": "code",
      "source": [
        "df2[~df2['total_sqft'].apply(is_float)].head(10)"
      ],
      "metadata": {
        "scrolled": true,
        "colab": {
          "base_uri": "https://localhost:8080/",
          "height": 363
        },
        "id": "SqsSbKJqPFUY",
        "outputId": "285c0fab-bb73-4b50-9896-9624ca387650"
      },
      "execution_count": 39,
      "outputs": [
        {
          "output_type": "execute_result",
          "data": {
            "text/plain": [
              "                area_type            location      total_sqft  bath  balcony  \\\n",
              "30   Super built-up  Area           Yelahanka     2100 - 2850   4.0      0.0   \n",
              "122  Super built-up  Area              Hebbal     3067 - 8156   4.0      0.0   \n",
              "137  Super built-up  Area  8th Phase JP Nagar     1042 - 1105   2.0      0.0   \n",
              "165  Super built-up  Area            Sarjapur     1145 - 1340   2.0      0.0   \n",
              "188  Super built-up  Area            KR Puram     1015 - 1540   2.0      0.0   \n",
              "410  Super built-up  Area             Kengeri  34.46Sq. Meter   1.0      0.0   \n",
              "549  Super built-up  Area         Hennur Road     1195 - 1440   2.0      0.0   \n",
              "648        Built-up  Area             Arekere       4125Perch   9.0      2.0   \n",
              "661  Super built-up  Area           Yelahanka     1120 - 1145   2.0      0.0   \n",
              "672        Built-up  Area        Bettahalsoor     3090 - 5002   4.0      0.0   \n",
              "\n",
              "       price  Bedrooms  \n",
              "30   186.000         4  \n",
              "122  477.000         4  \n",
              "137   54.005         2  \n",
              "165   43.490         2  \n",
              "188   56.800         2  \n",
              "410   18.500         1  \n",
              "549   63.770         2  \n",
              "648  265.000         9  \n",
              "661   48.130         2  \n",
              "672  445.000         4  "
            ],
            "text/html": [
              "\n",
              "  <div id=\"df-3a1451d4-8854-43d2-934b-87ee75b0b459\">\n",
              "    <div class=\"colab-df-container\">\n",
              "      <div>\n",
              "<style scoped>\n",
              "    .dataframe tbody tr th:only-of-type {\n",
              "        vertical-align: middle;\n",
              "    }\n",
              "\n",
              "    .dataframe tbody tr th {\n",
              "        vertical-align: top;\n",
              "    }\n",
              "\n",
              "    .dataframe thead th {\n",
              "        text-align: right;\n",
              "    }\n",
              "</style>\n",
              "<table border=\"1\" class=\"dataframe\">\n",
              "  <thead>\n",
              "    <tr style=\"text-align: right;\">\n",
              "      <th></th>\n",
              "      <th>area_type</th>\n",
              "      <th>location</th>\n",
              "      <th>total_sqft</th>\n",
              "      <th>bath</th>\n",
              "      <th>balcony</th>\n",
              "      <th>price</th>\n",
              "      <th>Bedrooms</th>\n",
              "    </tr>\n",
              "  </thead>\n",
              "  <tbody>\n",
              "    <tr>\n",
              "      <th>30</th>\n",
              "      <td>Super built-up  Area</td>\n",
              "      <td>Yelahanka</td>\n",
              "      <td>2100 - 2850</td>\n",
              "      <td>4.0</td>\n",
              "      <td>0.0</td>\n",
              "      <td>186.000</td>\n",
              "      <td>4</td>\n",
              "    </tr>\n",
              "    <tr>\n",
              "      <th>122</th>\n",
              "      <td>Super built-up  Area</td>\n",
              "      <td>Hebbal</td>\n",
              "      <td>3067 - 8156</td>\n",
              "      <td>4.0</td>\n",
              "      <td>0.0</td>\n",
              "      <td>477.000</td>\n",
              "      <td>4</td>\n",
              "    </tr>\n",
              "    <tr>\n",
              "      <th>137</th>\n",
              "      <td>Super built-up  Area</td>\n",
              "      <td>8th Phase JP Nagar</td>\n",
              "      <td>1042 - 1105</td>\n",
              "      <td>2.0</td>\n",
              "      <td>0.0</td>\n",
              "      <td>54.005</td>\n",
              "      <td>2</td>\n",
              "    </tr>\n",
              "    <tr>\n",
              "      <th>165</th>\n",
              "      <td>Super built-up  Area</td>\n",
              "      <td>Sarjapur</td>\n",
              "      <td>1145 - 1340</td>\n",
              "      <td>2.0</td>\n",
              "      <td>0.0</td>\n",
              "      <td>43.490</td>\n",
              "      <td>2</td>\n",
              "    </tr>\n",
              "    <tr>\n",
              "      <th>188</th>\n",
              "      <td>Super built-up  Area</td>\n",
              "      <td>KR Puram</td>\n",
              "      <td>1015 - 1540</td>\n",
              "      <td>2.0</td>\n",
              "      <td>0.0</td>\n",
              "      <td>56.800</td>\n",
              "      <td>2</td>\n",
              "    </tr>\n",
              "    <tr>\n",
              "      <th>410</th>\n",
              "      <td>Super built-up  Area</td>\n",
              "      <td>Kengeri</td>\n",
              "      <td>34.46Sq. Meter</td>\n",
              "      <td>1.0</td>\n",
              "      <td>0.0</td>\n",
              "      <td>18.500</td>\n",
              "      <td>1</td>\n",
              "    </tr>\n",
              "    <tr>\n",
              "      <th>549</th>\n",
              "      <td>Super built-up  Area</td>\n",
              "      <td>Hennur Road</td>\n",
              "      <td>1195 - 1440</td>\n",
              "      <td>2.0</td>\n",
              "      <td>0.0</td>\n",
              "      <td>63.770</td>\n",
              "      <td>2</td>\n",
              "    </tr>\n",
              "    <tr>\n",
              "      <th>648</th>\n",
              "      <td>Built-up  Area</td>\n",
              "      <td>Arekere</td>\n",
              "      <td>4125Perch</td>\n",
              "      <td>9.0</td>\n",
              "      <td>2.0</td>\n",
              "      <td>265.000</td>\n",
              "      <td>9</td>\n",
              "    </tr>\n",
              "    <tr>\n",
              "      <th>661</th>\n",
              "      <td>Super built-up  Area</td>\n",
              "      <td>Yelahanka</td>\n",
              "      <td>1120 - 1145</td>\n",
              "      <td>2.0</td>\n",
              "      <td>0.0</td>\n",
              "      <td>48.130</td>\n",
              "      <td>2</td>\n",
              "    </tr>\n",
              "    <tr>\n",
              "      <th>672</th>\n",
              "      <td>Built-up  Area</td>\n",
              "      <td>Bettahalsoor</td>\n",
              "      <td>3090 - 5002</td>\n",
              "      <td>4.0</td>\n",
              "      <td>0.0</td>\n",
              "      <td>445.000</td>\n",
              "      <td>4</td>\n",
              "    </tr>\n",
              "  </tbody>\n",
              "</table>\n",
              "</div>\n",
              "      <button class=\"colab-df-convert\" onclick=\"convertToInteractive('df-3a1451d4-8854-43d2-934b-87ee75b0b459')\"\n",
              "              title=\"Convert this dataframe to an interactive table.\"\n",
              "              style=\"display:none;\">\n",
              "        \n",
              "  <svg xmlns=\"http://www.w3.org/2000/svg\" height=\"24px\"viewBox=\"0 0 24 24\"\n",
              "       width=\"24px\">\n",
              "    <path d=\"M0 0h24v24H0V0z\" fill=\"none\"/>\n",
              "    <path d=\"M18.56 5.44l.94 2.06.94-2.06 2.06-.94-2.06-.94-.94-2.06-.94 2.06-2.06.94zm-11 1L8.5 8.5l.94-2.06 2.06-.94-2.06-.94L8.5 2.5l-.94 2.06-2.06.94zm10 10l.94 2.06.94-2.06 2.06-.94-2.06-.94-.94-2.06-.94 2.06-2.06.94z\"/><path d=\"M17.41 7.96l-1.37-1.37c-.4-.4-.92-.59-1.43-.59-.52 0-1.04.2-1.43.59L10.3 9.45l-7.72 7.72c-.78.78-.78 2.05 0 2.83L4 21.41c.39.39.9.59 1.41.59.51 0 1.02-.2 1.41-.59l7.78-7.78 2.81-2.81c.8-.78.8-2.07 0-2.86zM5.41 20L4 18.59l7.72-7.72 1.47 1.35L5.41 20z\"/>\n",
              "  </svg>\n",
              "      </button>\n",
              "      \n",
              "  <style>\n",
              "    .colab-df-container {\n",
              "      display:flex;\n",
              "      flex-wrap:wrap;\n",
              "      gap: 12px;\n",
              "    }\n",
              "\n",
              "    .colab-df-convert {\n",
              "      background-color: #E8F0FE;\n",
              "      border: none;\n",
              "      border-radius: 50%;\n",
              "      cursor: pointer;\n",
              "      display: none;\n",
              "      fill: #1967D2;\n",
              "      height: 32px;\n",
              "      padding: 0 0 0 0;\n",
              "      width: 32px;\n",
              "    }\n",
              "\n",
              "    .colab-df-convert:hover {\n",
              "      background-color: #E2EBFA;\n",
              "      box-shadow: 0px 1px 2px rgba(60, 64, 67, 0.3), 0px 1px 3px 1px rgba(60, 64, 67, 0.15);\n",
              "      fill: #174EA6;\n",
              "    }\n",
              "\n",
              "    [theme=dark] .colab-df-convert {\n",
              "      background-color: #3B4455;\n",
              "      fill: #D2E3FC;\n",
              "    }\n",
              "\n",
              "    [theme=dark] .colab-df-convert:hover {\n",
              "      background-color: #434B5C;\n",
              "      box-shadow: 0px 1px 3px 1px rgba(0, 0, 0, 0.15);\n",
              "      filter: drop-shadow(0px 1px 2px rgba(0, 0, 0, 0.3));\n",
              "      fill: #FFFFFF;\n",
              "    }\n",
              "  </style>\n",
              "\n",
              "      <script>\n",
              "        const buttonEl =\n",
              "          document.querySelector('#df-3a1451d4-8854-43d2-934b-87ee75b0b459 button.colab-df-convert');\n",
              "        buttonEl.style.display =\n",
              "          google.colab.kernel.accessAllowed ? 'block' : 'none';\n",
              "\n",
              "        async function convertToInteractive(key) {\n",
              "          const element = document.querySelector('#df-3a1451d4-8854-43d2-934b-87ee75b0b459');\n",
              "          const dataTable =\n",
              "            await google.colab.kernel.invokeFunction('convertToInteractive',\n",
              "                                                     [key], {});\n",
              "          if (!dataTable) return;\n",
              "\n",
              "          const docLinkHtml = 'Like what you see? Visit the ' +\n",
              "            '<a target=\"_blank\" href=https://colab.research.google.com/notebooks/data_table.ipynb>data table notebook</a>'\n",
              "            + ' to learn more about interactive tables.';\n",
              "          element.innerHTML = '';\n",
              "          dataTable['output_type'] = 'display_data';\n",
              "          await google.colab.output.renderOutput(dataTable, element);\n",
              "          const docLink = document.createElement('div');\n",
              "          docLink.innerHTML = docLinkHtml;\n",
              "          element.appendChild(docLink);\n",
              "        }\n",
              "      </script>\n",
              "    </div>\n",
              "  </div>\n",
              "  "
            ]
          },
          "metadata": {},
          "execution_count": 39
        }
      ],
      "id": "SqsSbKJqPFUY"
    },
    {
      "cell_type": "code",
      "source": [
        "df2.shape"
      ],
      "metadata": {
        "colab": {
          "base_uri": "https://localhost:8080/"
        },
        "id": "063BuHiRPFUY",
        "outputId": "c8dd8332-2290-4223-c2e0-12823f8e5fb2"
      },
      "execution_count": 40,
      "outputs": [
        {
          "output_type": "execute_result",
          "data": {
            "text/plain": [
              "(12678, 7)"
            ]
          },
          "metadata": {},
          "execution_count": 40
        }
      ],
      "id": "063BuHiRPFUY"
    },
    {
      "cell_type": "markdown",
      "source": [
        "As seen in the above table, some values are in the range. We can convert them to a numeric value by averaging those.\n",
        "\n",
        "There are also values with different units (Sq. Meter etc.)"
      ],
      "metadata": {
        "id": "eeRxxL3ePFUY"
      },
      "id": "eeRxxL3ePFUY"
    },
    {
      "cell_type": "code",
      "source": [
        "df2.isna().sum()"
      ],
      "metadata": {
        "colab": {
          "base_uri": "https://localhost:8080/"
        },
        "id": "VQX3KAlgTIMa",
        "outputId": "ae5e1b6e-fef1-49e8-8120-814ed2073b79"
      },
      "id": "VQX3KAlgTIMa",
      "execution_count": 41,
      "outputs": [
        {
          "output_type": "execute_result",
          "data": {
            "text/plain": [
              "area_type     0\n",
              "location      0\n",
              "total_sqft    0\n",
              "bath          0\n",
              "balcony       0\n",
              "price         0\n",
              "Bedrooms      0\n",
              "dtype: int64"
            ]
          },
          "metadata": {},
          "execution_count": 41
        }
      ]
    },
    {
      "cell_type": "code",
      "source": [
        "def convert_to_num(x):\n",
        "    y = x.split(\"-\")\n",
        "    if len(y) == 2:\n",
        "        return (float(y[0])+float(y[1]))/2\n",
        "    else:\n",
        "        return x"
      ],
      "metadata": {
        "id": "GabgdMMxPFUY"
      },
      "execution_count": 42,
      "outputs": [],
      "id": "GabgdMMxPFUY"
    },
    {
      "cell_type": "code",
      "source": [
        "df2.isna().sum()"
      ],
      "metadata": {
        "colab": {
          "base_uri": "https://localhost:8080/"
        },
        "id": "OPADJCWYTOc_",
        "outputId": "69de060b-63f2-435a-d8c1-a4388a2120c5"
      },
      "id": "OPADJCWYTOc_",
      "execution_count": 43,
      "outputs": [
        {
          "output_type": "execute_result",
          "data": {
            "text/plain": [
              "area_type     0\n",
              "location      0\n",
              "total_sqft    0\n",
              "bath          0\n",
              "balcony       0\n",
              "price         0\n",
              "Bedrooms      0\n",
              "dtype: int64"
            ]
          },
          "metadata": {},
          "execution_count": 43
        }
      ]
    },
    {
      "cell_type": "code",
      "source": [
        "df2.loc[188]"
      ],
      "metadata": {
        "colab": {
          "base_uri": "https://localhost:8080/"
        },
        "id": "YukTlBj_PFUZ",
        "outputId": "0211edc4-0d94-4d63-b644-e2e5a1094944"
      },
      "execution_count": 44,
      "outputs": [
        {
          "output_type": "execute_result",
          "data": {
            "text/plain": [
              "area_type     Super built-up  Area\n",
              "location                  KR Puram\n",
              "total_sqft             1015 - 1540\n",
              "bath                           2.0\n",
              "balcony                        0.0\n",
              "price                         56.8\n",
              "Bedrooms                         2\n",
              "Name: 188, dtype: object"
            ]
          },
          "metadata": {},
          "execution_count": 44
        }
      ],
      "id": "YukTlBj_PFUZ"
    },
    {
      "cell_type": "code",
      "source": [
        "df3= df2.copy()\n",
        "df3.total_sqft = df3.total_sqft.apply(convert_to_num)\n",
        "df3.head(10)"
      ],
      "metadata": {
        "colab": {
          "base_uri": "https://localhost:8080/",
          "height": 363
        },
        "id": "dz726WAcPFUZ",
        "outputId": "8d8cebcc-6a29-4ecb-e4d8-2501a2cfd175"
      },
      "execution_count": 45,
      "outputs": [
        {
          "output_type": "execute_result",
          "data": {
            "text/plain": [
              "              area_type                  location total_sqft  bath  balcony  \\\n",
              "0  Super built-up  Area  Electronic City Phase II       1056   2.0      1.0   \n",
              "1            Plot  Area          Chikka Tirupathi       2600   5.0      3.0   \n",
              "2        Built-up  Area               Uttarahalli       1440   2.0      3.0   \n",
              "3  Super built-up  Area        Lingadheeranahalli       1521   3.0      1.0   \n",
              "4  Super built-up  Area                  Kothanur       1200   2.0      1.0   \n",
              "5  Super built-up  Area                Whitefield       1170   2.0      1.0   \n",
              "6  Super built-up  Area          Old Airport Road       2732   4.0      2.0   \n",
              "7  Super built-up  Area              Rajaji Nagar       3300   4.0      2.0   \n",
              "8  Super built-up  Area              Marathahalli       1310   3.0      1.0   \n",
              "9            Plot  Area              Gandhi Bazar       1020   6.0      2.0   \n",
              "\n",
              "    price  Bedrooms  \n",
              "0   39.07         2  \n",
              "1  120.00         4  \n",
              "2   62.00         3  \n",
              "3   95.00         3  \n",
              "4   51.00         2  \n",
              "5   38.00         2  \n",
              "6  204.00         4  \n",
              "7  600.00         4  \n",
              "8   63.25         3  \n",
              "9  370.00         6  "
            ],
            "text/html": [
              "\n",
              "  <div id=\"df-28d22834-873c-44bc-b97d-09a1800a2b10\">\n",
              "    <div class=\"colab-df-container\">\n",
              "      <div>\n",
              "<style scoped>\n",
              "    .dataframe tbody tr th:only-of-type {\n",
              "        vertical-align: middle;\n",
              "    }\n",
              "\n",
              "    .dataframe tbody tr th {\n",
              "        vertical-align: top;\n",
              "    }\n",
              "\n",
              "    .dataframe thead th {\n",
              "        text-align: right;\n",
              "    }\n",
              "</style>\n",
              "<table border=\"1\" class=\"dataframe\">\n",
              "  <thead>\n",
              "    <tr style=\"text-align: right;\">\n",
              "      <th></th>\n",
              "      <th>area_type</th>\n",
              "      <th>location</th>\n",
              "      <th>total_sqft</th>\n",
              "      <th>bath</th>\n",
              "      <th>balcony</th>\n",
              "      <th>price</th>\n",
              "      <th>Bedrooms</th>\n",
              "    </tr>\n",
              "  </thead>\n",
              "  <tbody>\n",
              "    <tr>\n",
              "      <th>0</th>\n",
              "      <td>Super built-up  Area</td>\n",
              "      <td>Electronic City Phase II</td>\n",
              "      <td>1056</td>\n",
              "      <td>2.0</td>\n",
              "      <td>1.0</td>\n",
              "      <td>39.07</td>\n",
              "      <td>2</td>\n",
              "    </tr>\n",
              "    <tr>\n",
              "      <th>1</th>\n",
              "      <td>Plot  Area</td>\n",
              "      <td>Chikka Tirupathi</td>\n",
              "      <td>2600</td>\n",
              "      <td>5.0</td>\n",
              "      <td>3.0</td>\n",
              "      <td>120.00</td>\n",
              "      <td>4</td>\n",
              "    </tr>\n",
              "    <tr>\n",
              "      <th>2</th>\n",
              "      <td>Built-up  Area</td>\n",
              "      <td>Uttarahalli</td>\n",
              "      <td>1440</td>\n",
              "      <td>2.0</td>\n",
              "      <td>3.0</td>\n",
              "      <td>62.00</td>\n",
              "      <td>3</td>\n",
              "    </tr>\n",
              "    <tr>\n",
              "      <th>3</th>\n",
              "      <td>Super built-up  Area</td>\n",
              "      <td>Lingadheeranahalli</td>\n",
              "      <td>1521</td>\n",
              "      <td>3.0</td>\n",
              "      <td>1.0</td>\n",
              "      <td>95.00</td>\n",
              "      <td>3</td>\n",
              "    </tr>\n",
              "    <tr>\n",
              "      <th>4</th>\n",
              "      <td>Super built-up  Area</td>\n",
              "      <td>Kothanur</td>\n",
              "      <td>1200</td>\n",
              "      <td>2.0</td>\n",
              "      <td>1.0</td>\n",
              "      <td>51.00</td>\n",
              "      <td>2</td>\n",
              "    </tr>\n",
              "    <tr>\n",
              "      <th>5</th>\n",
              "      <td>Super built-up  Area</td>\n",
              "      <td>Whitefield</td>\n",
              "      <td>1170</td>\n",
              "      <td>2.0</td>\n",
              "      <td>1.0</td>\n",
              "      <td>38.00</td>\n",
              "      <td>2</td>\n",
              "    </tr>\n",
              "    <tr>\n",
              "      <th>6</th>\n",
              "      <td>Super built-up  Area</td>\n",
              "      <td>Old Airport Road</td>\n",
              "      <td>2732</td>\n",
              "      <td>4.0</td>\n",
              "      <td>2.0</td>\n",
              "      <td>204.00</td>\n",
              "      <td>4</td>\n",
              "    </tr>\n",
              "    <tr>\n",
              "      <th>7</th>\n",
              "      <td>Super built-up  Area</td>\n",
              "      <td>Rajaji Nagar</td>\n",
              "      <td>3300</td>\n",
              "      <td>4.0</td>\n",
              "      <td>2.0</td>\n",
              "      <td>600.00</td>\n",
              "      <td>4</td>\n",
              "    </tr>\n",
              "    <tr>\n",
              "      <th>8</th>\n",
              "      <td>Super built-up  Area</td>\n",
              "      <td>Marathahalli</td>\n",
              "      <td>1310</td>\n",
              "      <td>3.0</td>\n",
              "      <td>1.0</td>\n",
              "      <td>63.25</td>\n",
              "      <td>3</td>\n",
              "    </tr>\n",
              "    <tr>\n",
              "      <th>9</th>\n",
              "      <td>Plot  Area</td>\n",
              "      <td>Gandhi Bazar</td>\n",
              "      <td>1020</td>\n",
              "      <td>6.0</td>\n",
              "      <td>2.0</td>\n",
              "      <td>370.00</td>\n",
              "      <td>6</td>\n",
              "    </tr>\n",
              "  </tbody>\n",
              "</table>\n",
              "</div>\n",
              "      <button class=\"colab-df-convert\" onclick=\"convertToInteractive('df-28d22834-873c-44bc-b97d-09a1800a2b10')\"\n",
              "              title=\"Convert this dataframe to an interactive table.\"\n",
              "              style=\"display:none;\">\n",
              "        \n",
              "  <svg xmlns=\"http://www.w3.org/2000/svg\" height=\"24px\"viewBox=\"0 0 24 24\"\n",
              "       width=\"24px\">\n",
              "    <path d=\"M0 0h24v24H0V0z\" fill=\"none\"/>\n",
              "    <path d=\"M18.56 5.44l.94 2.06.94-2.06 2.06-.94-2.06-.94-.94-2.06-.94 2.06-2.06.94zm-11 1L8.5 8.5l.94-2.06 2.06-.94-2.06-.94L8.5 2.5l-.94 2.06-2.06.94zm10 10l.94 2.06.94-2.06 2.06-.94-2.06-.94-.94-2.06-.94 2.06-2.06.94z\"/><path d=\"M17.41 7.96l-1.37-1.37c-.4-.4-.92-.59-1.43-.59-.52 0-1.04.2-1.43.59L10.3 9.45l-7.72 7.72c-.78.78-.78 2.05 0 2.83L4 21.41c.39.39.9.59 1.41.59.51 0 1.02-.2 1.41-.59l7.78-7.78 2.81-2.81c.8-.78.8-2.07 0-2.86zM5.41 20L4 18.59l7.72-7.72 1.47 1.35L5.41 20z\"/>\n",
              "  </svg>\n",
              "      </button>\n",
              "      \n",
              "  <style>\n",
              "    .colab-df-container {\n",
              "      display:flex;\n",
              "      flex-wrap:wrap;\n",
              "      gap: 12px;\n",
              "    }\n",
              "\n",
              "    .colab-df-convert {\n",
              "      background-color: #E8F0FE;\n",
              "      border: none;\n",
              "      border-radius: 50%;\n",
              "      cursor: pointer;\n",
              "      display: none;\n",
              "      fill: #1967D2;\n",
              "      height: 32px;\n",
              "      padding: 0 0 0 0;\n",
              "      width: 32px;\n",
              "    }\n",
              "\n",
              "    .colab-df-convert:hover {\n",
              "      background-color: #E2EBFA;\n",
              "      box-shadow: 0px 1px 2px rgba(60, 64, 67, 0.3), 0px 1px 3px 1px rgba(60, 64, 67, 0.15);\n",
              "      fill: #174EA6;\n",
              "    }\n",
              "\n",
              "    [theme=dark] .colab-df-convert {\n",
              "      background-color: #3B4455;\n",
              "      fill: #D2E3FC;\n",
              "    }\n",
              "\n",
              "    [theme=dark] .colab-df-convert:hover {\n",
              "      background-color: #434B5C;\n",
              "      box-shadow: 0px 1px 3px 1px rgba(0, 0, 0, 0.15);\n",
              "      filter: drop-shadow(0px 1px 2px rgba(0, 0, 0, 0.3));\n",
              "      fill: #FFFFFF;\n",
              "    }\n",
              "  </style>\n",
              "\n",
              "      <script>\n",
              "        const buttonEl =\n",
              "          document.querySelector('#df-28d22834-873c-44bc-b97d-09a1800a2b10 button.colab-df-convert');\n",
              "        buttonEl.style.display =\n",
              "          google.colab.kernel.accessAllowed ? 'block' : 'none';\n",
              "\n",
              "        async function convertToInteractive(key) {\n",
              "          const element = document.querySelector('#df-28d22834-873c-44bc-b97d-09a1800a2b10');\n",
              "          const dataTable =\n",
              "            await google.colab.kernel.invokeFunction('convertToInteractive',\n",
              "                                                     [key], {});\n",
              "          if (!dataTable) return;\n",
              "\n",
              "          const docLinkHtml = 'Like what you see? Visit the ' +\n",
              "            '<a target=\"_blank\" href=https://colab.research.google.com/notebooks/data_table.ipynb>data table notebook</a>'\n",
              "            + ' to learn more about interactive tables.';\n",
              "          element.innerHTML = '';\n",
              "          dataTable['output_type'] = 'display_data';\n",
              "          await google.colab.output.renderOutput(dataTable, element);\n",
              "          const docLink = document.createElement('div');\n",
              "          docLink.innerHTML = docLinkHtml;\n",
              "          element.appendChild(docLink);\n",
              "        }\n",
              "      </script>\n",
              "    </div>\n",
              "  </div>\n",
              "  "
            ]
          },
          "metadata": {},
          "execution_count": 45
        }
      ],
      "id": "dz726WAcPFUZ"
    },
    {
      "cell_type": "code",
      "source": [
        "df3.loc[188]"
      ],
      "metadata": {
        "colab": {
          "base_uri": "https://localhost:8080/"
        },
        "id": "kYL05vPaPFUZ",
        "outputId": "9e02f202-bf39-4bf3-fe68-53c7253d641b"
      },
      "execution_count": 46,
      "outputs": [
        {
          "output_type": "execute_result",
          "data": {
            "text/plain": [
              "area_type     Super built-up  Area\n",
              "location                  KR Puram\n",
              "total_sqft                  1277.5\n",
              "bath                           2.0\n",
              "balcony                        0.0\n",
              "price                         56.8\n",
              "Bedrooms                         2\n",
              "Name: 188, dtype: object"
            ]
          },
          "metadata": {},
          "execution_count": 46
        }
      ],
      "id": "kYL05vPaPFUZ"
    },
    {
      "cell_type": "code",
      "source": [
        "df3[~df3['total_sqft'].apply(is_float)].head(10)"
      ],
      "metadata": {
        "colab": {
          "base_uri": "https://localhost:8080/",
          "height": 363
        },
        "id": "PMINJf1iPFUZ",
        "outputId": "5859ea3e-5b3a-4fcd-bf2c-df9311ba7689"
      },
      "execution_count": 47,
      "outputs": [
        {
          "output_type": "execute_result",
          "data": {
            "text/plain": [
              "                 area_type           location       total_sqft  bath  balcony  \\\n",
              "410   Super built-up  Area            Kengeri   34.46Sq. Meter   1.0      0.0   \n",
              "648         Built-up  Area            Arekere        4125Perch   9.0      2.0   \n",
              "775         Built-up  Area       Basavanagara    1000Sq. Meter   2.0      1.0   \n",
              "872   Super built-up  Area  Singapura Village    1100Sq. Yards   2.0      2.0   \n",
              "1019            Plot  Area     Marathi Layout        5.31Acres   1.0      0.0   \n",
              "1086            Plot  Area         Narasapura          30Acres   2.0      2.0   \n",
              "1400  Super built-up  Area         Chamrajpet     716Sq. Meter   9.0      1.0   \n",
              "1712            Plot  Area   Singena Agrahara    1500Sq. Meter   3.0      1.0   \n",
              "1743  Super built-up  Area          Hosa Road  142.61Sq. Meter   3.0      1.0   \n",
              "1821            Plot  Area           Sarjapur    1574Sq. Yards   3.0      1.0   \n",
              "\n",
              "      price  Bedrooms  \n",
              "410    18.5         1  \n",
              "648   265.0         9  \n",
              "775    93.0         1  \n",
              "872    45.0         2  \n",
              "1019  110.0         1  \n",
              "1086   29.5         2  \n",
              "1400  296.0         9  \n",
              "1712   95.0         3  \n",
              "1743  115.0         3  \n",
              "1821   76.0         3  "
            ],
            "text/html": [
              "\n",
              "  <div id=\"df-9ec7c9be-fb84-4e8f-8e6d-0e06e10d8370\">\n",
              "    <div class=\"colab-df-container\">\n",
              "      <div>\n",
              "<style scoped>\n",
              "    .dataframe tbody tr th:only-of-type {\n",
              "        vertical-align: middle;\n",
              "    }\n",
              "\n",
              "    .dataframe tbody tr th {\n",
              "        vertical-align: top;\n",
              "    }\n",
              "\n",
              "    .dataframe thead th {\n",
              "        text-align: right;\n",
              "    }\n",
              "</style>\n",
              "<table border=\"1\" class=\"dataframe\">\n",
              "  <thead>\n",
              "    <tr style=\"text-align: right;\">\n",
              "      <th></th>\n",
              "      <th>area_type</th>\n",
              "      <th>location</th>\n",
              "      <th>total_sqft</th>\n",
              "      <th>bath</th>\n",
              "      <th>balcony</th>\n",
              "      <th>price</th>\n",
              "      <th>Bedrooms</th>\n",
              "    </tr>\n",
              "  </thead>\n",
              "  <tbody>\n",
              "    <tr>\n",
              "      <th>410</th>\n",
              "      <td>Super built-up  Area</td>\n",
              "      <td>Kengeri</td>\n",
              "      <td>34.46Sq. Meter</td>\n",
              "      <td>1.0</td>\n",
              "      <td>0.0</td>\n",
              "      <td>18.5</td>\n",
              "      <td>1</td>\n",
              "    </tr>\n",
              "    <tr>\n",
              "      <th>648</th>\n",
              "      <td>Built-up  Area</td>\n",
              "      <td>Arekere</td>\n",
              "      <td>4125Perch</td>\n",
              "      <td>9.0</td>\n",
              "      <td>2.0</td>\n",
              "      <td>265.0</td>\n",
              "      <td>9</td>\n",
              "    </tr>\n",
              "    <tr>\n",
              "      <th>775</th>\n",
              "      <td>Built-up  Area</td>\n",
              "      <td>Basavanagara</td>\n",
              "      <td>1000Sq. Meter</td>\n",
              "      <td>2.0</td>\n",
              "      <td>1.0</td>\n",
              "      <td>93.0</td>\n",
              "      <td>1</td>\n",
              "    </tr>\n",
              "    <tr>\n",
              "      <th>872</th>\n",
              "      <td>Super built-up  Area</td>\n",
              "      <td>Singapura Village</td>\n",
              "      <td>1100Sq. Yards</td>\n",
              "      <td>2.0</td>\n",
              "      <td>2.0</td>\n",
              "      <td>45.0</td>\n",
              "      <td>2</td>\n",
              "    </tr>\n",
              "    <tr>\n",
              "      <th>1019</th>\n",
              "      <td>Plot  Area</td>\n",
              "      <td>Marathi Layout</td>\n",
              "      <td>5.31Acres</td>\n",
              "      <td>1.0</td>\n",
              "      <td>0.0</td>\n",
              "      <td>110.0</td>\n",
              "      <td>1</td>\n",
              "    </tr>\n",
              "    <tr>\n",
              "      <th>1086</th>\n",
              "      <td>Plot  Area</td>\n",
              "      <td>Narasapura</td>\n",
              "      <td>30Acres</td>\n",
              "      <td>2.0</td>\n",
              "      <td>2.0</td>\n",
              "      <td>29.5</td>\n",
              "      <td>2</td>\n",
              "    </tr>\n",
              "    <tr>\n",
              "      <th>1400</th>\n",
              "      <td>Super built-up  Area</td>\n",
              "      <td>Chamrajpet</td>\n",
              "      <td>716Sq. Meter</td>\n",
              "      <td>9.0</td>\n",
              "      <td>1.0</td>\n",
              "      <td>296.0</td>\n",
              "      <td>9</td>\n",
              "    </tr>\n",
              "    <tr>\n",
              "      <th>1712</th>\n",
              "      <td>Plot  Area</td>\n",
              "      <td>Singena Agrahara</td>\n",
              "      <td>1500Sq. Meter</td>\n",
              "      <td>3.0</td>\n",
              "      <td>1.0</td>\n",
              "      <td>95.0</td>\n",
              "      <td>3</td>\n",
              "    </tr>\n",
              "    <tr>\n",
              "      <th>1743</th>\n",
              "      <td>Super built-up  Area</td>\n",
              "      <td>Hosa Road</td>\n",
              "      <td>142.61Sq. Meter</td>\n",
              "      <td>3.0</td>\n",
              "      <td>1.0</td>\n",
              "      <td>115.0</td>\n",
              "      <td>3</td>\n",
              "    </tr>\n",
              "    <tr>\n",
              "      <th>1821</th>\n",
              "      <td>Plot  Area</td>\n",
              "      <td>Sarjapur</td>\n",
              "      <td>1574Sq. Yards</td>\n",
              "      <td>3.0</td>\n",
              "      <td>1.0</td>\n",
              "      <td>76.0</td>\n",
              "      <td>3</td>\n",
              "    </tr>\n",
              "  </tbody>\n",
              "</table>\n",
              "</div>\n",
              "      <button class=\"colab-df-convert\" onclick=\"convertToInteractive('df-9ec7c9be-fb84-4e8f-8e6d-0e06e10d8370')\"\n",
              "              title=\"Convert this dataframe to an interactive table.\"\n",
              "              style=\"display:none;\">\n",
              "        \n",
              "  <svg xmlns=\"http://www.w3.org/2000/svg\" height=\"24px\"viewBox=\"0 0 24 24\"\n",
              "       width=\"24px\">\n",
              "    <path d=\"M0 0h24v24H0V0z\" fill=\"none\"/>\n",
              "    <path d=\"M18.56 5.44l.94 2.06.94-2.06 2.06-.94-2.06-.94-.94-2.06-.94 2.06-2.06.94zm-11 1L8.5 8.5l.94-2.06 2.06-.94-2.06-.94L8.5 2.5l-.94 2.06-2.06.94zm10 10l.94 2.06.94-2.06 2.06-.94-2.06-.94-.94-2.06-.94 2.06-2.06.94z\"/><path d=\"M17.41 7.96l-1.37-1.37c-.4-.4-.92-.59-1.43-.59-.52 0-1.04.2-1.43.59L10.3 9.45l-7.72 7.72c-.78.78-.78 2.05 0 2.83L4 21.41c.39.39.9.59 1.41.59.51 0 1.02-.2 1.41-.59l7.78-7.78 2.81-2.81c.8-.78.8-2.07 0-2.86zM5.41 20L4 18.59l7.72-7.72 1.47 1.35L5.41 20z\"/>\n",
              "  </svg>\n",
              "      </button>\n",
              "      \n",
              "  <style>\n",
              "    .colab-df-container {\n",
              "      display:flex;\n",
              "      flex-wrap:wrap;\n",
              "      gap: 12px;\n",
              "    }\n",
              "\n",
              "    .colab-df-convert {\n",
              "      background-color: #E8F0FE;\n",
              "      border: none;\n",
              "      border-radius: 50%;\n",
              "      cursor: pointer;\n",
              "      display: none;\n",
              "      fill: #1967D2;\n",
              "      height: 32px;\n",
              "      padding: 0 0 0 0;\n",
              "      width: 32px;\n",
              "    }\n",
              "\n",
              "    .colab-df-convert:hover {\n",
              "      background-color: #E2EBFA;\n",
              "      box-shadow: 0px 1px 2px rgba(60, 64, 67, 0.3), 0px 1px 3px 1px rgba(60, 64, 67, 0.15);\n",
              "      fill: #174EA6;\n",
              "    }\n",
              "\n",
              "    [theme=dark] .colab-df-convert {\n",
              "      background-color: #3B4455;\n",
              "      fill: #D2E3FC;\n",
              "    }\n",
              "\n",
              "    [theme=dark] .colab-df-convert:hover {\n",
              "      background-color: #434B5C;\n",
              "      box-shadow: 0px 1px 3px 1px rgba(0, 0, 0, 0.15);\n",
              "      filter: drop-shadow(0px 1px 2px rgba(0, 0, 0, 0.3));\n",
              "      fill: #FFFFFF;\n",
              "    }\n",
              "  </style>\n",
              "\n",
              "      <script>\n",
              "        const buttonEl =\n",
              "          document.querySelector('#df-9ec7c9be-fb84-4e8f-8e6d-0e06e10d8370 button.colab-df-convert');\n",
              "        buttonEl.style.display =\n",
              "          google.colab.kernel.accessAllowed ? 'block' : 'none';\n",
              "\n",
              "        async function convertToInteractive(key) {\n",
              "          const element = document.querySelector('#df-9ec7c9be-fb84-4e8f-8e6d-0e06e10d8370');\n",
              "          const dataTable =\n",
              "            await google.colab.kernel.invokeFunction('convertToInteractive',\n",
              "                                                     [key], {});\n",
              "          if (!dataTable) return;\n",
              "\n",
              "          const docLinkHtml = 'Like what you see? Visit the ' +\n",
              "            '<a target=\"_blank\" href=https://colab.research.google.com/notebooks/data_table.ipynb>data table notebook</a>'\n",
              "            + ' to learn more about interactive tables.';\n",
              "          element.innerHTML = '';\n",
              "          dataTable['output_type'] = 'display_data';\n",
              "          await google.colab.output.renderOutput(dataTable, element);\n",
              "          const docLink = document.createElement('div');\n",
              "          docLink.innerHTML = docLinkHtml;\n",
              "          element.appendChild(docLink);\n",
              "        }\n",
              "      </script>\n",
              "    </div>\n",
              "  </div>\n",
              "  "
            ]
          },
          "metadata": {},
          "execution_count": 47
        }
      ],
      "id": "PMINJf1iPFUZ"
    },
    {
      "cell_type": "code",
      "source": [
        "len(df3[~df3['total_sqft'].apply(is_float)])"
      ],
      "metadata": {
        "colab": {
          "base_uri": "https://localhost:8080/"
        },
        "id": "VlnQSX7ZdNul",
        "outputId": "3e950002-1f9f-46c7-befd-cb6b65067e62"
      },
      "id": "VlnQSX7ZdNul",
      "execution_count": 48,
      "outputs": [
        {
          "output_type": "execute_result",
          "data": {
            "text/plain": [
              "46"
            ]
          },
          "metadata": {},
          "execution_count": 48
        }
      ]
    },
    {
      "cell_type": "code",
      "source": [
        "df3['total_sqft'].dtypes"
      ],
      "metadata": {
        "colab": {
          "base_uri": "https://localhost:8080/"
        },
        "id": "x5jTA4D8fQcw",
        "outputId": "d15b5452-e312-41d9-8982-f7fc06d5ef0b"
      },
      "id": "x5jTA4D8fQcw",
      "execution_count": 49,
      "outputs": [
        {
          "output_type": "execute_result",
          "data": {
            "text/plain": [
              "dtype('O')"
            ]
          },
          "metadata": {},
          "execution_count": 49
        }
      ]
    },
    {
      "cell_type": "code",
      "source": [
        "df3[\"total_sqft\"]= df3[\"total_sqft\"].str.replace(\"Sq. Meter\", \"\")\n",
        "df3[\"total_sqft\"]= df3[\"total_sqft\"].str.replace(\"Acres\", \"\")\n",
        "df3[\"total_sqft\"]= df3[\"total_sqft\"].str.replace(\"Sq. Yard\", \"\")\n",
        "df3[\"total_sqft\"]= df3[\"total_sqft\"].str.replace(\"s\", \"\")\n",
        "df3[\"total_sqft\"]= df3[\"total_sqft\"].str.replace(\"Cent\", \"\")\n",
        "df3[\"total_sqft\"]= df3[\"total_sqft\"].str.replace(\"Guntha\", \"\")\n",
        "df3[\"total_sqft\"]= df3[\"total_sqft\"].str.replace(\"Ground\", \"\")\n",
        "df3[\"total_sqft\"]= df3[\"total_sqft\"].str.replace(\"Perch\", \"\")"
      ],
      "metadata": {
        "id": "sQJmPK7pQSgZ"
      },
      "id": "sQJmPK7pQSgZ",
      "execution_count": 50,
      "outputs": []
    },
    {
      "cell_type": "code",
      "source": [
        "df3[\"total_sqft\"]= df3[\"total_sqft\"].astype(float)"
      ],
      "metadata": {
        "id": "86iMxWYwRDg1"
      },
      "id": "86iMxWYwRDg1",
      "execution_count": 51,
      "outputs": []
    },
    {
      "cell_type": "code",
      "source": [
        "df3.info()"
      ],
      "metadata": {
        "colab": {
          "base_uri": "https://localhost:8080/"
        },
        "id": "uHEhj5-Fhlp7",
        "outputId": "0da5daeb-c586-47a4-bbde-52ce6a600b57"
      },
      "id": "uHEhj5-Fhlp7",
      "execution_count": 52,
      "outputs": [
        {
          "output_type": "stream",
          "name": "stdout",
          "text": [
            "<class 'pandas.core.frame.DataFrame'>\n",
            "Int64Index: 12678 entries, 0 to 13318\n",
            "Data columns (total 7 columns):\n",
            " #   Column      Non-Null Count  Dtype  \n",
            "---  ------      --------------  -----  \n",
            " 0   area_type   12678 non-null  object \n",
            " 1   location    12678 non-null  object \n",
            " 2   total_sqft  12535 non-null  float64\n",
            " 3   bath        12678 non-null  float64\n",
            " 4   balcony     12678 non-null  float64\n",
            " 5   price       12678 non-null  float64\n",
            " 6   Bedrooms    12678 non-null  int64  \n",
            "dtypes: float64(4), int64(1), object(2)\n",
            "memory usage: 1.3+ MB\n"
          ]
        }
      ]
    },
    {
      "cell_type": "code",
      "source": [
        "df3.isnull().sum()"
      ],
      "metadata": {
        "colab": {
          "base_uri": "https://localhost:8080/"
        },
        "id": "r98BGC9_PFUZ",
        "outputId": "fee9307a-88ee-469f-b7eb-0fc0e5b3cbc0"
      },
      "execution_count": 53,
      "outputs": [
        {
          "output_type": "execute_result",
          "data": {
            "text/plain": [
              "area_type       0\n",
              "location        0\n",
              "total_sqft    143\n",
              "bath            0\n",
              "balcony         0\n",
              "price           0\n",
              "Bedrooms        0\n",
              "dtype: int64"
            ]
          },
          "metadata": {},
          "execution_count": 53
        }
      ],
      "id": "r98BGC9_PFUZ"
    },
    {
      "cell_type": "markdown",
      "source": [
        "we will drop values that include different units:"
      ],
      "metadata": {
        "id": "ObU67ZWFPFUZ"
      },
      "id": "ObU67ZWFPFUZ"
    },
    {
      "cell_type": "code",
      "source": [
        "df3.dropna(inplace=True)"
      ],
      "metadata": {
        "id": "C9akMyRzPFUZ"
      },
      "execution_count": 54,
      "outputs": [],
      "id": "C9akMyRzPFUZ"
    },
    {
      "cell_type": "code",
      "source": [
        "df3.isnull().sum()"
      ],
      "metadata": {
        "colab": {
          "base_uri": "https://localhost:8080/"
        },
        "id": "kDzPcU2oPFUZ",
        "outputId": "564be82d-35d8-42e8-b3d1-80f0c81a94af"
      },
      "execution_count": 55,
      "outputs": [
        {
          "output_type": "execute_result",
          "data": {
            "text/plain": [
              "area_type     0\n",
              "location      0\n",
              "total_sqft    0\n",
              "bath          0\n",
              "balcony       0\n",
              "price         0\n",
              "Bedrooms      0\n",
              "dtype: int64"
            ]
          },
          "metadata": {},
          "execution_count": 55
        }
      ],
      "id": "kDzPcU2oPFUZ"
    },
    {
      "cell_type": "code",
      "source": [
        "df3.info()"
      ],
      "metadata": {
        "colab": {
          "base_uri": "https://localhost:8080/"
        },
        "id": "8AlVdcL8PFUZ",
        "outputId": "80f45155-aeee-4dd7-c96c-228938439773"
      },
      "execution_count": 56,
      "outputs": [
        {
          "output_type": "stream",
          "name": "stdout",
          "text": [
            "<class 'pandas.core.frame.DataFrame'>\n",
            "Int64Index: 12535 entries, 0 to 13318\n",
            "Data columns (total 7 columns):\n",
            " #   Column      Non-Null Count  Dtype  \n",
            "---  ------      --------------  -----  \n",
            " 0   area_type   12535 non-null  object \n",
            " 1   location    12535 non-null  object \n",
            " 2   total_sqft  12535 non-null  float64\n",
            " 3   bath        12535 non-null  float64\n",
            " 4   balcony     12535 non-null  float64\n",
            " 5   price       12535 non-null  float64\n",
            " 6   Bedrooms    12535 non-null  int64  \n",
            "dtypes: float64(4), int64(1), object(2)\n",
            "memory usage: 783.4+ KB\n"
          ]
        }
      ],
      "id": "8AlVdcL8PFUZ"
    },
    {
      "cell_type": "markdown",
      "source": [
        "Let's add a new column called \"price per square feet\":"
      ],
      "metadata": {
        "id": "7A2_6b86PFUa"
      },
      "id": "7A2_6b86PFUa"
    },
    {
      "cell_type": "code",
      "source": [
        "df4 = df3.copy()\n",
        "df4['price_per_sqft'] = df4['price']*100000/df4['total_sqft']\n",
        "df4.head()"
      ],
      "metadata": {
        "colab": {
          "base_uri": "https://localhost:8080/",
          "height": 206
        },
        "id": "Yme6JHVIPFUa",
        "outputId": "3b7b36a2-a981-4564-be76-fe3707dfe06b"
      },
      "execution_count": 57,
      "outputs": [
        {
          "output_type": "execute_result",
          "data": {
            "text/plain": [
              "              area_type                  location  total_sqft  bath  balcony  \\\n",
              "0  Super built-up  Area  Electronic City Phase II      1056.0   2.0      1.0   \n",
              "1            Plot  Area          Chikka Tirupathi      2600.0   5.0      3.0   \n",
              "2        Built-up  Area               Uttarahalli      1440.0   2.0      3.0   \n",
              "3  Super built-up  Area        Lingadheeranahalli      1521.0   3.0      1.0   \n",
              "4  Super built-up  Area                  Kothanur      1200.0   2.0      1.0   \n",
              "\n",
              "    price  Bedrooms  price_per_sqft  \n",
              "0   39.07         2     3699.810606  \n",
              "1  120.00         4     4615.384615  \n",
              "2   62.00         3     4305.555556  \n",
              "3   95.00         3     6245.890861  \n",
              "4   51.00         2     4250.000000  "
            ],
            "text/html": [
              "\n",
              "  <div id=\"df-b0d6c9bc-38e3-435b-80bb-53d031c6fe27\">\n",
              "    <div class=\"colab-df-container\">\n",
              "      <div>\n",
              "<style scoped>\n",
              "    .dataframe tbody tr th:only-of-type {\n",
              "        vertical-align: middle;\n",
              "    }\n",
              "\n",
              "    .dataframe tbody tr th {\n",
              "        vertical-align: top;\n",
              "    }\n",
              "\n",
              "    .dataframe thead th {\n",
              "        text-align: right;\n",
              "    }\n",
              "</style>\n",
              "<table border=\"1\" class=\"dataframe\">\n",
              "  <thead>\n",
              "    <tr style=\"text-align: right;\">\n",
              "      <th></th>\n",
              "      <th>area_type</th>\n",
              "      <th>location</th>\n",
              "      <th>total_sqft</th>\n",
              "      <th>bath</th>\n",
              "      <th>balcony</th>\n",
              "      <th>price</th>\n",
              "      <th>Bedrooms</th>\n",
              "      <th>price_per_sqft</th>\n",
              "    </tr>\n",
              "  </thead>\n",
              "  <tbody>\n",
              "    <tr>\n",
              "      <th>0</th>\n",
              "      <td>Super built-up  Area</td>\n",
              "      <td>Electronic City Phase II</td>\n",
              "      <td>1056.0</td>\n",
              "      <td>2.0</td>\n",
              "      <td>1.0</td>\n",
              "      <td>39.07</td>\n",
              "      <td>2</td>\n",
              "      <td>3699.810606</td>\n",
              "    </tr>\n",
              "    <tr>\n",
              "      <th>1</th>\n",
              "      <td>Plot  Area</td>\n",
              "      <td>Chikka Tirupathi</td>\n",
              "      <td>2600.0</td>\n",
              "      <td>5.0</td>\n",
              "      <td>3.0</td>\n",
              "      <td>120.00</td>\n",
              "      <td>4</td>\n",
              "      <td>4615.384615</td>\n",
              "    </tr>\n",
              "    <tr>\n",
              "      <th>2</th>\n",
              "      <td>Built-up  Area</td>\n",
              "      <td>Uttarahalli</td>\n",
              "      <td>1440.0</td>\n",
              "      <td>2.0</td>\n",
              "      <td>3.0</td>\n",
              "      <td>62.00</td>\n",
              "      <td>3</td>\n",
              "      <td>4305.555556</td>\n",
              "    </tr>\n",
              "    <tr>\n",
              "      <th>3</th>\n",
              "      <td>Super built-up  Area</td>\n",
              "      <td>Lingadheeranahalli</td>\n",
              "      <td>1521.0</td>\n",
              "      <td>3.0</td>\n",
              "      <td>1.0</td>\n",
              "      <td>95.00</td>\n",
              "      <td>3</td>\n",
              "      <td>6245.890861</td>\n",
              "    </tr>\n",
              "    <tr>\n",
              "      <th>4</th>\n",
              "      <td>Super built-up  Area</td>\n",
              "      <td>Kothanur</td>\n",
              "      <td>1200.0</td>\n",
              "      <td>2.0</td>\n",
              "      <td>1.0</td>\n",
              "      <td>51.00</td>\n",
              "      <td>2</td>\n",
              "      <td>4250.000000</td>\n",
              "    </tr>\n",
              "  </tbody>\n",
              "</table>\n",
              "</div>\n",
              "      <button class=\"colab-df-convert\" onclick=\"convertToInteractive('df-b0d6c9bc-38e3-435b-80bb-53d031c6fe27')\"\n",
              "              title=\"Convert this dataframe to an interactive table.\"\n",
              "              style=\"display:none;\">\n",
              "        \n",
              "  <svg xmlns=\"http://www.w3.org/2000/svg\" height=\"24px\"viewBox=\"0 0 24 24\"\n",
              "       width=\"24px\">\n",
              "    <path d=\"M0 0h24v24H0V0z\" fill=\"none\"/>\n",
              "    <path d=\"M18.56 5.44l.94 2.06.94-2.06 2.06-.94-2.06-.94-.94-2.06-.94 2.06-2.06.94zm-11 1L8.5 8.5l.94-2.06 2.06-.94-2.06-.94L8.5 2.5l-.94 2.06-2.06.94zm10 10l.94 2.06.94-2.06 2.06-.94-2.06-.94-.94-2.06-.94 2.06-2.06.94z\"/><path d=\"M17.41 7.96l-1.37-1.37c-.4-.4-.92-.59-1.43-.59-.52 0-1.04.2-1.43.59L10.3 9.45l-7.72 7.72c-.78.78-.78 2.05 0 2.83L4 21.41c.39.39.9.59 1.41.59.51 0 1.02-.2 1.41-.59l7.78-7.78 2.81-2.81c.8-.78.8-2.07 0-2.86zM5.41 20L4 18.59l7.72-7.72 1.47 1.35L5.41 20z\"/>\n",
              "  </svg>\n",
              "      </button>\n",
              "      \n",
              "  <style>\n",
              "    .colab-df-container {\n",
              "      display:flex;\n",
              "      flex-wrap:wrap;\n",
              "      gap: 12px;\n",
              "    }\n",
              "\n",
              "    .colab-df-convert {\n",
              "      background-color: #E8F0FE;\n",
              "      border: none;\n",
              "      border-radius: 50%;\n",
              "      cursor: pointer;\n",
              "      display: none;\n",
              "      fill: #1967D2;\n",
              "      height: 32px;\n",
              "      padding: 0 0 0 0;\n",
              "      width: 32px;\n",
              "    }\n",
              "\n",
              "    .colab-df-convert:hover {\n",
              "      background-color: #E2EBFA;\n",
              "      box-shadow: 0px 1px 2px rgba(60, 64, 67, 0.3), 0px 1px 3px 1px rgba(60, 64, 67, 0.15);\n",
              "      fill: #174EA6;\n",
              "    }\n",
              "\n",
              "    [theme=dark] .colab-df-convert {\n",
              "      background-color: #3B4455;\n",
              "      fill: #D2E3FC;\n",
              "    }\n",
              "\n",
              "    [theme=dark] .colab-df-convert:hover {\n",
              "      background-color: #434B5C;\n",
              "      box-shadow: 0px 1px 3px 1px rgba(0, 0, 0, 0.15);\n",
              "      filter: drop-shadow(0px 1px 2px rgba(0, 0, 0, 0.3));\n",
              "      fill: #FFFFFF;\n",
              "    }\n",
              "  </style>\n",
              "\n",
              "      <script>\n",
              "        const buttonEl =\n",
              "          document.querySelector('#df-b0d6c9bc-38e3-435b-80bb-53d031c6fe27 button.colab-df-convert');\n",
              "        buttonEl.style.display =\n",
              "          google.colab.kernel.accessAllowed ? 'block' : 'none';\n",
              "\n",
              "        async function convertToInteractive(key) {\n",
              "          const element = document.querySelector('#df-b0d6c9bc-38e3-435b-80bb-53d031c6fe27');\n",
              "          const dataTable =\n",
              "            await google.colab.kernel.invokeFunction('convertToInteractive',\n",
              "                                                     [key], {});\n",
              "          if (!dataTable) return;\n",
              "\n",
              "          const docLinkHtml = 'Like what you see? Visit the ' +\n",
              "            '<a target=\"_blank\" href=https://colab.research.google.com/notebooks/data_table.ipynb>data table notebook</a>'\n",
              "            + ' to learn more about interactive tables.';\n",
              "          element.innerHTML = '';\n",
              "          dataTable['output_type'] = 'display_data';\n",
              "          await google.colab.output.renderOutput(dataTable, element);\n",
              "          const docLink = document.createElement('div');\n",
              "          docLink.innerHTML = docLinkHtml;\n",
              "          element.appendChild(docLink);\n",
              "        }\n",
              "      </script>\n",
              "    </div>\n",
              "  </div>\n",
              "  "
            ]
          },
          "metadata": {},
          "execution_count": 57
        }
      ],
      "id": "Yme6JHVIPFUa"
    },
    {
      "cell_type": "code",
      "source": [
        "location_price_perS= df4.groupby('location')[\"price_per_sqft\"].mean().sort_values(ascending=False)\n",
        "location_price_perS.head(10)"
      ],
      "metadata": {
        "colab": {
          "base_uri": "https://localhost:8080/"
        },
        "id": "hirgD2cIPFUa",
        "outputId": "d2633510-ce1c-48a9-d388-b05bad565e8e"
      },
      "execution_count": 58,
      "outputs": [
        {
          "output_type": "execute_result",
          "data": {
            "text/plain": [
              "location\n",
              "2 Bedroom Furnished Farm House in Kolar Road    1.600000e+07\n",
              "Harohalli                                       4.786681e+06\n",
              "5 Bedroom Farm House in Lakshmipura             2.291667e+06\n",
              "Marathi Layout                                  2.071563e+06\n",
              "arudi                                           1.333333e+06\n",
              "Kannur                                          1.252292e+06\n",
              "Grihalakshmi Layout                             6.250000e+05\n",
              "Srirampuram                                     4.810041e+05\n",
              "Suragajakkanahalli                              3.393636e+05\n",
              "Arishinakunte                                   1.550950e+05\n",
              "Name: price_per_sqft, dtype: float64"
            ]
          },
          "metadata": {},
          "execution_count": 58
        }
      ],
      "id": "hirgD2cIPFUa"
    },
    {
      "cell_type": "markdown",
      "source": [
        "Top 10 Costly location"
      ],
      "metadata": {
        "id": "3oI-jS9IluDD"
      },
      "id": "3oI-jS9IluDD"
    },
    {
      "cell_type": "code",
      "source": [
        "df4 = df4.reset_index(drop=True)"
      ],
      "metadata": {
        "id": "egf7msaomjVJ"
      },
      "id": "egf7msaomjVJ",
      "execution_count": 59,
      "outputs": []
    },
    {
      "cell_type": "code",
      "source": [
        "sns.histplot(df4.area_type, color = \"orange\")\n",
        "plt.show()"
      ],
      "metadata": {
        "colab": {
          "base_uri": "https://localhost:8080/",
          "height": 606
        },
        "id": "j1iGuSawmwji",
        "outputId": "622d8314-60a2-4a88-e25d-13dc403ea7f6"
      },
      "id": "j1iGuSawmwji",
      "execution_count": 60,
      "outputs": [
        {
          "output_type": "display_data",
          "data": {
            "text/plain": [
              "<Figure size 1440x720 with 1 Axes>"
            ],
            "image/png": "[encoded data removed]"
          },
          "metadata": {
            "needs_background": "light"
          }
        }
      ]
    },
    {
      "cell_type": "code",
      "source": [
        "df4.info()"
      ],
      "metadata": {
        "colab": {
          "base_uri": "https://localhost:8080/"
        },
        "id": "k75NAUwznczh",
        "outputId": "1e86c3b8-5fbe-48d1-f900-9db2f1e70414"
      },
      "id": "k75NAUwznczh",
      "execution_count": 61,
      "outputs": [
        {
          "output_type": "stream",
          "name": "stdout",
          "text": [
            "<class 'pandas.core.frame.DataFrame'>\n",
            "RangeIndex: 12535 entries, 0 to 12534\n",
            "Data columns (total 8 columns):\n",
            " #   Column          Non-Null Count  Dtype  \n",
            "---  ------          --------------  -----  \n",
            " 0   area_type       12535 non-null  object \n",
            " 1   location        12535 non-null  object \n",
            " 2   total_sqft      12535 non-null  float64\n",
            " 3   bath            12535 non-null  float64\n",
            " 4   balcony         12535 non-null  float64\n",
            " 5   price           12535 non-null  float64\n",
            " 6   Bedrooms        12535 non-null  int64  \n",
            " 7   price_per_sqft  12535 non-null  float64\n",
            "dtypes: float64(5), int64(1), object(2)\n",
            "memory usage: 783.6+ KB\n"
          ]
        }
      ]
    },
    {
      "cell_type": "code",
      "source": [
        "for col in [\"total_sqft\", \"bath\", \"balcony\", \"price_per_sqft\"]:\n",
        "    plt.figure(figsize=(9,6));\n",
        "    sns.boxenplot(y=col,data=df4,palette='summer');\n",
        "    plt.title(f'Outliers in {col}',fontsize=25,fontweight=5);\n",
        "    plt.show()"
      ],
      "metadata": {
        "colab": {
          "base_uri": "https://localhost:8080/",
          "height": 1000
        },
        "id": "iliHoVZnm7tk",
        "outputId": "2a3cfb36-8f00-489f-d42a-c9d09c3b2c8e"
      },
      "id": "iliHoVZnm7tk",
      "execution_count": 62,
      "outputs": [
        {
          "output_type": "display_data",
          "data": {
            "text/plain": [
              "<Figure size 648x432 with 1 Axes>"
            ],
            "image/png": "[encoded data removed]"
          },
          "metadata": {
            "needs_background": "light"
          }
        },
        {
          "output_type": "display_data",
          "data": {
            "text/plain": [
              "<Figure size 648x432 with 1 Axes>"
            ],
            "image/png": "[encoded data removed]"
          },
          "metadata": {
            "needs_background": "light"
          }
        },
        {
          "output_type": "display_data",
          "data": {
            "text/plain": [
              "<Figure size 648x432 with 1 Axes>"
            ],
            "image/png": "[encoded data removed]"
          },
          "metadata": {
            "needs_background": "light"
          }
        },
        {
          "output_type": "display_data",
          "data": {
            "text/plain": [
              "<Figure size 648x432 with 1 Axes>"
            ],
            "image/png": "[encoded data removed]"
          },
          "metadata": {
            "needs_background": "light"
          }
        }
      ]
    },
    {
      "cell_type": "markdown",
      "source": [
        "House with size less than 100 and more than 5000 square feet is impractical. Thus, such outliers will be removed."
      ],
      "metadata": {
        "id": "PeDJ0z_7n4Fn"
      },
      "id": "PeDJ0z_7n4Fn"
    },
    {
      "cell_type": "code",
      "source": [
        "df4 = df4[(df4[\"total_sqft\"] >= 100) | (df4[\"total_sqft\"] <= 5000)]"
      ],
      "metadata": {
        "id": "alEi3IsMn2fT"
      },
      "id": "alEi3IsMn2fT",
      "execution_count": 63,
      "outputs": []
    },
    {
      "cell_type": "markdown",
      "source": [
        "Houses with more than 10 bathrooms are acting as outliers."
      ],
      "metadata": {
        "id": "dGuVQpEIoAsj"
      },
      "id": "dGuVQpEIoAsj"
    },
    {
      "cell_type": "code",
      "source": [
        "print(np.where(df4[\"bath\"]<10))"
      ],
      "metadata": {
        "colab": {
          "base_uri": "https://localhost:8080/"
        },
        "id": "GhqaM1bHoBX5",
        "outputId": "0b6bad99-f12e-4200-f034-5d5279ad34f4"
      },
      "id": "GhqaM1bHoBX5",
      "execution_count": 64,
      "outputs": [
        {
          "output_type": "stream",
          "name": "stdout",
          "text": [
            "(array([    0,     1,     2, ..., 12532, 12533, 12534]),)\n"
          ]
        }
      ]
    },
    {
      "cell_type": "code",
      "source": [
        "df4 = df4[(df4[\"bath\"] <= 10)]"
      ],
      "metadata": {
        "id": "iDk8p1LAoIF8"
      },
      "id": "iDk8p1LAoIF8",
      "execution_count": 65,
      "outputs": []
    },
    {
      "cell_type": "code",
      "source": [
        "print(np.where((df4[\"price_per_sqft\"]<1000) | (df4['price_per_sqft']>50000)))"
      ],
      "metadata": {
        "colab": {
          "base_uri": "https://localhost:8080/"
        },
        "id": "GTELJf-WoICZ",
        "outputId": "293fb8e6-1242-4b42-ec17-1b042ed95ca0"
      },
      "id": "GTELJf-WoICZ",
      "execution_count": 66,
      "outputs": [
        {
          "output_type": "stream",
          "name": "stdout",
          "text": [
            "(array([  340,   401,   660,   793,   994,   995,  1060,  1095,  1696,\n",
            "        1841,  2244,  3177,  3947,  4147,  4795,  5198,  5253,  5331,\n",
            "        5419,  5453,  5491,  5733,  5739,  6045,  6073,  6153,  6275,\n",
            "        6653,  6781,  6933,  7017,  7273,  7320,  7386,  7536,  7599,\n",
            "        7896,  8009,  8775,  8944,  9042,  9936, 10694, 10909, 10958,\n",
            "       11082, 11545, 11722, 11747, 11828]),)\n"
          ]
        }
      ]
    },
    {
      "cell_type": "markdown",
      "source": [
        "Houses with price more than 50,000 per square feet are acting as outliers."
      ],
      "metadata": {
        "id": "heaKtvx9oENH"
      },
      "id": "heaKtvx9oENH"
    },
    {
      "cell_type": "code",
      "source": [
        "df4 = df4[(df4[\"price_per_sqft\"]>=1000) | (df4['price_per_sqft']<=50000)]"
      ],
      "metadata": {
        "id": "EWIqteeloW7o"
      },
      "id": "EWIqteeloW7o",
      "execution_count": 67,
      "outputs": []
    },
    {
      "cell_type": "code",
      "source": [
        "df4.info()"
      ],
      "metadata": {
        "colab": {
          "base_uri": "https://localhost:8080/"
        },
        "id": "kQyAtWegoeI2",
        "outputId": "987d2693-6eeb-466b-e28f-5c024c2651f3"
      },
      "id": "kQyAtWegoeI2",
      "execution_count": 68,
      "outputs": [
        {
          "output_type": "stream",
          "name": "stdout",
          "text": [
            "<class 'pandas.core.frame.DataFrame'>\n",
            "Int64Index: 12515 entries, 0 to 12534\n",
            "Data columns (total 8 columns):\n",
            " #   Column          Non-Null Count  Dtype  \n",
            "---  ------          --------------  -----  \n",
            " 0   area_type       12515 non-null  object \n",
            " 1   location        12515 non-null  object \n",
            " 2   total_sqft      12515 non-null  float64\n",
            " 3   bath            12515 non-null  float64\n",
            " 4   balcony         12515 non-null  float64\n",
            " 5   price           12515 non-null  float64\n",
            " 6   Bedrooms        12515 non-null  int64  \n",
            " 7   price_per_sqft  12515 non-null  float64\n",
            "dtypes: float64(5), int64(1), object(2)\n",
            "memory usage: 880.0+ KB\n"
          ]
        }
      ]
    },
    {
      "cell_type": "code",
      "source": [
        "plt.figure(figsize = (12,9))\n",
        "sns.heatmap(df4.corr(), annot = True, cmap = \"magma_r\")\n",
        "plt.title(\"Correlation Heatmap\",fontdict = {\"fontweight\":\"bold\"})\n",
        "plt.show()"
      ],
      "metadata": {
        "colab": {
          "base_uri": "https://localhost:8080/",
          "height": 554
        },
        "id": "-e0AScpJosyN",
        "outputId": "84a7a0bb-fa4d-4507-f070-6e531767bae3"
      },
      "id": "-e0AScpJosyN",
      "execution_count": 70,
      "outputs": [
        {
          "output_type": "display_data",
          "data": {
            "text/plain": [
              "<Figure size 864x648 with 2 Axes>"
            ],
            "image/png": "[encoded data removed]"
          },
          "metadata": {
            "needs_background": "light"
          }
        }
      ]
    },
    {
      "cell_type": "markdown",
      "source": [
        "### Handling \"location\" column"
      ],
      "metadata": {
        "id": "AlvtBQyvPFUa"
      },
      "id": "AlvtBQyvPFUa"
    },
    {
      "cell_type": "code",
      "source": [
        "df4['location'].nunique()"
      ],
      "metadata": {
        "colab": {
          "base_uri": "https://localhost:8080/"
        },
        "id": "RUuyjF65PFUa",
        "outputId": "ee37fcf7-af7f-4356-9d5a-f2348e5cf9ce"
      },
      "execution_count": 71,
      "outputs": [
        {
          "output_type": "execute_result",
          "data": {
            "text/plain": [
              "1296"
            ]
          },
          "metadata": {},
          "execution_count": 71
        }
      ],
      "id": "RUuyjF65PFUa"
    },
    {
      "cell_type": "markdown",
      "source": [
        "we cant give these many column for one hot encode will cost high computation"
      ],
      "metadata": {
        "id": "sZl7umqKl5e5"
      },
      "id": "sZl7umqKl5e5"
    },
    {
      "cell_type": "code",
      "source": [
        "def name_correction(x):\n",
        "    x = x.lower() # all letters lower case\n",
        "    x = x.replace('  ', ' ') # replace double spaces with single spaces\n",
        "    x = x.strip() # remove leading and trailing white space\n",
        "    return x"
      ],
      "metadata": {
        "id": "oHDFwS4hPFUa"
      },
      "execution_count": 72,
      "outputs": [],
      "id": "oHDFwS4hPFUa"
    },
    {
      "cell_type": "code",
      "source": [
        "df5 = df4.copy()\n",
        "df5[\"location\"] = df5[\"location\"].apply(lambda x: name_correction(x))"
      ],
      "metadata": {
        "id": "HZ8uY4y2PFUf"
      },
      "execution_count": 74,
      "outputs": [],
      "id": "HZ8uY4y2PFUf"
    },
    {
      "cell_type": "code",
      "source": [
        "df5['location'].nunique()"
      ],
      "metadata": {
        "colab": {
          "base_uri": "https://localhost:8080/"
        },
        "id": "Wth8tqOuPFUg",
        "outputId": "44b8ad4d-c86a-4270-852f-e864b25acb76"
      },
      "execution_count": 75,
      "outputs": [
        {
          "output_type": "execute_result",
          "data": {
            "text/plain": [
              "1273"
            ]
          },
          "metadata": {},
          "execution_count": 75
        }
      ],
      "id": "Wth8tqOuPFUg"
    },
    {
      "cell_type": "code",
      "source": [
        "locations= df5['location'].value_counts(ascending=False)\n",
        "locations"
      ],
      "metadata": {
        "colab": {
          "base_uri": "https://localhost:8080/"
        },
        "id": "VYg5xocnPFUg",
        "outputId": "dac67160-0e08-4ab9-ffae-60d8556dba36"
      },
      "execution_count": 76,
      "outputs": [
        {
          "output_type": "execute_result",
          "data": {
            "text/plain": [
              "whitefield                        505\n",
              "sarjapur road                     366\n",
              "electronic city                   287\n",
              "kanakpura road                    231\n",
              "thanisandra                       221\n",
              "                                 ... \n",
              "old town                            1\n",
              "vasantapura main road               1\n",
              "bapuji layout                       1\n",
              "1st stage radha krishna layout      1\n",
              "abshot layout                       1\n",
              "Name: location, Length: 1273, dtype: int64"
            ]
          },
          "metadata": {},
          "execution_count": 76
        }
      ],
      "id": "VYg5xocnPFUg"
    },
    {
      "cell_type": "markdown",
      "source": [
        "Label Encoding"
      ],
      "metadata": {
        "id": "5_w3A4shPFUg"
      },
      "id": "5_w3A4shPFUg"
    },
    {
      "cell_type": "code",
      "source": [
        "df5.info()"
      ],
      "metadata": {
        "colab": {
          "base_uri": "https://localhost:8080/"
        },
        "id": "lBEwTWJthoSx",
        "outputId": "18ba7a64-5135-49be-a937-2e18ff11c474"
      },
      "id": "lBEwTWJthoSx",
      "execution_count": 77,
      "outputs": [
        {
          "output_type": "stream",
          "name": "stdout",
          "text": [
            "<class 'pandas.core.frame.DataFrame'>\n",
            "Int64Index: 12515 entries, 0 to 12534\n",
            "Data columns (total 8 columns):\n",
            " #   Column          Non-Null Count  Dtype  \n",
            "---  ------          --------------  -----  \n",
            " 0   area_type       12515 non-null  object \n",
            " 1   location        12515 non-null  object \n",
            " 2   total_sqft      12515 non-null  float64\n",
            " 3   bath            12515 non-null  float64\n",
            " 4   balcony         12515 non-null  float64\n",
            " 5   price           12515 non-null  float64\n",
            " 6   Bedrooms        12515 non-null  int64  \n",
            " 7   price_per_sqft  12515 non-null  float64\n",
            "dtypes: float64(5), int64(1), object(2)\n",
            "memory usage: 880.0+ KB\n"
          ]
        }
      ]
    },
    {
      "cell_type": "code",
      "source": [
        "from sklearn.preprocessing import LabelEncoder"
      ],
      "metadata": {
        "id": "dZnzkoiqPFUg"
      },
      "execution_count": 78,
      "outputs": [],
      "id": "dZnzkoiqPFUg"
    },
    {
      "cell_type": "code",
      "source": [
        "encoder = LabelEncoder()\n",
        "df5['area_type'] = encoder.fit_transform(df5['area_type'])\n",
        "df5['location'] = encoder.fit_transform(df5['location'])\n",
        "df5['Bedrooms'] = encoder.fit_transform(df5['Bedrooms'])"
      ],
      "metadata": {
        "id": "9mhoDJdjPFUg"
      },
      "execution_count": 79,
      "outputs": [],
      "id": "9mhoDJdjPFUg"
    },
    {
      "cell_type": "markdown",
      "source": [
        "### Handling \"bath\" column"
      ],
      "metadata": {
        "id": "BLr1lFRXPFUh"
      },
      "id": "BLr1lFRXPFUh"
    },
    {
      "cell_type": "code",
      "source": [
        "df5.shape"
      ],
      "metadata": {
        "colab": {
          "base_uri": "https://localhost:8080/"
        },
        "id": "FfIs8yuNPFUh",
        "outputId": "044346f7-47a0-4f93-8f56-d6bf0c479b9e"
      },
      "execution_count": 80,
      "outputs": [
        {
          "output_type": "execute_result",
          "data": {
            "text/plain": [
              "(12515, 8)"
            ]
          },
          "metadata": {},
          "execution_count": 80
        }
      ],
      "id": "FfIs8yuNPFUh"
    },
    {
      "cell_type": "code",
      "source": [
        "df5.bath.value_counts()"
      ],
      "metadata": {
        "colab": {
          "base_uri": "https://localhost:8080/"
        },
        "id": "afDh7qAoPFUh",
        "outputId": "0a2f7d46-7696-4783-e22e-0c48771d31ff"
      },
      "execution_count": 81,
      "outputs": [
        {
          "output_type": "execute_result",
          "data": {
            "text/plain": [
              "2.0     6464\n",
              "3.0     3154\n",
              "4.0     1185\n",
              "1.0      722\n",
              "5.0      510\n",
              "6.0      260\n",
              "7.0      101\n",
              "8.0       64\n",
              "9.0       42\n",
              "10.0      13\n",
              "Name: bath, dtype: int64"
            ]
          },
          "metadata": {},
          "execution_count": 81
        }
      ],
      "id": "afDh7qAoPFUh"
    },
    {
      "cell_type": "code",
      "source": [
        "plt.hist(df5.bath,rwidth=0.5)\n",
        "plt.xlabel(\"Number of bathrooms\")\n",
        "plt.ylabel(\"Count\")"
      ],
      "metadata": {
        "colab": {
          "base_uri": "https://localhost:8080/",
          "height": 623
        },
        "id": "4GvljKZCPFUh",
        "outputId": "f8770bea-4674-474e-db64-616694a1e102"
      },
      "execution_count": 82,
      "outputs": [
        {
          "output_type": "execute_result",
          "data": {
            "text/plain": [
              "Text(0, 0.5, 'Count')"
            ]
          },
          "metadata": {},
          "execution_count": 82
        },
        {
          "output_type": "display_data",
          "data": {
            "text/plain": [
              "<Figure size 1440x720 with 1 Axes>"
            ],
            "image/png": "[encoded data removed]"
          },
          "metadata": {
            "needs_background": "light"
          }
        }
      ],
      "id": "4GvljKZCPFUh"
    },
    {
      "cell_type": "markdown",
      "source": [
        "It seems logical that the number of bathrooms in a house would be at most 1 more than the number of bedrooms (one bathroom in each bedroom and a maximum of  bathroom for guests):"
      ],
      "metadata": {
        "id": "om2fClXQPFUi"
      },
      "id": "om2fClXQPFUi"
    },
    {
      "cell_type": "code",
      "source": [
        "df6= df5[df5.bath<(df5.Bedrooms+2)]\n",
        "df6.shape"
      ],
      "metadata": {
        "colab": {
          "base_uri": "https://localhost:8080/"
        },
        "id": "TL2_CpBTPFUi",
        "outputId": "84f235f9-831d-454c-c331-21341dcdb56c"
      },
      "execution_count": 83,
      "outputs": [
        {
          "output_type": "execute_result",
          "data": {
            "text/plain": [
              "(11662, 8)"
            ]
          },
          "metadata": {},
          "execution_count": 83
        }
      ],
      "id": "TL2_CpBTPFUi"
    },
    {
      "cell_type": "code",
      "source": [
        "df6.bath.value_counts()"
      ],
      "metadata": {
        "colab": {
          "base_uri": "https://localhost:8080/"
        },
        "id": "zhz4kHHoPFUi",
        "outputId": "81f0be29-e44a-4dd5-d6d5-86ded4bfe670"
      },
      "execution_count": 84,
      "outputs": [
        {
          "output_type": "execute_result",
          "data": {
            "text/plain": [
              "2.0     6424\n",
              "3.0     3093\n",
              "4.0      894\n",
              "1.0      722\n",
              "5.0      222\n",
              "6.0      154\n",
              "7.0       70\n",
              "8.0       47\n",
              "9.0       30\n",
              "10.0       6\n",
              "Name: bath, dtype: int64"
            ]
          },
          "metadata": {},
          "execution_count": 84
        }
      ],
      "id": "zhz4kHHoPFUi"
    },
    {
      "cell_type": "code",
      "source": [
        "df6.head()"
      ],
      "metadata": {
        "colab": {
          "base_uri": "https://localhost:8080/",
          "height": 206
        },
        "id": "zAp5Wjn1PFUi",
        "outputId": "7d532352-8f7a-4b6c-86fc-a2f580da49aa"
      },
      "execution_count": 85,
      "outputs": [
        {
          "output_type": "execute_result",
          "data": {
            "text/plain": [
              "   area_type  location  total_sqft  bath  balcony  price  Bedrooms  \\\n",
              "0          3       405      1056.0   2.0      1.0  39.07         1   \n",
              "2          0      1179      1440.0   2.0      3.0  62.00         2   \n",
              "3          3       744      1521.0   3.0      1.0  95.00         2   \n",
              "4          3       697      1200.0   2.0      1.0  51.00         1   \n",
              "5          3      1254      1170.0   2.0      1.0  38.00         1   \n",
              "\n",
              "   price_per_sqft  \n",
              "0     3699.810606  \n",
              "2     4305.555556  \n",
              "3     6245.890861  \n",
              "4     4250.000000  \n",
              "5     3247.863248  "
            ],
            "text/html": [
              "\n",
              "  <div id=\"df-d681ca85-823e-4e36-8b42-5927e9bd44aa\">\n",
              "    <div class=\"colab-df-container\">\n",
              "      <div>\n",
              "<style scoped>\n",
              "    .dataframe tbody tr th:only-of-type {\n",
              "        vertical-align: middle;\n",
              "    }\n",
              "\n",
              "    .dataframe tbody tr th {\n",
              "        vertical-align: top;\n",
              "    }\n",
              "\n",
              "    .dataframe thead th {\n",
              "        text-align: right;\n",
              "    }\n",
              "</style>\n",
              "<table border=\"1\" class=\"dataframe\">\n",
              "  <thead>\n",
              "    <tr style=\"text-align: right;\">\n",
              "      <th></th>\n",
              "      <th>area_type</th>\n",
              "      <th>location</th>\n",
              "      <th>total_sqft</th>\n",
              "      <th>bath</th>\n",
              "      <th>balcony</th>\n",
              "      <th>price</th>\n",
              "      <th>Bedrooms</th>\n",
              "      <th>price_per_sqft</th>\n",
              "    </tr>\n",
              "  </thead>\n",
              "  <tbody>\n",
              "    <tr>\n",
              "      <th>0</th>\n",
              "      <td>3</td>\n",
              "      <td>405</td>\n",
              "      <td>1056.0</td>\n",
              "      <td>2.0</td>\n",
              "      <td>1.0</td>\n",
              "      <td>39.07</td>\n",
              "      <td>1</td>\n",
              "      <td>3699.810606</td>\n",
              "    </tr>\n",
              "    <tr>\n",
              "      <th>2</th>\n",
              "      <td>0</td>\n",
              "      <td>1179</td>\n",
              "      <td>1440.0</td>\n",
              "      <td>2.0</td>\n",
              "      <td>3.0</td>\n",
              "      <td>62.00</td>\n",
              "      <td>2</td>\n",
              "      <td>4305.555556</td>\n",
              "    </tr>\n",
              "    <tr>\n",
              "      <th>3</th>\n",
              "      <td>3</td>\n",
              "      <td>744</td>\n",
              "      <td>1521.0</td>\n",
              "      <td>3.0</td>\n",
              "      <td>1.0</td>\n",
              "      <td>95.00</td>\n",
              "      <td>2</td>\n",
              "      <td>6245.890861</td>\n",
              "    </tr>\n",
              "    <tr>\n",
              "      <th>4</th>\n",
              "      <td>3</td>\n",
              "      <td>697</td>\n",
              "      <td>1200.0</td>\n",
              "      <td>2.0</td>\n",
              "      <td>1.0</td>\n",
              "      <td>51.00</td>\n",
              "      <td>1</td>\n",
              "      <td>4250.000000</td>\n",
              "    </tr>\n",
              "    <tr>\n",
              "      <th>5</th>\n",
              "      <td>3</td>\n",
              "      <td>1254</td>\n",
              "      <td>1170.0</td>\n",
              "      <td>2.0</td>\n",
              "      <td>1.0</td>\n",
              "      <td>38.00</td>\n",
              "      <td>1</td>\n",
              "      <td>3247.863248</td>\n",
              "    </tr>\n",
              "  </tbody>\n",
              "</table>\n",
              "</div>\n",
              "      <button class=\"colab-df-convert\" onclick=\"convertToInteractive('df-d681ca85-823e-4e36-8b42-5927e9bd44aa')\"\n",
              "              title=\"Convert this dataframe to an interactive table.\"\n",
              "              style=\"display:none;\">\n",
              "        \n",
              "  <svg xmlns=\"http://www.w3.org/2000/svg\" height=\"24px\"viewBox=\"0 0 24 24\"\n",
              "       width=\"24px\">\n",
              "    <path d=\"M0 0h24v24H0V0z\" fill=\"none\"/>\n",
              "    <path d=\"M18.56 5.44l.94 2.06.94-2.06 2.06-.94-2.06-.94-.94-2.06-.94 2.06-2.06.94zm-11 1L8.5 8.5l.94-2.06 2.06-.94-2.06-.94L8.5 2.5l-.94 2.06-2.06.94zm10 10l.94 2.06.94-2.06 2.06-.94-2.06-.94-.94-2.06-.94 2.06-2.06.94z\"/><path d=\"M17.41 7.96l-1.37-1.37c-.4-.4-.92-.59-1.43-.59-.52 0-1.04.2-1.43.59L10.3 9.45l-7.72 7.72c-.78.78-.78 2.05 0 2.83L4 21.41c.39.39.9.59 1.41.59.51 0 1.02-.2 1.41-.59l7.78-7.78 2.81-2.81c.8-.78.8-2.07 0-2.86zM5.41 20L4 18.59l7.72-7.72 1.47 1.35L5.41 20z\"/>\n",
              "  </svg>\n",
              "      </button>\n",
              "      \n",
              "  <style>\n",
              "    .colab-df-container {\n",
              "      display:flex;\n",
              "      flex-wrap:wrap;\n",
              "      gap: 12px;\n",
              "    }\n",
              "\n",
              "    .colab-df-convert {\n",
              "      background-color: #E8F0FE;\n",
              "      border: none;\n",
              "      border-radius: 50%;\n",
              "      cursor: pointer;\n",
              "      display: none;\n",
              "      fill: #1967D2;\n",
              "      height: 32px;\n",
              "      padding: 0 0 0 0;\n",
              "      width: 32px;\n",
              "    }\n",
              "\n",
              "    .colab-df-convert:hover {\n",
              "      background-color: #E2EBFA;\n",
              "      box-shadow: 0px 1px 2px rgba(60, 64, 67, 0.3), 0px 1px 3px 1px rgba(60, 64, 67, 0.15);\n",
              "      fill: #174EA6;\n",
              "    }\n",
              "\n",
              "    [theme=dark] .colab-df-convert {\n",
              "      background-color: #3B4455;\n",
              "      fill: #D2E3FC;\n",
              "    }\n",
              "\n",
              "    [theme=dark] .colab-df-convert:hover {\n",
              "      background-color: #434B5C;\n",
              "      box-shadow: 0px 1px 3px 1px rgba(0, 0, 0, 0.15);\n",
              "      filter: drop-shadow(0px 1px 2px rgba(0, 0, 0, 0.3));\n",
              "      fill: #FFFFFF;\n",
              "    }\n",
              "  </style>\n",
              "\n",
              "      <script>\n",
              "        const buttonEl =\n",
              "          document.querySelector('#df-d681ca85-823e-4e36-8b42-5927e9bd44aa button.colab-df-convert');\n",
              "        buttonEl.style.display =\n",
              "          google.colab.kernel.accessAllowed ? 'block' : 'none';\n",
              "\n",
              "        async function convertToInteractive(key) {\n",
              "          const element = document.querySelector('#df-d681ca85-823e-4e36-8b42-5927e9bd44aa');\n",
              "          const dataTable =\n",
              "            await google.colab.kernel.invokeFunction('convertToInteractive',\n",
              "                                                     [key], {});\n",
              "          if (!dataTable) return;\n",
              "\n",
              "          const docLinkHtml = 'Like what you see? Visit the ' +\n",
              "            '<a target=\"_blank\" href=https://colab.research.google.com/notebooks/data_table.ipynb>data table notebook</a>'\n",
              "            + ' to learn more about interactive tables.';\n",
              "          element.innerHTML = '';\n",
              "          dataTable['output_type'] = 'display_data';\n",
              "          await google.colab.output.renderOutput(dataTable, element);\n",
              "          const docLink = document.createElement('div');\n",
              "          docLink.innerHTML = docLinkHtml;\n",
              "          element.appendChild(docLink);\n",
              "        }\n",
              "      </script>\n",
              "    </div>\n",
              "  </div>\n",
              "  "
            ]
          },
          "metadata": {},
          "execution_count": 85
        }
      ],
      "id": "zAp5Wjn1PFUi"
    },
    {
      "cell_type": "markdown",
      "source": [
        "# Corelation of Price with different features"
      ],
      "metadata": {
        "id": "0P3eAINiavvy"
      },
      "id": "0P3eAINiavvy"
    },
    {
      "cell_type": "code",
      "source": [
        "import seaborn as sns"
      ],
      "metadata": {
        "id": "_xYe3mC_a7mP"
      },
      "id": "_xYe3mC_a7mP",
      "execution_count": 86,
      "outputs": []
    },
    {
      "cell_type": "code",
      "source": [
        "plt.figure(figsize = (12,9))\n",
        "sns.heatmap(df6.corr(), annot = True, cmap = \"magma_r\")\n",
        "plt.title(\"Correlation Heatmap\",fontdict = {\"fontweight\":\"bold\"})\n",
        "plt.show()"
      ],
      "metadata": {
        "colab": {
          "base_uri": "https://localhost:8080/",
          "height": 554
        },
        "id": "Km2GYJwNaySF",
        "outputId": "04fc6254-9487-488f-a3bb-7740a3bd4599"
      },
      "id": "Km2GYJwNaySF",
      "execution_count": 87,
      "outputs": [
        {
          "output_type": "display_data",
          "data": {
            "text/plain": [
              "<Figure size 864x648 with 2 Axes>"
            ],
            "image/png": "[encoded data removed]"
          },
          "metadata": {
            "needs_background": "light"
          }
        }
      ]
    },
    {
      "cell_type": "markdown",
      "source": [
        "### Handling \"square ft per bedroom\""
      ],
      "metadata": {
        "id": "HtTxl_NuPFUi"
      },
      "id": "HtTxl_NuPFUi"
    },
    {
      "cell_type": "markdown",
      "source": [
        "Real estate experts say that a master bedroom averages 300 square meters, while the other bedrooms average 210 square meters each.\n",
        "\n",
        "source:\n",
        "https://www.thebalancemoney.com/how-much-square-footage-do-you-need-5201264#:~:text=A%20master%20bedroom%20averages%20about,about%20210%20square%20feet%20each."
      ],
      "metadata": {
        "id": "ArOiZR9bPFUi"
      },
      "id": "ArOiZR9bPFUi"
    },
    {
      "cell_type": "markdown",
      "source": [
        "Let's drop the ones with a square ft per bedroom 255 ---- ((300+210)/2) and below:"
      ],
      "metadata": {
        "id": "ZDArJkzfPFUi"
      },
      "id": "ZDArJkzfPFUi"
    },
    {
      "cell_type": "code",
      "source": [
        "df7 = df6[~(df6.total_sqft/df6.Bedrooms<255)]\n",
        "df7.shape"
      ],
      "metadata": {
        "colab": {
          "base_uri": "https://localhost:8080/"
        },
        "id": "DBNWboAuPFUi",
        "outputId": "d6d8f2e8-f6cf-48a1-e7b4-b30ff78d62a3"
      },
      "execution_count": 88,
      "outputs": [
        {
          "output_type": "execute_result",
          "data": {
            "text/plain": [
              "(11283, 8)"
            ]
          },
          "metadata": {},
          "execution_count": 88
        }
      ],
      "id": "DBNWboAuPFUi"
    },
    {
      "cell_type": "markdown",
      "source": [
        "## Handling Outliers"
      ],
      "metadata": {
        "id": "q4sLv9_dPFUj"
      },
      "id": "q4sLv9_dPFUj"
    },
    {
      "cell_type": "code",
      "source": [
        "df7.price_per_sqft.describe()"
      ],
      "metadata": {
        "colab": {
          "base_uri": "https://localhost:8080/"
        },
        "id": "lyP_f0RPsiSq",
        "outputId": "aa4f7909-cbfb-48b3-86ec-79c50cc969e0"
      },
      "id": "lyP_f0RPsiSq",
      "execution_count": 89,
      "outputs": [
        {
          "output_type": "execute_result",
          "data": {
            "text/plain": [
              "count    1.128300e+04\n",
              "mean     8.405645e+03\n",
              "std      1.209004e+05\n",
              "min      2.678298e+02\n",
              "25%      4.210526e+03\n",
              "50%      5.285714e+03\n",
              "75%      6.867465e+03\n",
              "max      9.920635e+06\n",
              "Name: price_per_sqft, dtype: float64"
            ]
          },
          "metadata": {},
          "execution_count": 89
        }
      ]
    },
    {
      "cell_type": "code",
      "source": [
        "df7.info()"
      ],
      "metadata": {
        "colab": {
          "base_uri": "https://localhost:8080/"
        },
        "id": "9zs4DVAnPFUj",
        "outputId": "e9d64687-47ad-4e42-8757-7710c905cdb1"
      },
      "execution_count": 90,
      "outputs": [
        {
          "output_type": "stream",
          "name": "stdout",
          "text": [
            "<class 'pandas.core.frame.DataFrame'>\n",
            "Int64Index: 11283 entries, 0 to 12534\n",
            "Data columns (total 8 columns):\n",
            " #   Column          Non-Null Count  Dtype  \n",
            "---  ------          --------------  -----  \n",
            " 0   area_type       11283 non-null  int64  \n",
            " 1   location        11283 non-null  int64  \n",
            " 2   total_sqft      11283 non-null  float64\n",
            " 3   bath            11283 non-null  float64\n",
            " 4   balcony         11283 non-null  float64\n",
            " 5   price           11283 non-null  float64\n",
            " 6   Bedrooms        11283 non-null  int64  \n",
            " 7   price_per_sqft  11283 non-null  float64\n",
            "dtypes: float64(5), int64(3)\n",
            "memory usage: 793.3 KB\n"
          ]
        }
      ],
      "id": "9zs4DVAnPFUj"
    },
    {
      "cell_type": "code",
      "source": [
        "Numerical=df7.select_dtypes(exclude='object').columns.tolist()\n",
        "Numerical"
      ],
      "metadata": {
        "colab": {
          "base_uri": "https://localhost:8080/"
        },
        "id": "2T9YWCWoPFUj",
        "outputId": "463c402d-9ae4-410e-8849-2ca1285d426c"
      },
      "execution_count": 91,
      "outputs": [
        {
          "output_type": "execute_result",
          "data": {
            "text/plain": [
              "['area_type',\n",
              " 'location',\n",
              " 'total_sqft',\n",
              " 'bath',\n",
              " 'balcony',\n",
              " 'price',\n",
              " 'Bedrooms',\n",
              " 'price_per_sqft']"
            ]
          },
          "metadata": {},
          "execution_count": 91
        }
      ],
      "id": "2T9YWCWoPFUj"
    },
    {
      "cell_type": "code",
      "source": [
        "for i in Numerical:\n",
        "    plt.figure()\n",
        "    plt.tight_layout()\n",
        "    sns.set(rc={\"figure.figsize\":(15, 5)})\n",
        "    plt.gca().set(xlabel= i,ylabel='Frequency')\n",
        "    sns.boxplot(df7[i], palette='cool_r');"
      ],
      "metadata": {
        "colab": {
          "base_uri": "https://localhost:8080/",
          "height": 1000
        },
        "id": "jftvb4p2PFUj",
        "outputId": "c93ae384-92b9-4c37-bfd7-6aff71323fe7"
      },
      "execution_count": 92,
      "outputs": [
        {
          "output_type": "display_data",
          "data": {
            "text/plain": [
              "<Figure size 1440x720 with 1 Axes>"
            ],
            "image/png": "[encoded data removed]"
          },
          "metadata": {
            "needs_background": "light"
          }
        },
        {
          "output_type": "display_data",
          "data": {
            "text/plain": [
              "<Figure size 1080x360 with 1 Axes>"
            ],
            "image/png": "[encoded data removed]"
          },
          "metadata": {}
        },
        {
          "output_type": "display_data",
          "data": {
            "text/plain": [
              "<Figure size 1080x360 with 1 Axes>"
            ],
            "image/png": "[encoded data removed]"
          },
          "metadata": {}
        },
        {
          "output_type": "display_data",
          "data": {
            "text/plain": [
              "<Figure size 1080x360 with 1 Axes>"
            ],
            "image/png": "[encoded data removed]"
          },
          "metadata": {}
        },
        {
          "output_type": "display_data",
          "data": {
            "text/plain": [
              "<Figure size 1080x360 with 1 Axes>"
            ],
            "image/png": "[encoded data removed]"
          },
          "metadata": {}
        },
        {
          "output_type": "display_data",
          "data": {
            "text/plain": [
              "<Figure size 1080x360 with 1 Axes>"
            ],
            "image/png": "[encoded data removed]"
          },
          "metadata": {}
        },
        {
          "output_type": "display_data",
          "data": {
            "text/plain": [
              "<Figure size 1080x360 with 1 Axes>"
            ],
            "image/png": "[encoded data removed]"
          },
          "metadata": {}
        },
        {
          "output_type": "display_data",
          "data": {
            "text/plain": [
              "<Figure size 1080x360 with 1 Axes>"
            ],
            "image/png": "[encoded data removed]"
          },
          "metadata": {}
        }
      ],
      "id": "jftvb4p2PFUj"
    },
    {
      "cell_type": "code",
      "source": [
        "df8=df7.copy()"
      ],
      "metadata": {
        "id": "_00epZPqxBet"
      },
      "id": "_00epZPqxBet",
      "execution_count": 93,
      "outputs": []
    },
    {
      "cell_type": "code",
      "source": [
        "number_of_outliers=[None]*len(Numerical)\n",
        "q75=[None]*len(Numerical)\n",
        "q25=[None]*len(Numerical)\n",
        "IQR=[None]*len(Numerical)\n",
        "unique_values=[None]*len(Numerical)\n",
        "ratio=[None]*len(Numerical)\n",
        "\n",
        "for i, p in enumerate(Numerical):\n",
        "    q75[i], q25[i]= np.percentile(df8[p],[75,25])\n",
        "    IQR[i]= q75[i]- q25[i]\n",
        "    number_of_outliers[i]=len((np.where((df8[p] > (q75[i] + 1.5 * IQR[i])) | (df8[p]< (q25[i] - 1.5 * IQR[i])))[0]))\n",
        "    unique_values[i]= len(df8[p].unique())\n",
        "    ratio[i]= number_of_outliers[i]/unique_values[i]\n",
        "    \n",
        "    print('outliers of',p,\" =\", number_of_outliers[i])\n",
        "    print('unique_values',p,\" =\", unique_values[i])\n",
        "    print('ratio',p,\" =\", ratio[i])\n",
        "    print(\"*\"*45)"
      ],
      "metadata": {
        "scrolled": true,
        "colab": {
          "base_uri": "https://localhost:8080/"
        },
        "id": "0Na4pWGSPFUj",
        "outputId": "40cc304d-ccdf-4468-eabf-c67912990ce8"
      },
      "execution_count": 94,
      "outputs": [
        {
          "output_type": "stream",
          "name": "stdout",
          "text": [
            "outliers of area_type  = 2226\n",
            "unique_values area_type  = 4\n",
            "ratio area_type  = 556.5\n",
            "*********************************************\n",
            "outliers of location  = 0\n",
            "unique_values location  = 1185\n",
            "ratio location  = 0.0\n",
            "*********************************************\n",
            "outliers of total_sqft  = 876\n",
            "unique_values total_sqft  = 1709\n",
            "ratio total_sqft  = 0.5125804564072557\n",
            "*********************************************\n",
            "outliers of bath  = 315\n",
            "unique_values bath  = 10\n",
            "ratio bath  = 31.5\n",
            "*********************************************\n",
            "outliers of balcony  = 0\n",
            "unique_values balcony  = 4\n",
            "ratio balcony  = 0.0\n",
            "*********************************************\n",
            "outliers of price  = 1057\n",
            "unique_values price  = 1785\n",
            "ratio price  = 0.592156862745098\n",
            "*********************************************\n",
            "outliers of Bedrooms  = 440\n",
            "unique_values Bedrooms  = 11\n",
            "ratio Bedrooms  = 40.0\n",
            "*********************************************\n",
            "outliers of price_per_sqft  = 945\n",
            "unique_values price_per_sqft  = 6869\n",
            "ratio price_per_sqft  = 0.13757461056922404\n",
            "*********************************************\n"
          ]
        }
      ],
      "id": "0Na4pWGSPFUj"
    },
    {
      "cell_type": "code",
      "source": [
        "#Find the outliers records which fall with +/- 25% boundaries \n",
        "\n",
        "Q1 = df8.quantile(0.25)\n",
        "Q3 = df8.quantile(0.75)\n",
        "IQR = Q3 - Q1\n",
        "\n",
        "print(\"Number of outliers for entire dataset = \", len(df8[((df8 < (Q1 - 1.5 * IQR)) | (df8 > (Q3 + 1.5 * IQR))).any(axis=1)]))"
      ],
      "metadata": {
        "colab": {
          "base_uri": "https://localhost:8080/"
        },
        "id": "RcLlS5QuPFUj",
        "outputId": "a1ce6e03-101d-4562-8a9b-68de453f475a"
      },
      "execution_count": 95,
      "outputs": [
        {
          "output_type": "stream",
          "name": "stdout",
          "text": [
            "Number of outliers for entire dataset =  3545\n"
          ]
        }
      ],
      "id": "RcLlS5QuPFUj"
    },
    {
      "cell_type": "markdown",
      "source": [
        "We can drop these outliers:"
      ],
      "metadata": {
        "id": "qhoPf_8cPFUj"
      },
      "id": "qhoPf_8cPFUj"
    },
    {
      "cell_type": "code",
      "source": [
        "outliers_index= df8[((df8 < (Q1 - 1.5 * IQR)) |(df8 > (Q3 + 1.5 * IQR))).any(axis=1)].index\n",
        "outliers_index"
      ],
      "metadata": {
        "colab": {
          "base_uri": "https://localhost:8080/"
        },
        "id": "cBqxmPY7PFUj",
        "outputId": "ceff97bf-ff62-4fc0-d404-68fd809e3823"
      },
      "execution_count": 96,
      "outputs": [
        {
          "output_type": "execute_result",
          "data": {
            "text/plain": [
              "Int64Index([    2,     6,     7,    13,    20,    27,    33,    38,    39,\n",
              "               47,\n",
              "            ...\n",
              "            12500, 12501, 12509, 12515, 12523, 12525, 12526, 12531, 12533,\n",
              "            12534],\n",
              "           dtype='int64', length=3545)"
            ]
          },
          "metadata": {},
          "execution_count": 96
        }
      ],
      "id": "cBqxmPY7PFUj"
    },
    {
      "cell_type": "code",
      "source": [
        "df8.iloc[62]"
      ],
      "metadata": {
        "colab": {
          "base_uri": "https://localhost:8080/"
        },
        "id": "us0Q-PDOPFUk",
        "outputId": "bee7f1a8-714b-47ae-da00-b3901d8558f7"
      },
      "execution_count": 97,
      "outputs": [
        {
          "output_type": "execute_result",
          "data": {
            "text/plain": [
              "area_type            3.00000\n",
              "location           486.00000\n",
              "total_sqft        1240.00000\n",
              "bath                 2.00000\n",
              "balcony              1.00000\n",
              "price               70.00000\n",
              "Bedrooms             1.00000\n",
              "price_per_sqft    5645.16129\n",
              "Name: 71, dtype: float64"
            ]
          },
          "metadata": {},
          "execution_count": 97
        }
      ],
      "id": "us0Q-PDOPFUk"
    },
    {
      "cell_type": "code",
      "source": [
        "df8.shape"
      ],
      "metadata": {
        "colab": {
          "base_uri": "https://localhost:8080/"
        },
        "id": "30t2Yw27PFUk",
        "outputId": "fcde8146-151d-4eda-9193-75d40597324b"
      },
      "execution_count": 98,
      "outputs": [
        {
          "output_type": "execute_result",
          "data": {
            "text/plain": [
              "(11283, 8)"
            ]
          },
          "metadata": {},
          "execution_count": 98
        }
      ],
      "id": "30t2Yw27PFUk"
    },
    {
      "cell_type": "code",
      "source": [
        "df9= pd.DataFrame(df8.drop(outliers_index.to_list(), axis=0))\n",
        "df9"
      ],
      "metadata": {
        "colab": {
          "base_uri": "https://localhost:8080/",
          "height": 423
        },
        "id": "vcjeBLKmPFUk",
        "outputId": "05cf9762-3f39-405d-c6a4-1accb8d9581f"
      },
      "execution_count": 99,
      "outputs": [
        {
          "output_type": "execute_result",
          "data": {
            "text/plain": [
              "       area_type  location  total_sqft  bath  balcony   price  Bedrooms  \\\n",
              "0              3       405      1056.0   2.0      1.0   39.07         1   \n",
              "3              3       744      1521.0   3.0      1.0   95.00         2   \n",
              "4              3       697      1200.0   2.0      1.0   51.00         1   \n",
              "5              3      1254      1170.0   2.0      1.0   38.00         1   \n",
              "8              3       783      1310.0   3.0      1.0   63.25         2   \n",
              "...          ...       ...         ...   ...      ...     ...       ...   \n",
              "12522          3       951      1187.0   2.0      2.0   40.14         1   \n",
              "12527          3      1270      1675.0   3.0      2.0   92.13         2   \n",
              "12528          3       943      1050.0   2.0      2.0   52.71         1   \n",
              "12529          3       210      1262.0   2.0      2.0   47.00         1   \n",
              "12530          3       461      1715.0   3.0      3.0  112.00         2   \n",
              "\n",
              "       price_per_sqft  \n",
              "0         3699.810606  \n",
              "3         6245.890861  \n",
              "4         4250.000000  \n",
              "5         3247.863248  \n",
              "8         4828.244275  \n",
              "...               ...  \n",
              "12522     3381.634372  \n",
              "12527     5500.298507  \n",
              "12528     5020.000000  \n",
              "12529     3724.247227  \n",
              "12530     6530.612245  \n",
              "\n",
              "[7738 rows x 8 columns]"
            ],
            "text/html": [
              "\n",
              "  <div id=\"df-f2acb487-785f-4122-938e-71486bbd9751\">\n",
              "    <div class=\"colab-df-container\">\n",
              "      <div>\n",
              "<style scoped>\n",
              "    .dataframe tbody tr th:only-of-type {\n",
              "        vertical-align: middle;\n",
              "    }\n",
              "\n",
              "    .dataframe tbody tr th {\n",
              "        vertical-align: top;\n",
              "    }\n",
              "\n",
              "    .dataframe thead th {\n",
              "        text-align: right;\n",
              "    }\n",
              "</style>\n",
              "<table border=\"1\" class=\"dataframe\">\n",
              "  <thead>\n",
              "    <tr style=\"text-align: right;\">\n",
              "      <th></th>\n",
              "      <th>area_type</th>\n",
              "      <th>location</th>\n",
              "      <th>total_sqft</th>\n",
              "      <th>bath</th>\n",
              "      <th>balcony</th>\n",
              "      <th>price</th>\n",
              "      <th>Bedrooms</th>\n",
              "      <th>price_per_sqft</th>\n",
              "    </tr>\n",
              "  </thead>\n",
              "  <tbody>\n",
              "    <tr>\n",
              "      <th>0</th>\n",
              "      <td>3</td>\n",
              "      <td>405</td>\n",
              "      <td>1056.0</td>\n",
              "      <td>2.0</td>\n",
              "      <td>1.0</td>\n",
              "      <td>39.07</td>\n",
              "      <td>1</td>\n",
              "      <td>3699.810606</td>\n",
              "    </tr>\n",
              "    <tr>\n",
              "      <th>3</th>\n",
              "      <td>3</td>\n",
              "      <td>744</td>\n",
              "      <td>1521.0</td>\n",
              "      <td>3.0</td>\n",
              "      <td>1.0</td>\n",
              "      <td>95.00</td>\n",
              "      <td>2</td>\n",
              "      <td>6245.890861</td>\n",
              "    </tr>\n",
              "    <tr>\n",
              "      <th>4</th>\n",
              "      <td>3</td>\n",
              "      <td>697</td>\n",
              "      <td>1200.0</td>\n",
              "      <td>2.0</td>\n",
              "      <td>1.0</td>\n",
              "      <td>51.00</td>\n",
              "      <td>1</td>\n",
              "      <td>4250.000000</td>\n",
              "    </tr>\n",
              "    <tr>\n",
              "      <th>5</th>\n",
              "      <td>3</td>\n",
              "      <td>1254</td>\n",
              "      <td>1170.0</td>\n",
              "      <td>2.0</td>\n",
              "      <td>1.0</td>\n",
              "      <td>38.00</td>\n",
              "      <td>1</td>\n",
              "      <td>3247.863248</td>\n",
              "    </tr>\n",
              "    <tr>\n",
              "      <th>8</th>\n",
              "      <td>3</td>\n",
              "      <td>783</td>\n",
              "      <td>1310.0</td>\n",
              "      <td>3.0</td>\n",
              "      <td>1.0</td>\n",
              "      <td>63.25</td>\n",
              "      <td>2</td>\n",
              "      <td>4828.244275</td>\n",
              "    </tr>\n",
              "    <tr>\n",
              "      <th>...</th>\n",
              "      <td>...</td>\n",
              "      <td>...</td>\n",
              "      <td>...</td>\n",
              "      <td>...</td>\n",
              "      <td>...</td>\n",
              "      <td>...</td>\n",
              "      <td>...</td>\n",
              "      <td>...</td>\n",
              "    </tr>\n",
              "    <tr>\n",
              "      <th>12522</th>\n",
              "      <td>3</td>\n",
              "      <td>951</td>\n",
              "      <td>1187.0</td>\n",
              "      <td>2.0</td>\n",
              "      <td>2.0</td>\n",
              "      <td>40.14</td>\n",
              "      <td>1</td>\n",
              "      <td>3381.634372</td>\n",
              "    </tr>\n",
              "    <tr>\n",
              "      <th>12527</th>\n",
              "      <td>3</td>\n",
              "      <td>1270</td>\n",
              "      <td>1675.0</td>\n",
              "      <td>3.0</td>\n",
              "      <td>2.0</td>\n",
              "      <td>92.13</td>\n",
              "      <td>2</td>\n",
              "      <td>5500.298507</td>\n",
              "    </tr>\n",
              "    <tr>\n",
              "      <th>12528</th>\n",
              "      <td>3</td>\n",
              "      <td>943</td>\n",
              "      <td>1050.0</td>\n",
              "      <td>2.0</td>\n",
              "      <td>2.0</td>\n",
              "      <td>52.71</td>\n",
              "      <td>1</td>\n",
              "      <td>5020.000000</td>\n",
              "    </tr>\n",
              "    <tr>\n",
              "      <th>12529</th>\n",
              "      <td>3</td>\n",
              "      <td>210</td>\n",
              "      <td>1262.0</td>\n",
              "      <td>2.0</td>\n",
              "      <td>2.0</td>\n",
              "      <td>47.00</td>\n",
              "      <td>1</td>\n",
              "      <td>3724.247227</td>\n",
              "    </tr>\n",
              "    <tr>\n",
              "      <th>12530</th>\n",
              "      <td>3</td>\n",
              "      <td>461</td>\n",
              "      <td>1715.0</td>\n",
              "      <td>3.0</td>\n",
              "      <td>3.0</td>\n",
              "      <td>112.00</td>\n",
              "      <td>2</td>\n",
              "      <td>6530.612245</td>\n",
              "    </tr>\n",
              "  </tbody>\n",
              "</table>\n",
              "<p>7738 rows × 8 columns</p>\n",
              "</div>\n",
              "      <button class=\"colab-df-convert\" onclick=\"convertToInteractive('df-f2acb487-785f-4122-938e-71486bbd9751')\"\n",
              "              title=\"Convert this dataframe to an interactive table.\"\n",
              "              style=\"display:none;\">\n",
              "        \n",
              "  <svg xmlns=\"http://www.w3.org/2000/svg\" height=\"24px\"viewBox=\"0 0 24 24\"\n",
              "       width=\"24px\">\n",
              "    <path d=\"M0 0h24v24H0V0z\" fill=\"none\"/>\n",
              "    <path d=\"M18.56 5.44l.94 2.06.94-2.06 2.06-.94-2.06-.94-.94-2.06-.94 2.06-2.06.94zm-11 1L8.5 8.5l.94-2.06 2.06-.94-2.06-.94L8.5 2.5l-.94 2.06-2.06.94zm10 10l.94 2.06.94-2.06 2.06-.94-2.06-.94-.94-2.06-.94 2.06-2.06.94z\"/><path d=\"M17.41 7.96l-1.37-1.37c-.4-.4-.92-.59-1.43-.59-.52 0-1.04.2-1.43.59L10.3 9.45l-7.72 7.72c-.78.78-.78 2.05 0 2.83L4 21.41c.39.39.9.59 1.41.59.51 0 1.02-.2 1.41-.59l7.78-7.78 2.81-2.81c.8-.78.8-2.07 0-2.86zM5.41 20L4 18.59l7.72-7.72 1.47 1.35L5.41 20z\"/>\n",
              "  </svg>\n",
              "      </button>\n",
              "      \n",
              "  <style>\n",
              "    .colab-df-container {\n",
              "      display:flex;\n",
              "      flex-wrap:wrap;\n",
              "      gap: 12px;\n",
              "    }\n",
              "\n",
              "    .colab-df-convert {\n",
              "      background-color: #E8F0FE;\n",
              "      border: none;\n",
              "      border-radius: 50%;\n",
              "      cursor: pointer;\n",
              "      display: none;\n",
              "      fill: #1967D2;\n",
              "      height: 32px;\n",
              "      padding: 0 0 0 0;\n",
              "      width: 32px;\n",
              "    }\n",
              "\n",
              "    .colab-df-convert:hover {\n",
              "      background-color: #E2EBFA;\n",
              "      box-shadow: 0px 1px 2px rgba(60, 64, 67, 0.3), 0px 1px 3px 1px rgba(60, 64, 67, 0.15);\n",
              "      fill: #174EA6;\n",
              "    }\n",
              "\n",
              "    [theme=dark] .colab-df-convert {\n",
              "      background-color: #3B4455;\n",
              "      fill: #D2E3FC;\n",
              "    }\n",
              "\n",
              "    [theme=dark] .colab-df-convert:hover {\n",
              "      background-color: #434B5C;\n",
              "      box-shadow: 0px 1px 3px 1px rgba(0, 0, 0, 0.15);\n",
              "      filter: drop-shadow(0px 1px 2px rgba(0, 0, 0, 0.3));\n",
              "      fill: #FFFFFF;\n",
              "    }\n",
              "  </style>\n",
              "\n",
              "      <script>\n",
              "        const buttonEl =\n",
              "          document.querySelector('#df-f2acb487-785f-4122-938e-71486bbd9751 button.colab-df-convert');\n",
              "        buttonEl.style.display =\n",
              "          google.colab.kernel.accessAllowed ? 'block' : 'none';\n",
              "\n",
              "        async function convertToInteractive(key) {\n",
              "          const element = document.querySelector('#df-f2acb487-785f-4122-938e-71486bbd9751');\n",
              "          const dataTable =\n",
              "            await google.colab.kernel.invokeFunction('convertToInteractive',\n",
              "                                                     [key], {});\n",
              "          if (!dataTable) return;\n",
              "\n",
              "          const docLinkHtml = 'Like what you see? Visit the ' +\n",
              "            '<a target=\"_blank\" href=https://colab.research.google.com/notebooks/data_table.ipynb>data table notebook</a>'\n",
              "            + ' to learn more about interactive tables.';\n",
              "          element.innerHTML = '';\n",
              "          dataTable['output_type'] = 'display_data';\n",
              "          await google.colab.output.renderOutput(dataTable, element);\n",
              "          const docLink = document.createElement('div');\n",
              "          docLink.innerHTML = docLinkHtml;\n",
              "          element.appendChild(docLink);\n",
              "        }\n",
              "      </script>\n",
              "    </div>\n",
              "  </div>\n",
              "  "
            ]
          },
          "metadata": {},
          "execution_count": 99
        }
      ],
      "id": "vcjeBLKmPFUk"
    },
    {
      "cell_type": "code",
      "source": [
        "df8.shape"
      ],
      "metadata": {
        "scrolled": true,
        "colab": {
          "base_uri": "https://localhost:8080/"
        },
        "id": "W0QZ-_xnPFUk",
        "outputId": "f0b05bcd-8506-4ecf-d92b-96ea879e361d"
      },
      "execution_count": 100,
      "outputs": [
        {
          "output_type": "execute_result",
          "data": {
            "text/plain": [
              "(11283, 8)"
            ]
          },
          "metadata": {},
          "execution_count": 100
        }
      ],
      "id": "W0QZ-_xnPFUk"
    },
    {
      "cell_type": "markdown",
      "source": [
        "dropped 1810 outlier rows:"
      ],
      "metadata": {
        "id": "NcK2kJZqPFUk"
      },
      "id": "NcK2kJZqPFUk"
    },
    {
      "cell_type": "code",
      "source": [
        "df9.shape"
      ],
      "metadata": {
        "colab": {
          "base_uri": "https://localhost:8080/"
        },
        "id": "JTx7qzljPFUk",
        "outputId": "154268f4-205a-47ac-a6e7-47219ac0158f"
      },
      "execution_count": 101,
      "outputs": [
        {
          "output_type": "execute_result",
          "data": {
            "text/plain": [
              "(7738, 8)"
            ]
          },
          "metadata": {},
          "execution_count": 101
        }
      ],
      "id": "JTx7qzljPFUk"
    },
    {
      "cell_type": "code",
      "source": [
        "df9.info()"
      ],
      "metadata": {
        "scrolled": true,
        "colab": {
          "base_uri": "https://localhost:8080/"
        },
        "id": "JhAoO7P9PFUk",
        "outputId": "08510e12-534f-4b24-e52e-e21272dbd82f"
      },
      "execution_count": 102,
      "outputs": [
        {
          "output_type": "stream",
          "name": "stdout",
          "text": [
            "<class 'pandas.core.frame.DataFrame'>\n",
            "Int64Index: 7738 entries, 0 to 12530\n",
            "Data columns (total 8 columns):\n",
            " #   Column          Non-Null Count  Dtype  \n",
            "---  ------          --------------  -----  \n",
            " 0   area_type       7738 non-null   int64  \n",
            " 1   location        7738 non-null   int64  \n",
            " 2   total_sqft      7738 non-null   float64\n",
            " 3   bath            7738 non-null   float64\n",
            " 4   balcony         7738 non-null   float64\n",
            " 5   price           7738 non-null   float64\n",
            " 6   Bedrooms        7738 non-null   int64  \n",
            " 7   price_per_sqft  7738 non-null   float64\n",
            "dtypes: float64(5), int64(3)\n",
            "memory usage: 544.1 KB\n"
          ]
        }
      ],
      "id": "JhAoO7P9PFUk"
    },
    {
      "cell_type": "code",
      "source": [
        "def plot_scatter(df,location):\n",
        "  bhk2=df[(df.location==location)&(df.Bedrooms==2)]\n",
        "  bhk3=df[(df.location==location)&(df.Bedrooms==3)]\n",
        "  plt.scatter(bhk2.total_sqft,bhk2.price_per_sqft,color=\"blue\",label=\"2 BHK\",s=50)\n",
        "  plt.scatter(bhk3.total_sqft,bhk3.price_per_sqft,color=\"green\",label=\"3 BHK\",s=100)\n",
        "  plt.xlabel(\"Total Square Feet Area\")\n",
        "  plt.ylabel(\"Price Per Square Feet\")\n",
        "  plt.title(location)\n",
        "  plt.legend()"
      ],
      "metadata": {
        "id": "dENWLL4T0Df7"
      },
      "id": "dENWLL4T0Df7",
      "execution_count": 103,
      "outputs": []
    },
    {
      "cell_type": "code",
      "source": [
        "df9.location.value_counts().head(30)"
      ],
      "metadata": {
        "colab": {
          "base_uri": "https://localhost:8080/"
        },
        "id": "uWbf2Md01xOJ",
        "outputId": "05dccfa9-b341-40ba-b25e-4244234d1c0e"
      },
      "id": "uWbf2Md01xOJ",
      "execution_count": 104,
      "outputs": [
        {
          "output_type": "execute_result",
          "data": {
            "text/plain": [
              "1254    329\n",
              "1030    245\n",
              "403     207\n",
              "641     201\n",
              "1147    173\n",
              "1264    143\n",
              "951     132\n",
              "783     123\n",
              "1179    114\n",
              "503     113\n",
              "184     102\n",
              "51       91\n",
              "494      85\n",
              "486      75\n",
              "405      74\n",
              "210      70\n",
              "406      67\n",
              "284      63\n",
              "512      62\n",
              "204      61\n",
              "1188     60\n",
              "518      59\n",
              "489      58\n",
              "647      57\n",
              "1270     56\n",
              "565      52\n",
              "517      52\n",
              "697      50\n",
              "161      49\n",
              "1028     49\n",
              "Name: location, dtype: int64"
            ]
          },
          "metadata": {},
          "execution_count": 104
        }
      ]
    },
    {
      "cell_type": "code",
      "source": [
        "plot_scatter(df9,1038)"
      ],
      "metadata": {
        "colab": {
          "base_uri": "https://localhost:8080/",
          "height": 355
        },
        "id": "J1qDdBM816ns",
        "outputId": "b447930c-71de-4c0f-cbe5-2eb0f669bd57"
      },
      "id": "J1qDdBM816ns",
      "execution_count": 105,
      "outputs": [
        {
          "output_type": "display_data",
          "data": {
            "text/plain": [
              "<Figure size 1080x360 with 1 Axes>"
            ],
            "image/png": "[encoded data removed]"
          },
          "metadata": {}
        }
      ]
    },
    {
      "cell_type": "markdown",
      "source": [
        "It can be noted 3BHK and 2BHK prices overlaps in same location for similar sqr feet area\n",
        "\n"
      ],
      "metadata": {
        "id": "6ZrNEtc02Tiy"
      },
      "id": "6ZrNEtc02Tiy"
    },
    {
      "cell_type": "code",
      "source": [
        "def remove_bhk_outlier(df):\n",
        "  outlier_index=np.array([])\n",
        "  for location,location_df in df.groupby(\"location\"):\n",
        "    bhk_stats={}\n",
        "    for bhk,bhk_df in location_df.groupby(\"Bedrooms\"):\n",
        "      bhk_stats[bhk]={\n",
        "          \"Mean\":np.mean(bhk_df.price_per_sqft),\n",
        "          \"STD\":np.std(bhk_df.price_per_sqft),\n",
        "          \"count\":bhk_df.shape[0]\n",
        "      }\n",
        "    for bhk,bhk_df in location_df.groupby(\"Bedrooms\"):\n",
        "      stats=bhk_stats.get(bhk-1)\n",
        "      if stats and stats[\"count\"]>5:\n",
        "         outlier_index=np.append(outlier_index,bhk_df[bhk_df.price_per_sqft<(stats[\"Mean\"])].index.values)  \n",
        "  return df.drop(outlier_index,axis=0)"
      ],
      "metadata": {
        "id": "CjXI2bOo3pfB"
      },
      "id": "CjXI2bOo3pfB",
      "execution_count": 106,
      "outputs": []
    },
    {
      "cell_type": "code",
      "source": [
        "df9.shape"
      ],
      "metadata": {
        "colab": {
          "base_uri": "https://localhost:8080/"
        },
        "id": "HqK-gMlV8J71",
        "outputId": "9de7ad00-124c-4544-be2f-fcdfdddd1596"
      },
      "id": "HqK-gMlV8J71",
      "execution_count": 107,
      "outputs": [
        {
          "output_type": "execute_result",
          "data": {
            "text/plain": [
              "(7738, 8)"
            ]
          },
          "metadata": {},
          "execution_count": 107
        }
      ]
    },
    {
      "cell_type": "code",
      "source": [
        "df10= remove_bhk_outlier(df9)\n",
        "df10.shape"
      ],
      "metadata": {
        "colab": {
          "base_uri": "https://localhost:8080/"
        },
        "id": "hwJTEtTd6ar5",
        "outputId": "9bd1e70d-6a3b-4384-9858-b5261081e423"
      },
      "id": "hwJTEtTd6ar5",
      "execution_count": 108,
      "outputs": [
        {
          "output_type": "execute_result",
          "data": {
            "text/plain": [
              "(6276, 8)"
            ]
          },
          "metadata": {},
          "execution_count": 108
        }
      ]
    },
    {
      "cell_type": "code",
      "source": [
        "plot_scatter(df10,1038)"
      ],
      "metadata": {
        "colab": {
          "base_uri": "https://localhost:8080/",
          "height": 355
        },
        "id": "OylfYp608Ten",
        "outputId": "0dac13d1-cbae-4b93-aa07-0484d1e60311"
      },
      "id": "OylfYp608Ten",
      "execution_count": 109,
      "outputs": [
        {
          "output_type": "display_data",
          "data": {
            "text/plain": [
              "<Figure size 1080x360 with 1 Axes>"
            ],
            "image/png": "[encoded data removed]"
          },
          "metadata": {}
        }
      ]
    },
    {
      "cell_type": "markdown",
      "source": [
        "We have removed outlier whos Total square feet and price per ratio overlap to large extent"
      ],
      "metadata": {
        "id": "tUzA2epJ9clF"
      },
      "id": "tUzA2epJ9clF"
    },
    {
      "cell_type": "code",
      "source": [
        "plt.hist(df10.price_per_sqft)\n",
        "plt.xlabel(\"Price Per Square Feet\")\n",
        "plt.ylabel(\"Count\")"
      ],
      "metadata": {
        "scrolled": true,
        "colab": {
          "base_uri": "https://localhost:8080/",
          "height": 356
        },
        "id": "HNBGVcGFPFUk",
        "outputId": "70fb91a2-86d5-4929-b935-3f4f7a6c9ef2"
      },
      "execution_count": 110,
      "outputs": [
        {
          "output_type": "execute_result",
          "data": {
            "text/plain": [
              "Text(0, 0.5, 'Count')"
            ]
          },
          "metadata": {},
          "execution_count": 110
        },
        {
          "output_type": "display_data",
          "data": {
            "text/plain": [
              "<Figure size 1080x360 with 1 Axes>"
            ],
            "image/png": "[encoded data removed]"
          },
          "metadata": {}
        }
      ],
      "id": "HNBGVcGFPFUk"
    },
    {
      "cell_type": "markdown",
      "source": [
        "Normal distribution(less outlier)"
      ],
      "metadata": {
        "id": "2aqlzXo8-QRy"
      },
      "id": "2aqlzXo8-QRy"
    },
    {
      "cell_type": "code",
      "source": [
        "df10 = df10.drop(['price_per_sqft'], axis='columns')\n",
        "df10.head()"
      ],
      "metadata": {
        "scrolled": true,
        "colab": {
          "base_uri": "https://localhost:8080/",
          "height": 206
        },
        "id": "jrDTU_fUPFUl",
        "outputId": "ea3a4794-b7d1-4e89-8e37-60e989af7cf9"
      },
      "execution_count": 111,
      "outputs": [
        {
          "output_type": "execute_result",
          "data": {
            "text/plain": [
              "    area_type  location  total_sqft  bath  balcony   price  Bedrooms\n",
              "0           3       405      1056.0   2.0      1.0   39.07         1\n",
              "3           3       744      1521.0   3.0      1.0   95.00         2\n",
              "4           3       697      1200.0   2.0      1.0   51.00         1\n",
              "12          3        51      1000.0   2.0      1.0   38.00         1\n",
              "14          2      1028      2250.0   3.0      2.0  148.00         2"
            ],
            "text/html": [
              "\n",
              "  <div id=\"df-56f495f8-83b3-4fb0-878b-0a9f1d150e4e\">\n",
              "    <div class=\"colab-df-container\">\n",
              "      <div>\n",
              "<style scoped>\n",
              "    .dataframe tbody tr th:only-of-type {\n",
              "        vertical-align: middle;\n",
              "    }\n",
              "\n",
              "    .dataframe tbody tr th {\n",
              "        vertical-align: top;\n",
              "    }\n",
              "\n",
              "    .dataframe thead th {\n",
              "        text-align: right;\n",
              "    }\n",
              "</style>\n",
              "<table border=\"1\" class=\"dataframe\">\n",
              "  <thead>\n",
              "    <tr style=\"text-align: right;\">\n",
              "      <th></th>\n",
              "      <th>area_type</th>\n",
              "      <th>location</th>\n",
              "      <th>total_sqft</th>\n",
              "      <th>bath</th>\n",
              "      <th>balcony</th>\n",
              "      <th>price</th>\n",
              "      <th>Bedrooms</th>\n",
              "    </tr>\n",
              "  </thead>\n",
              "  <tbody>\n",
              "    <tr>\n",
              "      <th>0</th>\n",
              "      <td>3</td>\n",
              "      <td>405</td>\n",
              "      <td>1056.0</td>\n",
              "      <td>2.0</td>\n",
              "      <td>1.0</td>\n",
              "      <td>39.07</td>\n",
              "      <td>1</td>\n",
              "    </tr>\n",
              "    <tr>\n",
              "      <th>3</th>\n",
              "      <td>3</td>\n",
              "      <td>744</td>\n",
              "      <td>1521.0</td>\n",
              "      <td>3.0</td>\n",
              "      <td>1.0</td>\n",
              "      <td>95.00</td>\n",
              "      <td>2</td>\n",
              "    </tr>\n",
              "    <tr>\n",
              "      <th>4</th>\n",
              "      <td>3</td>\n",
              "      <td>697</td>\n",
              "      <td>1200.0</td>\n",
              "      <td>2.0</td>\n",
              "      <td>1.0</td>\n",
              "      <td>51.00</td>\n",
              "      <td>1</td>\n",
              "    </tr>\n",
              "    <tr>\n",
              "      <th>12</th>\n",
              "      <td>3</td>\n",
              "      <td>51</td>\n",
              "      <td>1000.0</td>\n",
              "      <td>2.0</td>\n",
              "      <td>1.0</td>\n",
              "      <td>38.00</td>\n",
              "      <td>1</td>\n",
              "    </tr>\n",
              "    <tr>\n",
              "      <th>14</th>\n",
              "      <td>2</td>\n",
              "      <td>1028</td>\n",
              "      <td>2250.0</td>\n",
              "      <td>3.0</td>\n",
              "      <td>2.0</td>\n",
              "      <td>148.00</td>\n",
              "      <td>2</td>\n",
              "    </tr>\n",
              "  </tbody>\n",
              "</table>\n",
              "</div>\n",
              "      <button class=\"colab-df-convert\" onclick=\"convertToInteractive('df-56f495f8-83b3-4fb0-878b-0a9f1d150e4e')\"\n",
              "              title=\"Convert this dataframe to an interactive table.\"\n",
              "              style=\"display:none;\">\n",
              "        \n",
              "  <svg xmlns=\"http://www.w3.org/2000/svg\" height=\"24px\"viewBox=\"0 0 24 24\"\n",
              "       width=\"24px\">\n",
              "    <path d=\"M0 0h24v24H0V0z\" fill=\"none\"/>\n",
              "    <path d=\"M18.56 5.44l.94 2.06.94-2.06 2.06-.94-2.06-.94-.94-2.06-.94 2.06-2.06.94zm-11 1L8.5 8.5l.94-2.06 2.06-.94-2.06-.94L8.5 2.5l-.94 2.06-2.06.94zm10 10l.94 2.06.94-2.06 2.06-.94-2.06-.94-.94-2.06-.94 2.06-2.06.94z\"/><path d=\"M17.41 7.96l-1.37-1.37c-.4-.4-.92-.59-1.43-.59-.52 0-1.04.2-1.43.59L10.3 9.45l-7.72 7.72c-.78.78-.78 2.05 0 2.83L4 21.41c.39.39.9.59 1.41.59.51 0 1.02-.2 1.41-.59l7.78-7.78 2.81-2.81c.8-.78.8-2.07 0-2.86zM5.41 20L4 18.59l7.72-7.72 1.47 1.35L5.41 20z\"/>\n",
              "  </svg>\n",
              "      </button>\n",
              "      \n",
              "  <style>\n",
              "    .colab-df-container {\n",
              "      display:flex;\n",
              "      flex-wrap:wrap;\n",
              "      gap: 12px;\n",
              "    }\n",
              "\n",
              "    .colab-df-convert {\n",
              "      background-color: #E8F0FE;\n",
              "      border: none;\n",
              "      border-radius: 50%;\n",
              "      cursor: pointer;\n",
              "      display: none;\n",
              "      fill: #1967D2;\n",
              "      height: 32px;\n",
              "      padding: 0 0 0 0;\n",
              "      width: 32px;\n",
              "    }\n",
              "\n",
              "    .colab-df-convert:hover {\n",
              "      background-color: #E2EBFA;\n",
              "      box-shadow: 0px 1px 2px rgba(60, 64, 67, 0.3), 0px 1px 3px 1px rgba(60, 64, 67, 0.15);\n",
              "      fill: #174EA6;\n",
              "    }\n",
              "\n",
              "    [theme=dark] .colab-df-convert {\n",
              "      background-color: #3B4455;\n",
              "      fill: #D2E3FC;\n",
              "    }\n",
              "\n",
              "    [theme=dark] .colab-df-convert:hover {\n",
              "      background-color: #434B5C;\n",
              "      box-shadow: 0px 1px 3px 1px rgba(0, 0, 0, 0.15);\n",
              "      filter: drop-shadow(0px 1px 2px rgba(0, 0, 0, 0.3));\n",
              "      fill: #FFFFFF;\n",
              "    }\n",
              "  </style>\n",
              "\n",
              "      <script>\n",
              "        const buttonEl =\n",
              "          document.querySelector('#df-56f495f8-83b3-4fb0-878b-0a9f1d150e4e button.colab-df-convert');\n",
              "        buttonEl.style.display =\n",
              "          google.colab.kernel.accessAllowed ? 'block' : 'none';\n",
              "\n",
              "        async function convertToInteractive(key) {\n",
              "          const element = document.querySelector('#df-56f495f8-83b3-4fb0-878b-0a9f1d150e4e');\n",
              "          const dataTable =\n",
              "            await google.colab.kernel.invokeFunction('convertToInteractive',\n",
              "                                                     [key], {});\n",
              "          if (!dataTable) return;\n",
              "\n",
              "          const docLinkHtml = 'Like what you see? Visit the ' +\n",
              "            '<a target=\"_blank\" href=https://colab.research.google.com/notebooks/data_table.ipynb>data table notebook</a>'\n",
              "            + ' to learn more about interactive tables.';\n",
              "          element.innerHTML = '';\n",
              "          dataTable['output_type'] = 'display_data';\n",
              "          await google.colab.output.renderOutput(dataTable, element);\n",
              "          const docLink = document.createElement('div');\n",
              "          docLink.innerHTML = docLinkHtml;\n",
              "          element.appendChild(docLink);\n",
              "        }\n",
              "      </script>\n",
              "    </div>\n",
              "  </div>\n",
              "  "
            ]
          },
          "metadata": {},
          "execution_count": 111
        }
      ],
      "id": "jrDTU_fUPFUl"
    },
    {
      "cell_type": "code",
      "source": [
        "dummy= pd.get_dummies(df10.location,drop_first=True)\n",
        "dummy.head()"
      ],
      "metadata": {
        "colab": {
          "base_uri": "https://localhost:8080/",
          "height": 235
        },
        "id": "plDxx5AvPFUl",
        "outputId": "ee7e7277-f9f9-4619-ff3f-ea21a48d7c39"
      },
      "execution_count": 112,
      "outputs": [
        {
          "output_type": "execute_result",
          "data": {
            "text/plain": [
              "    5     6     7     8     9     11    14    16    19    21    ...  1259  \\\n",
              "0      0     0     0     0     0     0     0     0     0     0  ...     0   \n",
              "3      0     0     0     0     0     0     0     0     0     0  ...     0   \n",
              "4      0     0     0     0     0     0     0     0     0     0  ...     0   \n",
              "12     0     0     0     0     0     0     0     0     0     0  ...     0   \n",
              "14     0     0     0     0     0     0     0     0     0     0  ...     0   \n",
              "\n",
              "    1261  1263  1264  1265  1267  1268  1270  1271  1272  \n",
              "0      0     0     0     0     0     0     0     0     0  \n",
              "3      0     0     0     0     0     0     0     0     0  \n",
              "4      0     0     0     0     0     0     0     0     0  \n",
              "12     0     0     0     0     0     0     0     0     0  \n",
              "14     0     0     0     0     0     0     0     0     0  \n",
              "\n",
              "[5 rows x 898 columns]"
            ],
            "text/html": [
              "\n",
              "  <div id=\"df-f01a2353-26f1-4c51-adae-66df5e7df8ed\">\n",
              "    <div class=\"colab-df-container\">\n",
              "      <div>\n",
              "<style scoped>\n",
              "    .dataframe tbody tr th:only-of-type {\n",
              "        vertical-align: middle;\n",
              "    }\n",
              "\n",
              "    .dataframe tbody tr th {\n",
              "        vertical-align: top;\n",
              "    }\n",
              "\n",
              "    .dataframe thead th {\n",
              "        text-align: right;\n",
              "    }\n",
              "</style>\n",
              "<table border=\"1\" class=\"dataframe\">\n",
              "  <thead>\n",
              "    <tr style=\"text-align: right;\">\n",
              "      <th></th>\n",
              "      <th>5</th>\n",
              "      <th>6</th>\n",
              "      <th>7</th>\n",
              "      <th>8</th>\n",
              "      <th>9</th>\n",
              "      <th>11</th>\n",
              "      <th>14</th>\n",
              "      <th>16</th>\n",
              "      <th>19</th>\n",
              "      <th>21</th>\n",
              "      <th>...</th>\n",
              "      <th>1259</th>\n",
              "      <th>1261</th>\n",
              "      <th>1263</th>\n",
              "      <th>1264</th>\n",
              "      <th>1265</th>\n",
              "      <th>1267</th>\n",
              "      <th>1268</th>\n",
              "      <th>1270</th>\n",
              "      <th>1271</th>\n",
              "      <th>1272</th>\n",
              "    </tr>\n",
              "  </thead>\n",
              "  <tbody>\n",
              "    <tr>\n",
              "      <th>0</th>\n",
              "      <td>0</td>\n",
              "      <td>0</td>\n",
              "      <td>0</td>\n",
              "      <td>0</td>\n",
              "      <td>0</td>\n",
              "      <td>0</td>\n",
              "      <td>0</td>\n",
              "      <td>0</td>\n",
              "      <td>0</td>\n",
              "      <td>0</td>\n",
              "      <td>...</td>\n",
              "      <td>0</td>\n",
              "      <td>0</td>\n",
              "      <td>0</td>\n",
              "      <td>0</td>\n",
              "      <td>0</td>\n",
              "      <td>0</td>\n",
              "      <td>0</td>\n",
              "      <td>0</td>\n",
              "      <td>0</td>\n",
              "      <td>0</td>\n",
              "    </tr>\n",
              "    <tr>\n",
              "      <th>3</th>\n",
              "      <td>0</td>\n",
              "      <td>0</td>\n",
              "      <td>0</td>\n",
              "      <td>0</td>\n",
              "      <td>0</td>\n",
              "      <td>0</td>\n",
              "      <td>0</td>\n",
              "      <td>0</td>\n",
              "      <td>0</td>\n",
              "      <td>0</td>\n",
              "      <td>...</td>\n",
              "      <td>0</td>\n",
              "      <td>0</td>\n",
              "      <td>0</td>\n",
              "      <td>0</td>\n",
              "      <td>0</td>\n",
              "      <td>0</td>\n",
              "      <td>0</td>\n",
              "      <td>0</td>\n",
              "      <td>0</td>\n",
              "      <td>0</td>\n",
              "    </tr>\n",
              "    <tr>\n",
              "      <th>4</th>\n",
              "      <td>0</td>\n",
              "      <td>0</td>\n",
              "      <td>0</td>\n",
              "      <td>0</td>\n",
              "      <td>0</td>\n",
              "      <td>0</td>\n",
              "      <td>0</td>\n",
              "      <td>0</td>\n",
              "      <td>0</td>\n",
              "      <td>0</td>\n",
              "      <td>...</td>\n",
              "      <td>0</td>\n",
              "      <td>0</td>\n",
              "      <td>0</td>\n",
              "      <td>0</td>\n",
              "      <td>0</td>\n",
              "      <td>0</td>\n",
              "      <td>0</td>\n",
              "      <td>0</td>\n",
              "      <td>0</td>\n",
              "      <td>0</td>\n",
              "    </tr>\n",
              "    <tr>\n",
              "      <th>12</th>\n",
              "      <td>0</td>\n",
              "      <td>0</td>\n",
              "      <td>0</td>\n",
              "      <td>0</td>\n",
              "      <td>0</td>\n",
              "      <td>0</td>\n",
              "      <td>0</td>\n",
              "      <td>0</td>\n",
              "      <td>0</td>\n",
              "      <td>0</td>\n",
              "      <td>...</td>\n",
              "      <td>0</td>\n",
              "      <td>0</td>\n",
              "      <td>0</td>\n",
              "      <td>0</td>\n",
              "      <td>0</td>\n",
              "      <td>0</td>\n",
              "      <td>0</td>\n",
              "      <td>0</td>\n",
              "      <td>0</td>\n",
              "      <td>0</td>\n",
              "    </tr>\n",
              "    <tr>\n",
              "      <th>14</th>\n",
              "      <td>0</td>\n",
              "      <td>0</td>\n",
              "      <td>0</td>\n",
              "      <td>0</td>\n",
              "      <td>0</td>\n",
              "      <td>0</td>\n",
              "      <td>0</td>\n",
              "      <td>0</td>\n",
              "      <td>0</td>\n",
              "      <td>0</td>\n",
              "      <td>...</td>\n",
              "      <td>0</td>\n",
              "      <td>0</td>\n",
              "      <td>0</td>\n",
              "      <td>0</td>\n",
              "      <td>0</td>\n",
              "      <td>0</td>\n",
              "      <td>0</td>\n",
              "      <td>0</td>\n",
              "      <td>0</td>\n",
              "      <td>0</td>\n",
              "    </tr>\n",
              "  </tbody>\n",
              "</table>\n",
              "<p>5 rows × 898 columns</p>\n",
              "</div>\n",
              "      <button class=\"colab-df-convert\" onclick=\"convertToInteractive('df-f01a2353-26f1-4c51-adae-66df5e7df8ed')\"\n",
              "              title=\"Convert this dataframe to an interactive table.\"\n",
              "              style=\"display:none;\">\n",
              "        \n",
              "  <svg xmlns=\"http://www.w3.org/2000/svg\" height=\"24px\"viewBox=\"0 0 24 24\"\n",
              "       width=\"24px\">\n",
              "    <path d=\"M0 0h24v24H0V0z\" fill=\"none\"/>\n",
              "    <path d=\"M18.56 5.44l.94 2.06.94-2.06 2.06-.94-2.06-.94-.94-2.06-.94 2.06-2.06.94zm-11 1L8.5 8.5l.94-2.06 2.06-.94-2.06-.94L8.5 2.5l-.94 2.06-2.06.94zm10 10l.94 2.06.94-2.06 2.06-.94-2.06-.94-.94-2.06-.94 2.06-2.06.94z\"/><path d=\"M17.41 7.96l-1.37-1.37c-.4-.4-.92-.59-1.43-.59-.52 0-1.04.2-1.43.59L10.3 9.45l-7.72 7.72c-.78.78-.78 2.05 0 2.83L4 21.41c.39.39.9.59 1.41.59.51 0 1.02-.2 1.41-.59l7.78-7.78 2.81-2.81c.8-.78.8-2.07 0-2.86zM5.41 20L4 18.59l7.72-7.72 1.47 1.35L5.41 20z\"/>\n",
              "  </svg>\n",
              "      </button>\n",
              "      \n",
              "  <style>\n",
              "    .colab-df-container {\n",
              "      display:flex;\n",
              "      flex-wrap:wrap;\n",
              "      gap: 12px;\n",
              "    }\n",
              "\n",
              "    .colab-df-convert {\n",
              "      background-color: #E8F0FE;\n",
              "      border: none;\n",
              "      border-radius: 50%;\n",
              "      cursor: pointer;\n",
              "      display: none;\n",
              "      fill: #1967D2;\n",
              "      height: 32px;\n",
              "      padding: 0 0 0 0;\n",
              "      width: 32px;\n",
              "    }\n",
              "\n",
              "    .colab-df-convert:hover {\n",
              "      background-color: #E2EBFA;\n",
              "      box-shadow: 0px 1px 2px rgba(60, 64, 67, 0.3), 0px 1px 3px 1px rgba(60, 64, 67, 0.15);\n",
              "      fill: #174EA6;\n",
              "    }\n",
              "\n",
              "    [theme=dark] .colab-df-convert {\n",
              "      background-color: #3B4455;\n",
              "      fill: #D2E3FC;\n",
              "    }\n",
              "\n",
              "    [theme=dark] .colab-df-convert:hover {\n",
              "      background-color: #434B5C;\n",
              "      box-shadow: 0px 1px 3px 1px rgba(0, 0, 0, 0.15);\n",
              "      filter: drop-shadow(0px 1px 2px rgba(0, 0, 0, 0.3));\n",
              "      fill: #FFFFFF;\n",
              "    }\n",
              "  </style>\n",
              "\n",
              "      <script>\n",
              "        const buttonEl =\n",
              "          document.querySelector('#df-f01a2353-26f1-4c51-adae-66df5e7df8ed button.colab-df-convert');\n",
              "        buttonEl.style.display =\n",
              "          google.colab.kernel.accessAllowed ? 'block' : 'none';\n",
              "\n",
              "        async function convertToInteractive(key) {\n",
              "          const element = document.querySelector('#df-f01a2353-26f1-4c51-adae-66df5e7df8ed');\n",
              "          const dataTable =\n",
              "            await google.colab.kernel.invokeFunction('convertToInteractive',\n",
              "                                                     [key], {});\n",
              "          if (!dataTable) return;\n",
              "\n",
              "          const docLinkHtml = 'Like what you see? Visit the ' +\n",
              "            '<a target=\"_blank\" href=https://colab.research.google.com/notebooks/data_table.ipynb>data table notebook</a>'\n",
              "            + ' to learn more about interactive tables.';\n",
              "          element.innerHTML = '';\n",
              "          dataTable['output_type'] = 'display_data';\n",
              "          await google.colab.output.renderOutput(dataTable, element);\n",
              "          const docLink = document.createElement('div');\n",
              "          docLink.innerHTML = docLinkHtml;\n",
              "          element.appendChild(docLink);\n",
              "        }\n",
              "      </script>\n",
              "    </div>\n",
              "  </div>\n",
              "  "
            ]
          },
          "metadata": {},
          "execution_count": 112
        }
      ],
      "id": "plDxx5AvPFUl"
    },
    {
      "cell_type": "code",
      "source": [
        "df11 = pd.concat([df10, dummy], axis=1)\n",
        "df11.head()"
      ],
      "metadata": {
        "scrolled": true,
        "colab": {
          "base_uri": "https://localhost:8080/",
          "height": 235
        },
        "id": "Twa8jX3QPFUl",
        "outputId": "a4533806-3761-4b00-836a-9bfffe66e9ee"
      },
      "execution_count": 113,
      "outputs": [
        {
          "output_type": "execute_result",
          "data": {
            "text/plain": [
              "    area_type  location  total_sqft  bath  balcony   price  Bedrooms  5  6  7  \\\n",
              "0           3       405      1056.0   2.0      1.0   39.07         1  0  0  0   \n",
              "3           3       744      1521.0   3.0      1.0   95.00         2  0  0  0   \n",
              "4           3       697      1200.0   2.0      1.0   51.00         1  0  0  0   \n",
              "12          3        51      1000.0   2.0      1.0   38.00         1  0  0  0   \n",
              "14          2      1028      2250.0   3.0      2.0  148.00         2  0  0  0   \n",
              "\n",
              "    ...  1259  1261  1263  1264  1265  1267  1268  1270  1271  1272  \n",
              "0   ...     0     0     0     0     0     0     0     0     0     0  \n",
              "3   ...     0     0     0     0     0     0     0     0     0     0  \n",
              "4   ...     0     0     0     0     0     0     0     0     0     0  \n",
              "12  ...     0     0     0     0     0     0     0     0     0     0  \n",
              "14  ...     0     0     0     0     0     0     0     0     0     0  \n",
              "\n",
              "[5 rows x 905 columns]"
            ],
            "text/html": [
              "\n",
              "  <div id=\"df-b16476b5-d300-4448-a815-6c57be74bccf\">\n",
              "    <div class=\"colab-df-container\">\n",
              "      <div>\n",
              "<style scoped>\n",
              "    .dataframe tbody tr th:only-of-type {\n",
              "        vertical-align: middle;\n",
              "    }\n",
              "\n",
              "    .dataframe tbody tr th {\n",
              "        vertical-align: top;\n",
              "    }\n",
              "\n",
              "    .dataframe thead th {\n",
              "        text-align: right;\n",
              "    }\n",
              "</style>\n",
              "<table border=\"1\" class=\"dataframe\">\n",
              "  <thead>\n",
              "    <tr style=\"text-align: right;\">\n",
              "      <th></th>\n",
              "      <th>area_type</th>\n",
              "      <th>location</th>\n",
              "      <th>total_sqft</th>\n",
              "      <th>bath</th>\n",
              "      <th>balcony</th>\n",
              "      <th>price</th>\n",
              "      <th>Bedrooms</th>\n",
              "      <th>5</th>\n",
              "      <th>6</th>\n",
              "      <th>7</th>\n",
              "      <th>...</th>\n",
              "      <th>1259</th>\n",
              "      <th>1261</th>\n",
              "      <th>1263</th>\n",
              "      <th>1264</th>\n",
              "      <th>1265</th>\n",
              "      <th>1267</th>\n",
              "      <th>1268</th>\n",
              "      <th>1270</th>\n",
              "      <th>1271</th>\n",
              "      <th>1272</th>\n",
              "    </tr>\n",
              "  </thead>\n",
              "  <tbody>\n",
              "    <tr>\n",
              "      <th>0</th>\n",
              "      <td>3</td>\n",
              "      <td>405</td>\n",
              "      <td>1056.0</td>\n",
              "      <td>2.0</td>\n",
              "      <td>1.0</td>\n",
              "      <td>39.07</td>\n",
              "      <td>1</td>\n",
              "      <td>0</td>\n",
              "      <td>0</td>\n",
              "      <td>0</td>\n",
              "      <td>...</td>\n",
              "      <td>0</td>\n",
              "      <td>0</td>\n",
              "      <td>0</td>\n",
              "      <td>0</td>\n",
              "      <td>0</td>\n",
              "      <td>0</td>\n",
              "      <td>0</td>\n",
              "      <td>0</td>\n",
              "      <td>0</td>\n",
              "      <td>0</td>\n",
              "    </tr>\n",
              "    <tr>\n",
              "      <th>3</th>\n",
              "      <td>3</td>\n",
              "      <td>744</td>\n",
              "      <td>1521.0</td>\n",
              "      <td>3.0</td>\n",
              "      <td>1.0</td>\n",
              "      <td>95.00</td>\n",
              "      <td>2</td>\n",
              "      <td>0</td>\n",
              "      <td>0</td>\n",
              "      <td>0</td>\n",
              "      <td>...</td>\n",
              "      <td>0</td>\n",
              "      <td>0</td>\n",
              "      <td>0</td>\n",
              "      <td>0</td>\n",
              "      <td>0</td>\n",
              "      <td>0</td>\n",
              "      <td>0</td>\n",
              "      <td>0</td>\n",
              "      <td>0</td>\n",
              "      <td>0</td>\n",
              "    </tr>\n",
              "    <tr>\n",
              "      <th>4</th>\n",
              "      <td>3</td>\n",
              "      <td>697</td>\n",
              "      <td>1200.0</td>\n",
              "      <td>2.0</td>\n",
              "      <td>1.0</td>\n",
              "      <td>51.00</td>\n",
              "      <td>1</td>\n",
              "      <td>0</td>\n",
              "      <td>0</td>\n",
              "      <td>0</td>\n",
              "      <td>...</td>\n",
              "      <td>0</td>\n",
              "      <td>0</td>\n",
              "      <td>0</td>\n",
              "      <td>0</td>\n",
              "      <td>0</td>\n",
              "      <td>0</td>\n",
              "      <td>0</td>\n",
              "      <td>0</td>\n",
              "      <td>0</td>\n",
              "      <td>0</td>\n",
              "    </tr>\n",
              "    <tr>\n",
              "      <th>12</th>\n",
              "      <td>3</td>\n",
              "      <td>51</td>\n",
              "      <td>1000.0</td>\n",
              "      <td>2.0</td>\n",
              "      <td>1.0</td>\n",
              "      <td>38.00</td>\n",
              "      <td>1</td>\n",
              "      <td>0</td>\n",
              "      <td>0</td>\n",
              "      <td>0</td>\n",
              "      <td>...</td>\n",
              "      <td>0</td>\n",
              "      <td>0</td>\n",
              "      <td>0</td>\n",
              "      <td>0</td>\n",
              "      <td>0</td>\n",
              "      <td>0</td>\n",
              "      <td>0</td>\n",
              "      <td>0</td>\n",
              "      <td>0</td>\n",
              "      <td>0</td>\n",
              "    </tr>\n",
              "    <tr>\n",
              "      <th>14</th>\n",
              "      <td>2</td>\n",
              "      <td>1028</td>\n",
              "      <td>2250.0</td>\n",
              "      <td>3.0</td>\n",
              "      <td>2.0</td>\n",
              "      <td>148.00</td>\n",
              "      <td>2</td>\n",
              "      <td>0</td>\n",
              "      <td>0</td>\n",
              "      <td>0</td>\n",
              "      <td>...</td>\n",
              "      <td>0</td>\n",
              "      <td>0</td>\n",
              "      <td>0</td>\n",
              "      <td>0</td>\n",
              "      <td>0</td>\n",
              "      <td>0</td>\n",
              "      <td>0</td>\n",
              "      <td>0</td>\n",
              "      <td>0</td>\n",
              "      <td>0</td>\n",
              "    </tr>\n",
              "  </tbody>\n",
              "</table>\n",
              "<p>5 rows × 905 columns</p>\n",
              "</div>\n",
              "      <button class=\"colab-df-convert\" onclick=\"convertToInteractive('df-b16476b5-d300-4448-a815-6c57be74bccf')\"\n",
              "              title=\"Convert this dataframe to an interactive table.\"\n",
              "              style=\"display:none;\">\n",
              "        \n",
              "  <svg xmlns=\"http://www.w3.org/2000/svg\" height=\"24px\"viewBox=\"0 0 24 24\"\n",
              "       width=\"24px\">\n",
              "    <path d=\"M0 0h24v24H0V0z\" fill=\"none\"/>\n",
              "    <path d=\"M18.56 5.44l.94 2.06.94-2.06 2.06-.94-2.06-.94-.94-2.06-.94 2.06-2.06.94zm-11 1L8.5 8.5l.94-2.06 2.06-.94-2.06-.94L8.5 2.5l-.94 2.06-2.06.94zm10 10l.94 2.06.94-2.06 2.06-.94-2.06-.94-.94-2.06-.94 2.06-2.06.94z\"/><path d=\"M17.41 7.96l-1.37-1.37c-.4-.4-.92-.59-1.43-.59-.52 0-1.04.2-1.43.59L10.3 9.45l-7.72 7.72c-.78.78-.78 2.05 0 2.83L4 21.41c.39.39.9.59 1.41.59.51 0 1.02-.2 1.41-.59l7.78-7.78 2.81-2.81c.8-.78.8-2.07 0-2.86zM5.41 20L4 18.59l7.72-7.72 1.47 1.35L5.41 20z\"/>\n",
              "  </svg>\n",
              "      </button>\n",
              "      \n",
              "  <style>\n",
              "    .colab-df-container {\n",
              "      display:flex;\n",
              "      flex-wrap:wrap;\n",
              "      gap: 12px;\n",
              "    }\n",
              "\n",
              "    .colab-df-convert {\n",
              "      background-color: #E8F0FE;\n",
              "      border: none;\n",
              "      border-radius: 50%;\n",
              "      cursor: pointer;\n",
              "      display: none;\n",
              "      fill: #1967D2;\n",
              "      height: 32px;\n",
              "      padding: 0 0 0 0;\n",
              "      width: 32px;\n",
              "    }\n",
              "\n",
              "    .colab-df-convert:hover {\n",
              "      background-color: #E2EBFA;\n",
              "      box-shadow: 0px 1px 2px rgba(60, 64, 67, 0.3), 0px 1px 3px 1px rgba(60, 64, 67, 0.15);\n",
              "      fill: #174EA6;\n",
              "    }\n",
              "\n",
              "    [theme=dark] .colab-df-convert {\n",
              "      background-color: #3B4455;\n",
              "      fill: #D2E3FC;\n",
              "    }\n",
              "\n",
              "    [theme=dark] .colab-df-convert:hover {\n",
              "      background-color: #434B5C;\n",
              "      box-shadow: 0px 1px 3px 1px rgba(0, 0, 0, 0.15);\n",
              "      filter: drop-shadow(0px 1px 2px rgba(0, 0, 0, 0.3));\n",
              "      fill: #FFFFFF;\n",
              "    }\n",
              "  </style>\n",
              "\n",
              "      <script>\n",
              "        const buttonEl =\n",
              "          document.querySelector('#df-b16476b5-d300-4448-a815-6c57be74bccf button.colab-df-convert');\n",
              "        buttonEl.style.display =\n",
              "          google.colab.kernel.accessAllowed ? 'block' : 'none';\n",
              "\n",
              "        async function convertToInteractive(key) {\n",
              "          const element = document.querySelector('#df-b16476b5-d300-4448-a815-6c57be74bccf');\n",
              "          const dataTable =\n",
              "            await google.colab.kernel.invokeFunction('convertToInteractive',\n",
              "                                                     [key], {});\n",
              "          if (!dataTable) return;\n",
              "\n",
              "          const docLinkHtml = 'Like what you see? Visit the ' +\n",
              "            '<a target=\"_blank\" href=https://colab.research.google.com/notebooks/data_table.ipynb>data table notebook</a>'\n",
              "            + ' to learn more about interactive tables.';\n",
              "          element.innerHTML = '';\n",
              "          dataTable['output_type'] = 'display_data';\n",
              "          await google.colab.output.renderOutput(dataTable, element);\n",
              "          const docLink = document.createElement('div');\n",
              "          docLink.innerHTML = docLinkHtml;\n",
              "          element.appendChild(docLink);\n",
              "        }\n",
              "      </script>\n",
              "    </div>\n",
              "  </div>\n",
              "  "
            ]
          },
          "metadata": {},
          "execution_count": 113
        }
      ],
      "id": "Twa8jX3QPFUl"
    },
    {
      "cell_type": "code",
      "source": [
        "df12 = df11.drop('location', axis='columns')\n",
        "df12.head()"
      ],
      "metadata": {
        "colab": {
          "base_uri": "https://localhost:8080/",
          "height": 235
        },
        "id": "ayoxLI3HPFUl",
        "outputId": "5a745321-376b-4977-e83c-8ba9502dbe79"
      },
      "execution_count": 114,
      "outputs": [
        {
          "output_type": "execute_result",
          "data": {
            "text/plain": [
              "    area_type  total_sqft  bath  balcony   price  Bedrooms  5  6  7  8  ...  \\\n",
              "0           3      1056.0   2.0      1.0   39.07         1  0  0  0  0  ...   \n",
              "3           3      1521.0   3.0      1.0   95.00         2  0  0  0  0  ...   \n",
              "4           3      1200.0   2.0      1.0   51.00         1  0  0  0  0  ...   \n",
              "12          3      1000.0   2.0      1.0   38.00         1  0  0  0  0  ...   \n",
              "14          2      2250.0   3.0      2.0  148.00         2  0  0  0  0  ...   \n",
              "\n",
              "    1259  1261  1263  1264  1265  1267  1268  1270  1271  1272  \n",
              "0      0     0     0     0     0     0     0     0     0     0  \n",
              "3      0     0     0     0     0     0     0     0     0     0  \n",
              "4      0     0     0     0     0     0     0     0     0     0  \n",
              "12     0     0     0     0     0     0     0     0     0     0  \n",
              "14     0     0     0     0     0     0     0     0     0     0  \n",
              "\n",
              "[5 rows x 904 columns]"
            ],
            "text/html": [
              "\n",
              "  <div id=\"df-87eac905-1e6a-493b-ade6-a8ef692376b6\">\n",
              "    <div class=\"colab-df-container\">\n",
              "      <div>\n",
              "<style scoped>\n",
              "    .dataframe tbody tr th:only-of-type {\n",
              "        vertical-align: middle;\n",
              "    }\n",
              "\n",
              "    .dataframe tbody tr th {\n",
              "        vertical-align: top;\n",
              "    }\n",
              "\n",
              "    .dataframe thead th {\n",
              "        text-align: right;\n",
              "    }\n",
              "</style>\n",
              "<table border=\"1\" class=\"dataframe\">\n",
              "  <thead>\n",
              "    <tr style=\"text-align: right;\">\n",
              "      <th></th>\n",
              "      <th>area_type</th>\n",
              "      <th>total_sqft</th>\n",
              "      <th>bath</th>\n",
              "      <th>balcony</th>\n",
              "      <th>price</th>\n",
              "      <th>Bedrooms</th>\n",
              "      <th>5</th>\n",
              "      <th>6</th>\n",
              "      <th>7</th>\n",
              "      <th>8</th>\n",
              "      <th>...</th>\n",
              "      <th>1259</th>\n",
              "      <th>1261</th>\n",
              "      <th>1263</th>\n",
              "      <th>1264</th>\n",
              "      <th>1265</th>\n",
              "      <th>1267</th>\n",
              "      <th>1268</th>\n",
              "      <th>1270</th>\n",
              "      <th>1271</th>\n",
              "      <th>1272</th>\n",
              "    </tr>\n",
              "  </thead>\n",
              "  <tbody>\n",
              "    <tr>\n",
              "      <th>0</th>\n",
              "      <td>3</td>\n",
              "      <td>1056.0</td>\n",
              "      <td>2.0</td>\n",
              "      <td>1.0</td>\n",
              "      <td>39.07</td>\n",
              "      <td>1</td>\n",
              "      <td>0</td>\n",
              "      <td>0</td>\n",
              "      <td>0</td>\n",
              "      <td>0</td>\n",
              "      <td>...</td>\n",
              "      <td>0</td>\n",
              "      <td>0</td>\n",
              "      <td>0</td>\n",
              "      <td>0</td>\n",
              "      <td>0</td>\n",
              "      <td>0</td>\n",
              "      <td>0</td>\n",
              "      <td>0</td>\n",
              "      <td>0</td>\n",
              "      <td>0</td>\n",
              "    </tr>\n",
              "    <tr>\n",
              "      <th>3</th>\n",
              "      <td>3</td>\n",
              "      <td>1521.0</td>\n",
              "      <td>3.0</td>\n",
              "      <td>1.0</td>\n",
              "      <td>95.00</td>\n",
              "      <td>2</td>\n",
              "      <td>0</td>\n",
              "      <td>0</td>\n",
              "      <td>0</td>\n",
              "      <td>0</td>\n",
              "      <td>...</td>\n",
              "      <td>0</td>\n",
              "      <td>0</td>\n",
              "      <td>0</td>\n",
              "      <td>0</td>\n",
              "      <td>0</td>\n",
              "      <td>0</td>\n",
              "      <td>0</td>\n",
              "      <td>0</td>\n",
              "      <td>0</td>\n",
              "      <td>0</td>\n",
              "    </tr>\n",
              "    <tr>\n",
              "      <th>4</th>\n",
              "      <td>3</td>\n",
              "      <td>1200.0</td>\n",
              "      <td>2.0</td>\n",
              "      <td>1.0</td>\n",
              "      <td>51.00</td>\n",
              "      <td>1</td>\n",
              "      <td>0</td>\n",
              "      <td>0</td>\n",
              "      <td>0</td>\n",
              "      <td>0</td>\n",
              "      <td>...</td>\n",
              "      <td>0</td>\n",
              "      <td>0</td>\n",
              "      <td>0</td>\n",
              "      <td>0</td>\n",
              "      <td>0</td>\n",
              "      <td>0</td>\n",
              "      <td>0</td>\n",
              "      <td>0</td>\n",
              "      <td>0</td>\n",
              "      <td>0</td>\n",
              "    </tr>\n",
              "    <tr>\n",
              "      <th>12</th>\n",
              "      <td>3</td>\n",
              "      <td>1000.0</td>\n",
              "      <td>2.0</td>\n",
              "      <td>1.0</td>\n",
              "      <td>38.00</td>\n",
              "      <td>1</td>\n",
              "      <td>0</td>\n",
              "      <td>0</td>\n",
              "      <td>0</td>\n",
              "      <td>0</td>\n",
              "      <td>...</td>\n",
              "      <td>0</td>\n",
              "      <td>0</td>\n",
              "      <td>0</td>\n",
              "      <td>0</td>\n",
              "      <td>0</td>\n",
              "      <td>0</td>\n",
              "      <td>0</td>\n",
              "      <td>0</td>\n",
              "      <td>0</td>\n",
              "      <td>0</td>\n",
              "    </tr>\n",
              "    <tr>\n",
              "      <th>14</th>\n",
              "      <td>2</td>\n",
              "      <td>2250.0</td>\n",
              "      <td>3.0</td>\n",
              "      <td>2.0</td>\n",
              "      <td>148.00</td>\n",
              "      <td>2</td>\n",
              "      <td>0</td>\n",
              "      <td>0</td>\n",
              "      <td>0</td>\n",
              "      <td>0</td>\n",
              "      <td>...</td>\n",
              "      <td>0</td>\n",
              "      <td>0</td>\n",
              "      <td>0</td>\n",
              "      <td>0</td>\n",
              "      <td>0</td>\n",
              "      <td>0</td>\n",
              "      <td>0</td>\n",
              "      <td>0</td>\n",
              "      <td>0</td>\n",
              "      <td>0</td>\n",
              "    </tr>\n",
              "  </tbody>\n",
              "</table>\n",
              "<p>5 rows × 904 columns</p>\n",
              "</div>\n",
              "      <button class=\"colab-df-convert\" onclick=\"convertToInteractive('df-87eac905-1e6a-493b-ade6-a8ef692376b6')\"\n",
              "              title=\"Convert this dataframe to an interactive table.\"\n",
              "              style=\"display:none;\">\n",
              "        \n",
              "  <svg xmlns=\"http://www.w3.org/2000/svg\" height=\"24px\"viewBox=\"0 0 24 24\"\n",
              "       width=\"24px\">\n",
              "    <path d=\"M0 0h24v24H0V0z\" fill=\"none\"/>\n",
              "    <path d=\"M18.56 5.44l.94 2.06.94-2.06 2.06-.94-2.06-.94-.94-2.06-.94 2.06-2.06.94zm-11 1L8.5 8.5l.94-2.06 2.06-.94-2.06-.94L8.5 2.5l-.94 2.06-2.06.94zm10 10l.94 2.06.94-2.06 2.06-.94-2.06-.94-.94-2.06-.94 2.06-2.06.94z\"/><path d=\"M17.41 7.96l-1.37-1.37c-.4-.4-.92-.59-1.43-.59-.52 0-1.04.2-1.43.59L10.3 9.45l-7.72 7.72c-.78.78-.78 2.05 0 2.83L4 21.41c.39.39.9.59 1.41.59.51 0 1.02-.2 1.41-.59l7.78-7.78 2.81-2.81c.8-.78.8-2.07 0-2.86zM5.41 20L4 18.59l7.72-7.72 1.47 1.35L5.41 20z\"/>\n",
              "  </svg>\n",
              "      </button>\n",
              "      \n",
              "  <style>\n",
              "    .colab-df-container {\n",
              "      display:flex;\n",
              "      flex-wrap:wrap;\n",
              "      gap: 12px;\n",
              "    }\n",
              "\n",
              "    .colab-df-convert {\n",
              "      background-color: #E8F0FE;\n",
              "      border: none;\n",
              "      border-radius: 50%;\n",
              "      cursor: pointer;\n",
              "      display: none;\n",
              "      fill: #1967D2;\n",
              "      height: 32px;\n",
              "      padding: 0 0 0 0;\n",
              "      width: 32px;\n",
              "    }\n",
              "\n",
              "    .colab-df-convert:hover {\n",
              "      background-color: #E2EBFA;\n",
              "      box-shadow: 0px 1px 2px rgba(60, 64, 67, 0.3), 0px 1px 3px 1px rgba(60, 64, 67, 0.15);\n",
              "      fill: #174EA6;\n",
              "    }\n",
              "\n",
              "    [theme=dark] .colab-df-convert {\n",
              "      background-color: #3B4455;\n",
              "      fill: #D2E3FC;\n",
              "    }\n",
              "\n",
              "    [theme=dark] .colab-df-convert:hover {\n",
              "      background-color: #434B5C;\n",
              "      box-shadow: 0px 1px 3px 1px rgba(0, 0, 0, 0.15);\n",
              "      filter: drop-shadow(0px 1px 2px rgba(0, 0, 0, 0.3));\n",
              "      fill: #FFFFFF;\n",
              "    }\n",
              "  </style>\n",
              "\n",
              "      <script>\n",
              "        const buttonEl =\n",
              "          document.querySelector('#df-87eac905-1e6a-493b-ade6-a8ef692376b6 button.colab-df-convert');\n",
              "        buttonEl.style.display =\n",
              "          google.colab.kernel.accessAllowed ? 'block' : 'none';\n",
              "\n",
              "        async function convertToInteractive(key) {\n",
              "          const element = document.querySelector('#df-87eac905-1e6a-493b-ade6-a8ef692376b6');\n",
              "          const dataTable =\n",
              "            await google.colab.kernel.invokeFunction('convertToInteractive',\n",
              "                                                     [key], {});\n",
              "          if (!dataTable) return;\n",
              "\n",
              "          const docLinkHtml = 'Like what you see? Visit the ' +\n",
              "            '<a target=\"_blank\" href=https://colab.research.google.com/notebooks/data_table.ipynb>data table notebook</a>'\n",
              "            + ' to learn more about interactive tables.';\n",
              "          element.innerHTML = '';\n",
              "          dataTable['output_type'] = 'display_data';\n",
              "          await google.colab.output.renderOutput(dataTable, element);\n",
              "          const docLink = document.createElement('div');\n",
              "          docLink.innerHTML = docLinkHtml;\n",
              "          element.appendChild(docLink);\n",
              "        }\n",
              "      </script>\n",
              "    </div>\n",
              "  </div>\n",
              "  "
            ]
          },
          "metadata": {},
          "execution_count": 114
        }
      ],
      "id": "ayoxLI3HPFUl"
    },
    {
      "cell_type": "code",
      "source": [
        "df12.shape"
      ],
      "metadata": {
        "colab": {
          "base_uri": "https://localhost:8080/"
        },
        "id": "rS6jxycuPFUl",
        "outputId": "98629cbd-8776-48d6-cf1e-f9a7306b6e6b"
      },
      "execution_count": 115,
      "outputs": [
        {
          "output_type": "execute_result",
          "data": {
            "text/plain": [
              "(6276, 904)"
            ]
          },
          "metadata": {},
          "execution_count": 115
        }
      ],
      "id": "rS6jxycuPFUl"
    },
    {
      "cell_type": "markdown",
      "source": [
        "# Splitting the Dataset"
      ],
      "metadata": {
        "id": "xCCKuRrhPFUl"
      },
      "id": "xCCKuRrhPFUl"
    },
    {
      "cell_type": "code",
      "source": [
        "X= df12.drop([\"price\"], axis=1)\n",
        "y= df12.price"
      ],
      "metadata": {
        "id": "8uwLg10sPFUm"
      },
      "execution_count": 116,
      "outputs": [],
      "id": "8uwLg10sPFUm"
    },
    {
      "cell_type": "code",
      "source": [
        "from sklearn.model_selection import train_test_split\n",
        "X_train, X_test, y_train, y_test = train_test_split(X, y, test_size=0.3, random_state=42)"
      ],
      "metadata": {
        "id": "3BojNSDDPFUm"
      },
      "execution_count": 117,
      "outputs": [],
      "id": "3BojNSDDPFUm"
    },
    {
      "cell_type": "code",
      "source": [
        "X_train.shape, X_test.shape, y_train.shape, y_test.shape"
      ],
      "metadata": {
        "scrolled": true,
        "colab": {
          "base_uri": "https://localhost:8080/"
        },
        "id": "ZjVjZKLUPFUm",
        "outputId": "0b69edaa-fe05-44e9-ba25-03253c7d05a4"
      },
      "execution_count": 118,
      "outputs": [
        {
          "output_type": "execute_result",
          "data": {
            "text/plain": [
              "((4393, 903), (1883, 903), (4393,), (1883,))"
            ]
          },
          "metadata": {},
          "execution_count": 118
        }
      ],
      "id": "ZjVjZKLUPFUm"
    },
    {
      "cell_type": "code",
      "source": [
        "X_train"
      ],
      "metadata": {
        "colab": {
          "base_uri": "https://localhost:8080/",
          "height": 423
        },
        "id": "jmmycIigPFUm",
        "outputId": "ed9c9def-7eeb-49f8-c4aa-ba2fcd1cd8a1"
      },
      "execution_count": 119,
      "outputs": [
        {
          "output_type": "execute_result",
          "data": {
            "text/plain": [
              "       area_type  total_sqft  bath  balcony  Bedrooms  5  6  7  8  9  ...  \\\n",
              "2726           2      1550.0   2.0      1.0         1  0  0  0  0  0  ...   \n",
              "3486           2      1350.0   2.0      1.0         1  0  0  0  0  0  ...   \n",
              "8964           3      1303.0   2.0      2.0         1  0  0  0  0  0  ...   \n",
              "11080          3      1170.0   2.0      1.0         1  0  0  0  0  0  ...   \n",
              "9926           3       920.0   2.0      2.0         1  0  0  0  0  0  ...   \n",
              "...          ...         ...   ...      ...       ... .. .. .. .. ..  ...   \n",
              "7445           3      1200.0   2.0      2.0         1  0  0  0  0  0  ...   \n",
              "10296          3       980.0   2.0      1.0         1  0  0  0  0  0  ...   \n",
              "10357          3      1335.0   2.0      1.0         1  0  0  0  0  0  ...   \n",
              "10714          3      1588.0   2.0      3.0         2  0  0  0  0  0  ...   \n",
              "1692           3      1330.0   2.0      1.0         1  0  0  0  0  0  ...   \n",
              "\n",
              "       1259  1261  1263  1264  1265  1267  1268  1270  1271  1272  \n",
              "2726      0     0     0     0     0     0     0     0     0     0  \n",
              "3486      0     0     0     0     0     0     0     0     0     0  \n",
              "8964      0     0     0     0     0     0     0     0     0     0  \n",
              "11080     0     0     0     0     0     0     0     0     0     0  \n",
              "9926      0     0     0     0     0     0     0     0     0     0  \n",
              "...     ...   ...   ...   ...   ...   ...   ...   ...   ...   ...  \n",
              "7445      0     0     0     0     0     0     0     0     0     0  \n",
              "10296     0     0     0     0     0     0     0     0     0     0  \n",
              "10357     0     0     0     0     0     0     0     0     0     0  \n",
              "10714     0     0     0     0     0     0     0     0     0     0  \n",
              "1692      0     0     0     0     0     0     0     0     0     0  \n",
              "\n",
              "[4393 rows x 903 columns]"
            ],
            "text/html": [
              "\n",
              "  <div id=\"df-abc25a0e-e020-4c0b-b266-9f2091552bde\">\n",
              "    <div class=\"colab-df-container\">\n",
              "      <div>\n",
              "<style scoped>\n",
              "    .dataframe tbody tr th:only-of-type {\n",
              "        vertical-align: middle;\n",
              "    }\n",
              "\n",
              "    .dataframe tbody tr th {\n",
              "        vertical-align: top;\n",
              "    }\n",
              "\n",
              "    .dataframe thead th {\n",
              "        text-align: right;\n",
              "    }\n",
              "</style>\n",
              "<table border=\"1\" class=\"dataframe\">\n",
              "  <thead>\n",
              "    <tr style=\"text-align: right;\">\n",
              "      <th></th>\n",
              "      <th>area_type</th>\n",
              "      <th>total_sqft</th>\n",
              "      <th>bath</th>\n",
              "      <th>balcony</th>\n",
              "      <th>Bedrooms</th>\n",
              "      <th>5</th>\n",
              "      <th>6</th>\n",
              "      <th>7</th>\n",
              "      <th>8</th>\n",
              "      <th>9</th>\n",
              "      <th>...</th>\n",
              "      <th>1259</th>\n",
              "      <th>1261</th>\n",
              "      <th>1263</th>\n",
              "      <th>1264</th>\n",
              "      <th>1265</th>\n",
              "      <th>1267</th>\n",
              "      <th>1268</th>\n",
              "      <th>1270</th>\n",
              "      <th>1271</th>\n",
              "      <th>1272</th>\n",
              "    </tr>\n",
              "  </thead>\n",
              "  <tbody>\n",
              "    <tr>\n",
              "      <th>2726</th>\n",
              "      <td>2</td>\n",
              "      <td>1550.0</td>\n",
              "      <td>2.0</td>\n",
              "      <td>1.0</td>\n",
              "      <td>1</td>\n",
              "      <td>0</td>\n",
              "      <td>0</td>\n",
              "      <td>0</td>\n",
              "      <td>0</td>\n",
              "      <td>0</td>\n",
              "      <td>...</td>\n",
              "      <td>0</td>\n",
              "      <td>0</td>\n",
              "      <td>0</td>\n",
              "      <td>0</td>\n",
              "      <td>0</td>\n",
              "      <td>0</td>\n",
              "      <td>0</td>\n",
              "      <td>0</td>\n",
              "      <td>0</td>\n",
              "      <td>0</td>\n",
              "    </tr>\n",
              "    <tr>\n",
              "      <th>3486</th>\n",
              "      <td>2</td>\n",
              "      <td>1350.0</td>\n",
              "      <td>2.0</td>\n",
              "      <td>1.0</td>\n",
              "      <td>1</td>\n",
              "      <td>0</td>\n",
              "      <td>0</td>\n",
              "      <td>0</td>\n",
              "      <td>0</td>\n",
              "      <td>0</td>\n",
              "      <td>...</td>\n",
              "      <td>0</td>\n",
              "      <td>0</td>\n",
              "      <td>0</td>\n",
              "      <td>0</td>\n",
              "      <td>0</td>\n",
              "      <td>0</td>\n",
              "      <td>0</td>\n",
              "      <td>0</td>\n",
              "      <td>0</td>\n",
              "      <td>0</td>\n",
              "    </tr>\n",
              "    <tr>\n",
              "      <th>8964</th>\n",
              "      <td>3</td>\n",
              "      <td>1303.0</td>\n",
              "      <td>2.0</td>\n",
              "      <td>2.0</td>\n",
              "      <td>1</td>\n",
              "      <td>0</td>\n",
              "      <td>0</td>\n",
              "      <td>0</td>\n",
              "      <td>0</td>\n",
              "      <td>0</td>\n",
              "      <td>...</td>\n",
              "      <td>0</td>\n",
              "      <td>0</td>\n",
              "      <td>0</td>\n",
              "      <td>0</td>\n",
              "      <td>0</td>\n",
              "      <td>0</td>\n",
              "      <td>0</td>\n",
              "      <td>0</td>\n",
              "      <td>0</td>\n",
              "      <td>0</td>\n",
              "    </tr>\n",
              "    <tr>\n",
              "      <th>11080</th>\n",
              "      <td>3</td>\n",
              "      <td>1170.0</td>\n",
              "      <td>2.0</td>\n",
              "      <td>1.0</td>\n",
              "      <td>1</td>\n",
              "      <td>0</td>\n",
              "      <td>0</td>\n",
              "      <td>0</td>\n",
              "      <td>0</td>\n",
              "      <td>0</td>\n",
              "      <td>...</td>\n",
              "      <td>0</td>\n",
              "      <td>0</td>\n",
              "      <td>0</td>\n",
              "      <td>0</td>\n",
              "      <td>0</td>\n",
              "      <td>0</td>\n",
              "      <td>0</td>\n",
              "      <td>0</td>\n",
              "      <td>0</td>\n",
              "      <td>0</td>\n",
              "    </tr>\n",
              "    <tr>\n",
              "      <th>9926</th>\n",
              "      <td>3</td>\n",
              "      <td>920.0</td>\n",
              "      <td>2.0</td>\n",
              "      <td>2.0</td>\n",
              "      <td>1</td>\n",
              "      <td>0</td>\n",
              "      <td>0</td>\n",
              "      <td>0</td>\n",
              "      <td>0</td>\n",
              "      <td>0</td>\n",
              "      <td>...</td>\n",
              "      <td>0</td>\n",
              "      <td>0</td>\n",
              "      <td>0</td>\n",
              "      <td>0</td>\n",
              "      <td>0</td>\n",
              "      <td>0</td>\n",
              "      <td>0</td>\n",
              "      <td>0</td>\n",
              "      <td>0</td>\n",
              "      <td>0</td>\n",
              "    </tr>\n",
              "    <tr>\n",
              "      <th>...</th>\n",
              "      <td>...</td>\n",
              "      <td>...</td>\n",
              "      <td>...</td>\n",
              "      <td>...</td>\n",
              "      <td>...</td>\n",
              "      <td>...</td>\n",
              "      <td>...</td>\n",
              "      <td>...</td>\n",
              "      <td>...</td>\n",
              "      <td>...</td>\n",
              "      <td>...</td>\n",
              "      <td>...</td>\n",
              "      <td>...</td>\n",
              "      <td>...</td>\n",
              "      <td>...</td>\n",
              "      <td>...</td>\n",
              "      <td>...</td>\n",
              "      <td>...</td>\n",
              "      <td>...</td>\n",
              "      <td>...</td>\n",
              "      <td>...</td>\n",
              "    </tr>\n",
              "    <tr>\n",
              "      <th>7445</th>\n",
              "      <td>3</td>\n",
              "      <td>1200.0</td>\n",
              "      <td>2.0</td>\n",
              "      <td>2.0</td>\n",
              "      <td>1</td>\n",
              "      <td>0</td>\n",
              "      <td>0</td>\n",
              "      <td>0</td>\n",
              "      <td>0</td>\n",
              "      <td>0</td>\n",
              "      <td>...</td>\n",
              "      <td>0</td>\n",
              "      <td>0</td>\n",
              "      <td>0</td>\n",
              "      <td>0</td>\n",
              "      <td>0</td>\n",
              "      <td>0</td>\n",
              "      <td>0</td>\n",
              "      <td>0</td>\n",
              "      <td>0</td>\n",
              "      <td>0</td>\n",
              "    </tr>\n",
              "    <tr>\n",
              "      <th>10296</th>\n",
              "      <td>3</td>\n",
              "      <td>980.0</td>\n",
              "      <td>2.0</td>\n",
              "      <td>1.0</td>\n",
              "      <td>1</td>\n",
              "      <td>0</td>\n",
              "      <td>0</td>\n",
              "      <td>0</td>\n",
              "      <td>0</td>\n",
              "      <td>0</td>\n",
              "      <td>...</td>\n",
              "      <td>0</td>\n",
              "      <td>0</td>\n",
              "      <td>0</td>\n",
              "      <td>0</td>\n",
              "      <td>0</td>\n",
              "      <td>0</td>\n",
              "      <td>0</td>\n",
              "      <td>0</td>\n",
              "      <td>0</td>\n",
              "      <td>0</td>\n",
              "    </tr>\n",
              "    <tr>\n",
              "      <th>10357</th>\n",
              "      <td>3</td>\n",
              "      <td>1335.0</td>\n",
              "      <td>2.0</td>\n",
              "      <td>1.0</td>\n",
              "      <td>1</td>\n",
              "      <td>0</td>\n",
              "      <td>0</td>\n",
              "      <td>0</td>\n",
              "      <td>0</td>\n",
              "      <td>0</td>\n",
              "      <td>...</td>\n",
              "      <td>0</td>\n",
              "      <td>0</td>\n",
              "      <td>0</td>\n",
              "      <td>0</td>\n",
              "      <td>0</td>\n",
              "      <td>0</td>\n",
              "      <td>0</td>\n",
              "      <td>0</td>\n",
              "      <td>0</td>\n",
              "      <td>0</td>\n",
              "    </tr>\n",
              "    <tr>\n",
              "      <th>10714</th>\n",
              "      <td>3</td>\n",
              "      <td>1588.0</td>\n",
              "      <td>2.0</td>\n",
              "      <td>3.0</td>\n",
              "      <td>2</td>\n",
              "      <td>0</td>\n",
              "      <td>0</td>\n",
              "      <td>0</td>\n",
              "      <td>0</td>\n",
              "      <td>0</td>\n",
              "      <td>...</td>\n",
              "      <td>0</td>\n",
              "      <td>0</td>\n",
              "      <td>0</td>\n",
              "      <td>0</td>\n",
              "      <td>0</td>\n",
              "      <td>0</td>\n",
              "      <td>0</td>\n",
              "      <td>0</td>\n",
              "      <td>0</td>\n",
              "      <td>0</td>\n",
              "    </tr>\n",
              "    <tr>\n",
              "      <th>1692</th>\n",
              "      <td>3</td>\n",
              "      <td>1330.0</td>\n",
              "      <td>2.0</td>\n",
              "      <td>1.0</td>\n",
              "      <td>1</td>\n",
              "      <td>0</td>\n",
              "      <td>0</td>\n",
              "      <td>0</td>\n",
              "      <td>0</td>\n",
              "      <td>0</td>\n",
              "      <td>...</td>\n",
              "      <td>0</td>\n",
              "      <td>0</td>\n",
              "      <td>0</td>\n",
              "      <td>0</td>\n",
              "      <td>0</td>\n",
              "      <td>0</td>\n",
              "      <td>0</td>\n",
              "      <td>0</td>\n",
              "      <td>0</td>\n",
              "      <td>0</td>\n",
              "    </tr>\n",
              "  </tbody>\n",
              "</table>\n",
              "<p>4393 rows × 903 columns</p>\n",
              "</div>\n",
              "      <button class=\"colab-df-convert\" onclick=\"convertToInteractive('df-abc25a0e-e020-4c0b-b266-9f2091552bde')\"\n",
              "              title=\"Convert this dataframe to an interactive table.\"\n",
              "              style=\"display:none;\">\n",
              "        \n",
              "  <svg xmlns=\"http://www.w3.org/2000/svg\" height=\"24px\"viewBox=\"0 0 24 24\"\n",
              "       width=\"24px\">\n",
              "    <path d=\"M0 0h24v24H0V0z\" fill=\"none\"/>\n",
              "    <path d=\"M18.56 5.44l.94 2.06.94-2.06 2.06-.94-2.06-.94-.94-2.06-.94 2.06-2.06.94zm-11 1L8.5 8.5l.94-2.06 2.06-.94-2.06-.94L8.5 2.5l-.94 2.06-2.06.94zm10 10l.94 2.06.94-2.06 2.06-.94-2.06-.94-.94-2.06-.94 2.06-2.06.94z\"/><path d=\"M17.41 7.96l-1.37-1.37c-.4-.4-.92-.59-1.43-.59-.52 0-1.04.2-1.43.59L10.3 9.45l-7.72 7.72c-.78.78-.78 2.05 0 2.83L4 21.41c.39.39.9.59 1.41.59.51 0 1.02-.2 1.41-.59l7.78-7.78 2.81-2.81c.8-.78.8-2.07 0-2.86zM5.41 20L4 18.59l7.72-7.72 1.47 1.35L5.41 20z\"/>\n",
              "  </svg>\n",
              "      </button>\n",
              "      \n",
              "  <style>\n",
              "    .colab-df-container {\n",
              "      display:flex;\n",
              "      flex-wrap:wrap;\n",
              "      gap: 12px;\n",
              "    }\n",
              "\n",
              "    .colab-df-convert {\n",
              "      background-color: #E8F0FE;\n",
              "      border: none;\n",
              "      border-radius: 50%;\n",
              "      cursor: pointer;\n",
              "      display: none;\n",
              "      fill: #1967D2;\n",
              "      height: 32px;\n",
              "      padding: 0 0 0 0;\n",
              "      width: 32px;\n",
              "    }\n",
              "\n",
              "    .colab-df-convert:hover {\n",
              "      background-color: #E2EBFA;\n",
              "      box-shadow: 0px 1px 2px rgba(60, 64, 67, 0.3), 0px 1px 3px 1px rgba(60, 64, 67, 0.15);\n",
              "      fill: #174EA6;\n",
              "    }\n",
              "\n",
              "    [theme=dark] .colab-df-convert {\n",
              "      background-color: #3B4455;\n",
              "      fill: #D2E3FC;\n",
              "    }\n",
              "\n",
              "    [theme=dark] .colab-df-convert:hover {\n",
              "      background-color: #434B5C;\n",
              "      box-shadow: 0px 1px 3px 1px rgba(0, 0, 0, 0.15);\n",
              "      filter: drop-shadow(0px 1px 2px rgba(0, 0, 0, 0.3));\n",
              "      fill: #FFFFFF;\n",
              "    }\n",
              "  </style>\n",
              "\n",
              "      <script>\n",
              "        const buttonEl =\n",
              "          document.querySelector('#df-abc25a0e-e020-4c0b-b266-9f2091552bde button.colab-df-convert');\n",
              "        buttonEl.style.display =\n",
              "          google.colab.kernel.accessAllowed ? 'block' : 'none';\n",
              "\n",
              "        async function convertToInteractive(key) {\n",
              "          const element = document.querySelector('#df-abc25a0e-e020-4c0b-b266-9f2091552bde');\n",
              "          const dataTable =\n",
              "            await google.colab.kernel.invokeFunction('convertToInteractive',\n",
              "                                                     [key], {});\n",
              "          if (!dataTable) return;\n",
              "\n",
              "          const docLinkHtml = 'Like what you see? Visit the ' +\n",
              "            '<a target=\"_blank\" href=https://colab.research.google.com/notebooks/data_table.ipynb>data table notebook</a>'\n",
              "            + ' to learn more about interactive tables.';\n",
              "          element.innerHTML = '';\n",
              "          dataTable['output_type'] = 'display_data';\n",
              "          await google.colab.output.renderOutput(dataTable, element);\n",
              "          const docLink = document.createElement('div');\n",
              "          docLink.innerHTML = docLinkHtml;\n",
              "          element.appendChild(docLink);\n",
              "        }\n",
              "      </script>\n",
              "    </div>\n",
              "  </div>\n",
              "  "
            ]
          },
          "metadata": {},
          "execution_count": 119
        }
      ],
      "id": "jmmycIigPFUm"
    },
    {
      "cell_type": "code",
      "source": [
        "from sklearn.pipeline import Pipeline\n",
        "from sklearn.impute import SimpleImputer\n",
        "from sklearn.preprocessing import StandardScaler"
      ],
      "metadata": {
        "id": "6moRScPuPFUm"
      },
      "execution_count": 120,
      "outputs": [],
      "id": "6moRScPuPFUm"
    },
    {
      "cell_type": "code",
      "source": [
        "# pipe = Pipeline(steps=[\n",
        "#              (\"scaler\", StandardScaler()),\n",
        "#              (\"imputer\", SimpleImputer()),\n",
        "#              ])"
      ],
      "metadata": {
        "id": "WBDecasOPFUm"
      },
      "execution_count": 121,
      "outputs": [],
      "id": "WBDecasOPFUm"
    },
    {
      "cell_type": "code",
      "source": [
        "# X_train= pipe.fit_transform(X_train)\n",
        "# X_test= pipe.transform(X_test)"
      ],
      "metadata": {
        "id": "eeF7EdloPFUm"
      },
      "execution_count": 122,
      "outputs": [],
      "id": "eeF7EdloPFUm"
    },
    {
      "cell_type": "markdown",
      "source": [
        "# Model Building"
      ],
      "metadata": {
        "id": "9ui7tdNSPFUm"
      },
      "id": "9ui7tdNSPFUm"
    },
    {
      "cell_type": "code",
      "source": [
        "from time import time\n",
        "\n",
        "from sklearn.linear_model import LinearRegression, Ridge, Lasso\n",
        "from sklearn.neighbors import KNeighborsRegressor\n",
        "from sklearn.tree import DecisionTreeRegressor\n",
        "from sklearn.ensemble import RandomForestRegressor\n",
        "from sklearn.ensemble import GradientBoostingRegressor"
      ],
      "metadata": {
        "id": "liS1JyfaPFUm"
      },
      "execution_count": 123,
      "outputs": [],
      "id": "liS1JyfaPFUm"
    },
    {
      "cell_type": "code",
      "source": [
        "models = [\n",
        "    LinearRegression(),\n",
        "    Ridge(),\n",
        "    Lasso(),\n",
        "    KNeighborsRegressor(),\n",
        "    DecisionTreeRegressor(),\n",
        "    RandomForestRegressor(),\n",
        "    GradientBoostingRegressor()\n",
        "]"
      ],
      "metadata": {
        "id": "f0uyIaGXPFUm"
      },
      "execution_count": 124,
      "outputs": [],
      "id": "f0uyIaGXPFUm"
    },
    {
      "cell_type": "code",
      "source": [
        "from sklearn.metrics import explained_variance_score,mean_absolute_error,r2_score"
      ],
      "metadata": {
        "id": "r_GE96IxPFUm"
      },
      "execution_count": 125,
      "outputs": [],
      "id": "r_GE96IxPFUm"
    },
    {
      "cell_type": "code",
      "source": [
        "%%time\n",
        "for model in models:\n",
        "    start = time()\n",
        "    model.fit(X_train, y_train)\n",
        "    train_time = time() - start\n",
        "    start = time()\n",
        "    y_pred = model.predict(X_test)\n",
        "    predict_time = time()-start    \n",
        "    print(model)\n",
        "    print(\"\\tTraining time: %0.3fs\" % train_time)\n",
        "    print(\"\\tPrediction time: %0.3fs\" % predict_time)\n",
        "    print(\"\\tExplained variance:\", explained_variance_score(y_test, y_pred))\n",
        "    print(\"\\tMean absolute error:\", mean_absolute_error(y_test, y_pred))\n",
        "    print(\"\\tR2 score:\", r2_score(y_test, y_pred))\n",
        "    print()"
      ],
      "metadata": {
        "colab": {
          "base_uri": "https://localhost:8080/"
        },
        "id": "aLF_HEA-PFUm",
        "outputId": "71abd9aa-7bea-4c8a-82bf-a46e5250cd25"
      },
      "execution_count": 126,
      "outputs": [
        {
          "output_type": "stream",
          "name": "stdout",
          "text": [
            "LinearRegression()\n",
            "\tTraining time: 0.769s\n",
            "\tPrediction time: 0.017s\n",
            "\tExplained variance: -877538495158686.0\n",
            "\tMean absolute error: 60892472.98358358\n",
            "\tR2 score: -877568694356169.2\n",
            "\n",
            "Ridge()\n",
            "\tTraining time: 0.218s\n",
            "\tPrediction time: 0.030s\n",
            "\tExplained variance: 0.7523139818157323\n",
            "\tMean absolute error: 12.483559556570546\n",
            "\tR2 score: 0.7522362644834795\n",
            "\n",
            "Lasso()\n",
            "\tTraining time: 0.122s\n",
            "\tPrediction time: 0.017s\n",
            "\tExplained variance: 0.6501156757637512\n",
            "\tMean absolute error: 15.741227753060237\n",
            "\tR2 score: 0.6498126672348089\n",
            "\n",
            "KNeighborsRegressor()\n",
            "\tTraining time: 0.026s\n",
            "\tPrediction time: 0.638s\n",
            "\tExplained variance: 0.6556377210867623\n",
            "\tMean absolute error: 14.784841210833775\n",
            "\tR2 score: 0.6554210600817874\n",
            "\n",
            "DecisionTreeRegressor()\n",
            "\tTraining time: 0.196s\n",
            "\tPrediction time: 0.013s\n",
            "\tExplained variance: 0.6472207521786337\n",
            "\tMean absolute error: 13.52545840776324\n",
            "\tR2 score: 0.6464995737571695\n",
            "\n",
            "RandomForestRegressor()\n",
            "\tTraining time: 9.394s\n",
            "\tPrediction time: 0.103s\n",
            "\tExplained variance: 0.750951676504423\n",
            "\tMean absolute error: 11.743371502191353\n",
            "\tR2 score: 0.750230489445293\n",
            "\n",
            "GradientBoostingRegressor()\n",
            "\tTraining time: 2.780s\n",
            "\tPrediction time: 0.019s\n",
            "\tExplained variance: 0.7275337819979025\n",
            "\tMean absolute error: 13.58515402600488\n",
            "\tR2 score: 0.7272564341651836\n",
            "\n",
            "CPU times: user 14.9 s, sys: 865 ms, total: 15.8 s\n",
            "Wall time: 14.4 s\n"
          ]
        }
      ],
      "id": "aLF_HEA-PFUm"
    },
    {
      "cell_type": "markdown",
      "source": [
        "The best R^2 estimate we got is from Linear RidgeRegressor. The estimation value is 0.787 with prediction time of 0.002s."
      ],
      "metadata": {
        "id": "2zJt5Bi-PFUn"
      },
      "id": "2zJt5Bi-PFUn"
    },
    {
      "cell_type": "markdown",
      "source": [
        "# It seems like I have lost many useful value due to outlier reduction. so I will try using df without outlier reduction"
      ],
      "metadata": {
        "id": "iYw6EH8yk56-"
      },
      "id": "iYw6EH8yk56-"
    },
    {
      "cell_type": "code",
      "source": [
        "encoder = LabelEncoder()\n",
        "df4['area_type'] = encoder.fit_transform(df4['area_type'])\n",
        "df4['location'] = encoder.fit_transform(df4['location'])\n"
      ],
      "metadata": {
        "id": "EAo4lLW_s9eQ"
      },
      "id": "EAo4lLW_s9eQ",
      "execution_count": 127,
      "outputs": []
    },
    {
      "cell_type": "code",
      "source": [
        "df4.info()"
      ],
      "metadata": {
        "colab": {
          "base_uri": "https://localhost:8080/"
        },
        "id": "cy6iqfO6k5MO",
        "outputId": "397ce284-80f9-4459-be36-971975e5012e"
      },
      "id": "cy6iqfO6k5MO",
      "execution_count": 128,
      "outputs": [
        {
          "output_type": "stream",
          "name": "stdout",
          "text": [
            "<class 'pandas.core.frame.DataFrame'>\n",
            "Int64Index: 12515 entries, 0 to 12534\n",
            "Data columns (total 8 columns):\n",
            " #   Column          Non-Null Count  Dtype  \n",
            "---  ------          --------------  -----  \n",
            " 0   area_type       12515 non-null  int64  \n",
            " 1   location        12515 non-null  int64  \n",
            " 2   total_sqft      12515 non-null  float64\n",
            " 3   bath            12515 non-null  float64\n",
            " 4   balcony         12515 non-null  float64\n",
            " 5   price           12515 non-null  float64\n",
            " 6   Bedrooms        12515 non-null  int64  \n",
            " 7   price_per_sqft  12515 non-null  float64\n",
            "dtypes: float64(5), int64(3)\n",
            "memory usage: 880.0 KB\n"
          ]
        }
      ]
    },
    {
      "cell_type": "code",
      "source": [
        "plt.figure(figsize = (12,9))\n",
        "sns.heatmap(df4.corr(), annot = True, cmap = \"magma_r\")\n",
        "plt.title(\"Correlation Heatmap\",fontdict = {\"fontweight\":\"bold\"})\n",
        "plt.show()"
      ],
      "metadata": {
        "colab": {
          "base_uri": "https://localhost:8080/",
          "height": 557
        },
        "id": "DLxLvAM8p-Dg",
        "outputId": "797d4bff-2fef-4163-e956-68c738982c3c"
      },
      "id": "DLxLvAM8p-Dg",
      "execution_count": 129,
      "outputs": [
        {
          "output_type": "display_data",
          "data": {
            "text/plain": [
              "<Figure size 864x648 with 2 Axes>"
            ],
            "image/png": "[encoded data removed]"
          },
          "metadata": {}
        }
      ]
    },
    {
      "cell_type": "markdown",
      "source": [
        "area type and location has very less correlation"
      ],
      "metadata": {
        "id": "7SNYFEEWqAgb"
      },
      "id": "7SNYFEEWqAgb"
    },
    {
      "cell_type": "code",
      "source": [
        "X=df4.drop([\"price\",\"price_per_sqft\",\"area_type\",\"location\"],axis=1)\n",
        "y=df4[\"price\"]"
      ],
      "metadata": {
        "id": "GCi3CUKUlhdG"
      },
      "id": "GCi3CUKUlhdG",
      "execution_count": 130,
      "outputs": []
    },
    {
      "cell_type": "code",
      "source": [
        "X_train, X_test, y_train, y_test = train_test_split(X, y, test_size=0.3, random_state=42)"
      ],
      "metadata": {
        "id": "6TmN4PfVlzeB"
      },
      "id": "6TmN4PfVlzeB",
      "execution_count": 131,
      "outputs": []
    },
    {
      "cell_type": "code",
      "source": [
        "# X_train= pipe.fit_transform(X_train)\n",
        "# X_test= pipe.transform(X_test)"
      ],
      "metadata": {
        "id": "8juisUuvlzaX"
      },
      "id": "8juisUuvlzaX",
      "execution_count": 133,
      "outputs": []
    },
    {
      "cell_type": "code",
      "source": [
        "%%time\n",
        "for model in models:\n",
        "    start = time()\n",
        "    model.fit(X_train, y_train)\n",
        "    train_time = time() - start\n",
        "    start = time()\n",
        "    y_pred = model.predict(X_test)\n",
        "    predict_time = time()-start    \n",
        "    print(model)\n",
        "    print(\"\\tTraining time: %0.3fs\" % train_time)\n",
        "    print(\"\\tPrediction time: %0.3fs\" % predict_time)\n",
        "    print(\"\\tExplained variance:\", explained_variance_score(y_test, y_pred))\n",
        "    print(\"\\tMean absolute error:\", mean_absolute_error(y_test, y_pred))\n",
        "    print(\"\\tR2 score:\", r2_score(y_test, y_pred))\n",
        "    print()"
      ],
      "metadata": {
        "colab": {
          "base_uri": "https://localhost:8080/"
        },
        "id": "YllOrEJTl4gk",
        "outputId": "337a7062-157b-4f58-9e03-0fedad35afd1"
      },
      "id": "YllOrEJTl4gk",
      "execution_count": 134,
      "outputs": [
        {
          "output_type": "stream",
          "name": "stdout",
          "text": [
            "LinearRegression()\n",
            "\tTraining time: 0.004s\n",
            "\tPrediction time: 0.004s\n",
            "\tExplained variance: 0.4388262712298061\n",
            "\tMean absolute error: 49.47051173234678\n",
            "\tR2 score: 0.4383902765921289\n",
            "\n",
            "Ridge()\n",
            "\tTraining time: 0.002s\n",
            "\tPrediction time: 0.001s\n",
            "\tExplained variance: 0.43882637341960107\n",
            "\tMean absolute error: 49.46992353952311\n",
            "\tR2 score: 0.4383903613978155\n",
            "\n",
            "Lasso()\n",
            "\tTraining time: 0.002s\n",
            "\tPrediction time: 0.004s\n",
            "\tExplained variance: 0.4389769307772228\n",
            "\tMean absolute error: 49.47397554978594\n",
            "\tR2 score: 0.43853293738533494\n",
            "\n",
            "KNeighborsRegressor()\n",
            "\tTraining time: 0.007s\n",
            "\tPrediction time: 0.015s\n",
            "\tExplained variance: 0.5806861425492462\n",
            "\tMean absolute error: 43.49452996005327\n",
            "\tR2 score: 0.5806291336600973\n",
            "\n",
            "DecisionTreeRegressor()\n",
            "\tTraining time: 0.017s\n",
            "\tPrediction time: 0.002s\n",
            "\tExplained variance: 0.20334029246453433\n",
            "\tMean absolute error: 49.782693140749046\n",
            "\tR2 score: 0.2033134223794446\n",
            "\n",
            "RandomForestRegressor()\n",
            "\tTraining time: 0.872s\n",
            "\tPrediction time: 0.078s\n",
            "\tExplained variance: 0.5567586051793971\n",
            "\tMean absolute error: 42.35097458686305\n",
            "\tR2 score: 0.5567225720585653\n",
            "\n",
            "GradientBoostingRegressor()\n",
            "\tTraining time: 0.315s\n",
            "\tPrediction time: 0.008s\n",
            "\tExplained variance: 0.587647539878658\n",
            "\tMean absolute error: 41.15538159094941\n",
            "\tR2 score: 0.5875377184313968\n",
            "\n",
            "CPU times: user 1.39 s, sys: 118 ms, total: 1.5 s\n",
            "Wall time: 1.37 s\n"
          ]
        }
      ]
    },
    {
      "cell_type": "code",
      "source": [],
      "metadata": {
        "id": "L2Snoe_-lzXE"
      },
      "id": "L2Snoe_-lzXE",
      "execution_count": null,
      "outputs": []
    },
    {
      "cell_type": "markdown",
      "source": [
        "# Cross Validation for RidgeRegressor model"
      ],
      "metadata": {
        "id": "zTVfY-CHPFUn"
      },
      "id": "zTVfY-CHPFUn"
    },
    {
      "cell_type": "code",
      "source": [
        "from sklearn.model_selection import cross_val_score"
      ],
      "metadata": {
        "id": "ernXXZERPFUn"
      },
      "execution_count": null,
      "outputs": [],
      "id": "ernXXZERPFUn"
    },
    {
      "cell_type": "code",
      "source": [
        "models[5]"
      ],
      "metadata": {
        "id": "1N28ku7APFUn"
      },
      "execution_count": null,
      "outputs": [],
      "id": "1N28ku7APFUn"
    },
    {
      "cell_type": "code",
      "source": [
        "for model in models:\n",
        "  print(model)\n",
        "  print((cross_val_score(model, X_train, y_train, cv=5)).mean())"
      ],
      "metadata": {
        "id": "LxcISW5jPFUn"
      },
      "execution_count": null,
      "outputs": [],
      "id": "LxcISW5jPFUn"
    },
    {
      "cell_type": "markdown",
      "source": [
        "# GridSearchCV for RandomForestRegressor model"
      ],
      "metadata": {
        "id": "smaUZii9PFUn"
      },
      "id": "smaUZii9PFUn"
    },
    {
      "cell_type": "code",
      "source": [
        "from sklearn.model_selection import GridSearchCV"
      ],
      "metadata": {
        "id": "oKuLCrPsPFUn"
      },
      "execution_count": null,
      "outputs": [],
      "id": "oKuLCrPsPFUn"
    },
    {
      "cell_type": "code",
      "source": [
        "%%time\n",
        "RF_param_grid = { \n",
        "    'n_estimators': [int(x) for x in np.linspace(start = 200, stop = 1000, num = 5)],\n",
        "    'max_depth' : [int(x) for x in np.linspace(20, 100, num = 5)],\n",
        "                 }\n",
        "RF_GridCV = GridSearchCV(models[5], RF_param_grid, cv=5, n_jobs= -1)\n",
        "RF_GridCV.fit(X_train,y_train)  \n",
        "print(RF_GridCV.best_params_)    \n",
        "print(RF_GridCV.best_score_)"
      ],
      "metadata": {
        "id": "BfBEImCQPFUn"
      },
      "execution_count": null,
      "outputs": [],
      "id": "BfBEImCQPFUn"
    },
    {
      "cell_type": "code",
      "source": [
        "best_model=RF_GridCV.best_estimatore_"
      ],
      "metadata": {
        "id": "melALDHkG9sg"
      },
      "id": "melALDHkG9sg",
      "execution_count": null,
      "outputs": []
    },
    {
      "cell_type": "code",
      "source": [
        "best_model.fit(X_train,y_train)"
      ],
      "metadata": {
        "id": "q5BuvvfePFUn"
      },
      "execution_count": null,
      "outputs": [],
      "id": "q5BuvvfePFUn"
    },
    {
      "cell_type": "code",
      "source": [
        "y_pred = best_model.predict(X_test)\n",
        "print(r2_score(y_test,y_pred))"
      ],
      "metadata": {
        "id": "TkAzT7RsPFUo"
      },
      "execution_count": null,
      "outputs": [],
      "id": "TkAzT7RsPFUo"
    },
    {
      "cell_type": "markdown",
      "source": [
        "# Testing the Model"
      ],
      "metadata": {
        "id": "-KUEfshZPFUo"
      },
      "id": "-KUEfshZPFUo"
    },
    {
      "cell_type": "code",
      "source": [
        "def predict_price(location,sqft,bath,BHK):    \n",
        "    loc_index = np.where(X.columns==location)[0][0]\n",
        "\n",
        "    x = np.zeros(len(X.columns))\n",
        "    x[0] = sqft\n",
        "    x[1] = bath\n",
        "    x[2] = BHK\n",
        "    if loc_index >= 0:\n",
        "        x[loc_index] = 1\n",
        "\n",
        "    return best_model.predict([x])[0]"
      ],
      "metadata": {
        "id": "lZ9jRWPhPFUo"
      },
      "execution_count": null,
      "outputs": [],
      "id": "lZ9jRWPhPFUo"
    },
    {
      "cell_type": "code",
      "source": [
        "df12.loc[df12[\"1st Block Jayanagar\"]==1]"
      ],
      "metadata": {
        "scrolled": true,
        "id": "cIq_LHSWPFUo"
      },
      "execution_count": null,
      "outputs": [],
      "id": "cIq_LHSWPFUo"
    },
    {
      "cell_type": "code",
      "source": [
        "predict_price('1st Block Jayanagar', 1000, 3, 2)"
      ],
      "metadata": {
        "id": "IMEe8_GkPFUo"
      },
      "execution_count": null,
      "outputs": [],
      "id": "IMEe8_GkPFUo"
    },
    {
      "cell_type": "code",
      "source": [
        "predict_price('1st Block Jayanagar', 1760, 3,2)"
      ],
      "metadata": {
        "id": "0e03iDrYPFUo"
      },
      "execution_count": null,
      "outputs": [],
      "id": "0e03iDrYPFUo"
    },
    {
      "cell_type": "code",
      "source": [
        "df12.loc[df12[\"1st Phase JP Nagar\"]==1]"
      ],
      "metadata": {
        "id": "SHlWHjsmPFUo"
      },
      "execution_count": null,
      "outputs": [],
      "id": "SHlWHjsmPFUo"
    },
    {
      "cell_type": "code",
      "source": [],
      "metadata": {
        "id": "HQPbhHioPFUo"
      },
      "execution_count": null,
      "outputs": [],
      "id": "HQPbhHioPFUo"
    },
    {
      "cell_type": "markdown",
      "source": [
        "# Export the tested model to a pickle file"
      ],
      "metadata": {
        "id": "SEICDxYAPFUp"
      },
      "id": "SEICDxYAPFUp"
    },
    {
      "cell_type": "code",
      "source": [
        "import pickle\n",
        "with open('bangaluru_house_prices_RIFmodel.pickle','wb') as f:\n",
        "    pickle.dump(Grid_Model_RF,f)"
      ],
      "metadata": {
        "id": "2qQNJ_ayPFUp"
      },
      "execution_count": null,
      "outputs": [],
      "id": "2qQNJ_ayPFUp"
    },
    {
      "cell_type": "code",
      "source": [],
      "metadata": {
        "id": "X_10km8lPFUp"
      },
      "execution_count": null,
      "outputs": [],
      "id": "X_10km8lPFUp"
    },
    {
      "cell_type": "markdown",
      "source": [
        "# Export location and column information to a file that will be useful later on in our prediction application"
      ],
      "metadata": {
        "id": "UNYDzEc7PFUp"
      },
      "id": "UNYDzEc7PFUp"
    },
    {
      "cell_type": "code",
      "source": [
        "import json\n",
        "columns = {\n",
        "    'data_columns' : [col.lower() for col in X.columns]\n",
        "}\n",
        "with open(\"columns.json\",\"w\") as f:\n",
        "    f.write(json.dumps(columns))"
      ],
      "metadata": {
        "id": "oWR-bVb1PFUp"
      },
      "execution_count": null,
      "outputs": [],
      "id": "oWR-bVb1PFUp"
    }
  ]
}