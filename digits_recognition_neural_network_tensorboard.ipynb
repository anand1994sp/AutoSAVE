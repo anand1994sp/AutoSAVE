{
  "cells": [
    {
      "cell_type": "markdown",
      "metadata": {
        "id": "view-in-github",
        "colab_type": "text"
      },
      "source": [
        "<a href=\"https://colab.research.google.com/github/anand1994sp/AutoSAVE/blob/main/digits_recognition_neural_network_tensorboard.ipynb\" target=\"_parent\"><img src=\"https://colab.research.google.com/assets/colab-badge.svg\" alt=\"Open In Colab\"/></a>"
      ]
    },
    {
      "cell_type": "markdown",
      "metadata": {
        "id": "Mv2evEE6Jepy"
      },
      "source": [
        "<h2 style=\"color:blue\" align=\"center\">Tensorboard demo using handwritten digits classification using neural network</h2>"
      ]
    },
    {
      "cell_type": "markdown",
      "metadata": {
        "id": "lG8F5p9mJepz"
      },
      "source": [
        "In this notebook we will classify handwritten digits using a simple neural network which has only input and output layers. We will than add a hidden layer and see how the performance of the model improves"
      ]
    },
    {
      "cell_type": "code",
      "execution_count": 1,
      "metadata": {
        "id": "ysWjDJAbJep0"
      },
      "outputs": [],
      "source": [
        "import tensorflow as tf\n",
        "from tensorflow import keras\n",
        "import matplotlib.pyplot as plt\n",
        "%matplotlib inline\n",
        "import numpy as np"
      ]
    },
    {
      "cell_type": "code",
      "execution_count": 2,
      "metadata": {
        "colab": {
          "base_uri": "https://localhost:8080/"
        },
        "id": "cC2ly5YGJep0",
        "outputId": "aef6db67-33ae-4750-d1a9-a29900b57025"
      },
      "outputs": [
        {
          "output_type": "stream",
          "name": "stdout",
          "text": [
            "Downloading data from https://storage.googleapis.com/tensorflow/tf-keras-datasets/mnist.npz\n",
            "11490434/11490434 [==============================] - 0s 0us/step\n"
          ]
        }
      ],
      "source": [
        "(X_train, y_train) , (X_test, y_test) = keras.datasets.mnist.load_data()"
      ]
    },
    {
      "cell_type": "code",
      "execution_count": 3,
      "metadata": {
        "colab": {
          "base_uri": "https://localhost:8080/"
        },
        "id": "Kg0lG3erJep1",
        "outputId": "565424b0-a471-4107-9dfe-3391a9cf05d8"
      },
      "outputs": [
        {
          "output_type": "execute_result",
          "data": {
            "text/plain": [
              "60000"
            ]
          },
          "metadata": {},
          "execution_count": 3
        }
      ],
      "source": [
        "len(X_train)"
      ]
    },
    {
      "cell_type": "code",
      "execution_count": 4,
      "metadata": {
        "colab": {
          "base_uri": "https://localhost:8080/"
        },
        "id": "aI6FNDSNJep1",
        "outputId": "e8eea867-76e5-46d9-f4ee-c366ad290e01"
      },
      "outputs": [
        {
          "output_type": "execute_result",
          "data": {
            "text/plain": [
              "10000"
            ]
          },
          "metadata": {},
          "execution_count": 4
        }
      ],
      "source": [
        "len(X_test)"
      ]
    },
    {
      "cell_type": "code",
      "execution_count": 5,
      "metadata": {
        "colab": {
          "base_uri": "https://localhost:8080/"
        },
        "id": "cNm7PebaJep1",
        "outputId": "23ab8a33-cb78-4e54-cb01-bf5c3bc2816f"
      },
      "outputs": [
        {
          "output_type": "execute_result",
          "data": {
            "text/plain": [
              "(28, 28)"
            ]
          },
          "metadata": {},
          "execution_count": 5
        }
      ],
      "source": [
        "X_train[0].shape"
      ]
    },
    {
      "cell_type": "code",
      "execution_count": 6,
      "metadata": {
        "colab": {
          "base_uri": "https://localhost:8080/",
          "height": 292
        },
        "id": "A_DAeXsrJep2",
        "outputId": "f3b0eceb-404e-4f32-ec87-d6cef62360dd"
      },
      "outputs": [
        {
          "output_type": "execute_result",
          "data": {
            "text/plain": [
              "<matplotlib.image.AxesImage at 0x7fca262daaf0>"
            ]
          },
          "metadata": {},
          "execution_count": 6
        },
        {
          "output_type": "display_data",
          "data": {
            "text/plain": [
              "<Figure size 288x288 with 1 Axes>"
            ],
            "image/png": "[encoded data removed]"
          },
          "metadata": {
            "needs_background": "light"
          }
        }
      ],
      "source": [
        "plt.matshow(X_train[0])"
      ]
    },
    {
      "cell_type": "code",
      "execution_count": 7,
      "metadata": {
        "colab": {
          "base_uri": "https://localhost:8080/"
        },
        "id": "qXSZqQqvJep2",
        "outputId": "e0141570-410b-4121-a961-e6949e18278b"
      },
      "outputs": [
        {
          "output_type": "execute_result",
          "data": {
            "text/plain": [
              "5"
            ]
          },
          "metadata": {},
          "execution_count": 7
        }
      ],
      "source": [
        "y_train[0]"
      ]
    },
    {
      "cell_type": "code",
      "execution_count": 8,
      "metadata": {
        "id": "9p47WIq8Jep2"
      },
      "outputs": [],
      "source": [
        "X_train = X_train / 255\n",
        "X_test = X_test / 255"
      ]
    },
    {
      "cell_type": "code",
      "execution_count": 9,
      "metadata": {
        "id": "u1hoP5tBJep2"
      },
      "outputs": [],
      "source": [
        "X_train_flattened = X_train.reshape(len(X_train), 28*28)\n",
        "X_test_flattened = X_test.reshape(len(X_test), 28*28)"
      ]
    },
    {
      "cell_type": "code",
      "execution_count": 10,
      "metadata": {
        "colab": {
          "base_uri": "https://localhost:8080/"
        },
        "id": "r2eolJDHJep2",
        "outputId": "3f518470-821d-4825-bb8c-6c03c53584eb"
      },
      "outputs": [
        {
          "output_type": "execute_result",
          "data": {
            "text/plain": [
              "(60000, 784)"
            ]
          },
          "metadata": {},
          "execution_count": 10
        }
      ],
      "source": [
        "X_train_flattened.shape"
      ]
    },
    {
      "cell_type": "markdown",
      "metadata": {
        "id": "cmtGB4J0Jep2"
      },
      "source": [
        "<h3 style='color:purple'>Using Flatten layer so that we don't have to call .reshape on input dataset</h3>"
      ]
    },
    {
      "cell_type": "code",
      "source": [
        "%tensorboard --logdir logs"
      ],
      "metadata": {
        "colab": {
          "base_uri": "https://localhost:8080/",
          "height": 821
        },
        "id": "8yGcXLeXQa4z",
        "outputId": "4bb2a752-6b9b-46ff-fab8-9b7813a0daf3"
      },
      "execution_count": 18,
      "outputs": [
        {
          "output_type": "display_data",
          "data": {
            "text/plain": [
              "<IPython.core.display.Javascript object>"
            ],
            "application/javascript": [
              "\n",
              "        (async () => {\n",
              "            const url = new URL(await google.colab.kernel.proxyPort(6007, {'cache': true}));\n",
              "            url.searchParams.set('tensorboardColab', 'true');\n",
              "            const iframe = document.createElement('iframe');\n",
              "            iframe.src = url;\n",
              "            iframe.setAttribute('width', '100%');\n",
              "            iframe.setAttribute('height', '800');\n",
              "            iframe.setAttribute('frameborder', 0);\n",
              "            document.body.appendChild(iframe);\n",
              "        })();\n",
              "    "
            ]
          },
          "metadata": {}
        }
      ]
    },
    {
      "cell_type": "code",
      "execution_count": 19,
      "metadata": {
        "scrolled": false,
        "colab": {
          "base_uri": "https://localhost:8080/"
        },
        "id": "0YxFOn1PJep2",
        "outputId": "1f8b41ad-695e-4455-bfac-595269874fa0"
      },
      "outputs": [
        {
          "output_type": "stream",
          "name": "stdout",
          "text": [
            "Epoch 1/5\n",
            "1875/1875 [==============================] - 7s 4ms/step - loss: 0.2779 - accuracy: 0.9199\n",
            "Epoch 2/5\n",
            "1875/1875 [==============================] - 5s 2ms/step - loss: 0.1256 - accuracy: 0.9624\n",
            "Epoch 3/5\n",
            "1875/1875 [==============================] - 5s 3ms/step - loss: 0.0880 - accuracy: 0.9730\n",
            "Epoch 4/5\n",
            "1875/1875 [==============================] - 5s 2ms/step - loss: 0.0669 - accuracy: 0.9798\n",
            "Epoch 5/5\n",
            "1875/1875 [==============================] - 5s 2ms/step - loss: 0.0524 - accuracy: 0.9836\n"
          ]
        },
        {
          "output_type": "execute_result",
          "data": {
            "text/plain": [
              "<keras.callbacks.History at 0x7fc9c0441cd0>"
            ]
          },
          "metadata": {},
          "execution_count": 19
        }
      ],
      "source": [
        "model = keras.Sequential([\n",
        "    keras.layers.Flatten(input_shape=(28, 28)),\n",
        "    keras.layers.Dense(100, activation='relu'),\n",
        "    keras.layers.Dense(10, activation='sigmoid')\n",
        "])\n",
        "\n",
        "model.compile(optimizer='adam',\n",
        "              loss='sparse_categorical_crossentropy',\n",
        "              metrics=['accuracy'])\n",
        "\n",
        "tb_callback = tf.keras.callbacks.TensorBoard(log_dir=\"/content/logs\", histogram_freq=1)\n",
        "\n",
        "model.fit(X_train, y_train, epochs=5, callbacks=[tb_callback])"
      ]
    },
    {
      "cell_type": "code",
      "execution_count": 20,
      "metadata": {
        "colab": {
          "base_uri": "https://localhost:8080/",
          "height": 873
        },
        "id": "Xr6wUQn0Jep3",
        "outputId": "89864df6-b071-43de-f002-e9f7fa635812"
      },
      "outputs": [
        {
          "output_type": "stream",
          "name": "stdout",
          "text": [
            "The tensorboard extension is already loaded. To reload it, use:\n",
            "  %reload_ext tensorboard\n"
          ]
        },
        {
          "output_type": "display_data",
          "data": {
            "text/plain": [
              "Reusing TensorBoard on port 6006 (pid 1437), started 0:27:44 ago. (Use '!kill 1437' to kill it.)"
            ]
          },
          "metadata": {}
        },
        {
          "output_type": "display_data",
          "data": {
            "text/plain": [
              "<IPython.core.display.Javascript object>"
            ],
            "application/javascript": [
              "\n",
              "        (async () => {\n",
              "            const url = new URL(await google.colab.kernel.proxyPort(6006, {'cache': true}));\n",
              "            url.searchParams.set('tensorboardColab', 'true');\n",
              "            const iframe = document.createElement('iframe');\n",
              "            iframe.src = url;\n",
              "            iframe.setAttribute('width', '100%');\n",
              "            iframe.setAttribute('height', '800');\n",
              "            iframe.setAttribute('frameborder', 0);\n",
              "            document.body.appendChild(iframe);\n",
              "        })();\n",
              "    "
            ]
          },
          "metadata": {}
        }
      ],
      "source": [
        "%load_ext tensorboard\n",
        "%tensorboard --logdir logs/fit"
      ]
    },
    {
      "cell_type": "code",
      "source": [
        "from tensorboard import notebook\n",
        "notebook.list() # View open TensorBoard instances"
      ],
      "metadata": {
        "colab": {
          "base_uri": "https://localhost:8080/"
        },
        "id": "xbAm8MIyQs_z",
        "outputId": "b9c5cfa3-7a7f-4a3f-8b77-c446a6e53d0a"
      },
      "execution_count": 21,
      "outputs": [
        {
          "output_type": "stream",
          "name": "stdout",
          "text": [
            "Known TensorBoard instances:\n",
            "  - port 6007: logdir logs (started 0:01:11 ago; pid 8103)\n",
            "  - port 6006: logdir logs/fit (started 0:28:17 ago; pid 1437)\n"
          ]
        }
      ]
    },
    {
      "cell_type": "code",
      "source": [
        "notebook.display(port=6006, height=1000) "
      ],
      "metadata": {
        "colab": {
          "base_uri": "https://localhost:8080/",
          "height": 1000
        },
        "id": "TcBzP1GcQuQo",
        "outputId": "e6bf9603-b501-48f5-eb71-10c6aca02e8c"
      },
      "execution_count": 22,
      "outputs": [
        {
          "output_type": "stream",
          "name": "stdout",
          "text": [
            "Selecting TensorBoard with logdir logs/fit (started 0:28:31 ago; port 6006, pid 1437).\n"
          ]
        },
        {
          "output_type": "display_data",
          "data": {
            "text/plain": [
              "<IPython.core.display.Javascript object>"
            ],
            "application/javascript": [
              "\n",
              "        (async () => {\n",
              "            const url = new URL(await google.colab.kernel.proxyPort(6006, {'cache': true}));\n",
              "            url.searchParams.set('tensorboardColab', 'true');\n",
              "            const iframe = document.createElement('iframe');\n",
              "            iframe.src = url;\n",
              "            iframe.setAttribute('width', '100%');\n",
              "            iframe.setAttribute('height', '1000');\n",
              "            iframe.setAttribute('frameborder', 0);\n",
              "            document.body.appendChild(iframe);\n",
              "        })();\n",
              "    "
            ]
          },
          "metadata": {}
        }
      ]
    },
    {
      "cell_type": "markdown",
      "metadata": {
        "id": "_B_GoxK7Jep3"
      },
      "source": [
        "Either run above inline magic or go to git bash or your command prompt and type below to run it,\n",
        "`tensorboard --logdir logs/`\n",
        "This will launch tensorboard at this url which you can open in your browser `http://localhost:6006/`"
      ]
    },
    {
      "cell_type": "code",
      "execution_count": 12,
      "metadata": {
        "colab": {
          "base_uri": "https://localhost:8080/"
        },
        "id": "Ki3MwodeJep3",
        "outputId": "450f38de-a84f-4440-9693-1ede5bc9829b"
      },
      "outputs": [
        {
          "output_type": "execute_result",
          "data": {
            "text/plain": [
              "[array([[-0.0713077 , -0.05151842, -0.01082648, ..., -0.06929852,\n",
              "          0.05938587, -0.0312606 ],\n",
              "        [ 0.08068164,  0.05810401, -0.00406053, ...,  0.06347516,\n",
              "          0.0797037 , -0.05932257],\n",
              "        [ 0.01123825, -0.05302692,  0.03278165, ..., -0.01113471,\n",
              "         -0.06546052,  0.04573692],\n",
              "        ...,\n",
              "        [-0.01299725,  0.07303885, -0.00951222, ...,  0.07777853,\n",
              "          0.05318585, -0.04640034],\n",
              "        [ 0.02929083, -0.04657516, -0.01226312, ..., -0.05577078,\n",
              "         -0.00292384, -0.0693849 ],\n",
              "        [-0.03730951,  0.00092187,  0.04841867, ..., -0.05773806,\n",
              "          0.00114465,  0.02008157]], dtype=float32),\n",
              " array([ 1.86244884e-04,  8.32282454e-02,  2.16998756e-02, -1.05734840e-01,\n",
              "        -1.69377550e-01,  8.15067161e-03,  4.00591195e-02, -3.20492536e-02,\n",
              "         9.87465903e-02, -5.10423891e-02,  6.60201535e-02,  1.16152130e-01,\n",
              "        -4.82496209e-02,  1.14455789e-01,  9.32631716e-02,  3.85768116e-02,\n",
              "         1.61068127e-01, -5.59680127e-02,  8.78737941e-02, -1.22613259e-01,\n",
              "         1.51573010e-02, -3.84116126e-03, -2.15545204e-02,  1.16565704e-01,\n",
              "        -1.04722835e-03,  8.23239386e-02, -3.08277993e-03,  6.14089444e-02,\n",
              "        -1.60962969e-01, -1.48939386e-01,  7.53907859e-02,  1.68357715e-01,\n",
              "         2.88457852e-02,  7.69582167e-02, -7.79431760e-02,  1.25800502e-02,\n",
              "         1.08074352e-01,  6.57342449e-02,  1.84037387e-01, -8.09223056e-02,\n",
              "        -5.67125008e-02,  2.20923617e-01,  1.15490239e-02, -4.06484418e-02,\n",
              "        -2.73577683e-02,  1.26927540e-01, -1.03050612e-01,  4.51869704e-02,\n",
              "         4.15294850e-03,  6.02214895e-02,  1.48228526e-01, -1.13305092e-01,\n",
              "        -1.38884420e-02,  5.67687787e-02,  1.73628390e-01,  2.37668008e-01,\n",
              "        -2.31273491e-02, -9.96771008e-02,  6.76344931e-02,  1.89880319e-02,\n",
              "         2.33868450e-01, -5.60253412e-02,  1.70382604e-01,  3.76326628e-02,\n",
              "         8.89327005e-03, -1.33985281e-01, -1.89765007e-03,  1.11087605e-01,\n",
              "         2.04195783e-01,  6.76043332e-02,  3.13565850e-01,  1.66007042e-01,\n",
              "        -1.41933840e-02,  1.57238945e-01,  5.32454699e-02,  8.46191719e-02,\n",
              "        -1.65206403e-01, -1.35599494e-01, -4.78606038e-02, -7.75326788e-02,\n",
              "        -1.27803072e-01, -7.18194097e-02,  3.62749733e-02, -3.63761149e-02,\n",
              "        -2.70323213e-02, -5.10743372e-02,  7.75790587e-02,  9.81895626e-02,\n",
              "         2.18319409e-02,  8.07227716e-02, -5.24592586e-02,  6.95803016e-02,\n",
              "         8.81016478e-02,  5.30502014e-02,  9.02651995e-02,  2.60627624e-02,\n",
              "        -9.40971822e-03, -4.58306111e-02, -5.21102063e-02,  8.86899084e-02],\n",
              "       dtype=float32),\n",
              " array([[ 8.09581652e-02,  3.66953701e-01, -4.28591520e-01,\n",
              "          3.19618553e-01, -1.37619913e-01,  1.20469587e-04,\n",
              "          1.08832628e-01,  2.63302445e-01, -3.23217332e-01,\n",
              "          1.40948463e-02],\n",
              "        [-1.46770075e-01,  1.36740208e-01,  3.06852728e-01,\n",
              "          1.18661635e-01, -7.65892267e-02, -3.53782177e-01,\n",
              "          2.80998945e-01,  1.50738522e-01, -3.76661211e-01,\n",
              "         -8.78848672e-01],\n",
              "        [ 2.03826621e-01,  4.75154817e-01, -2.63501287e-01,\n",
              "         -1.83405146e-01, -5.09318233e-01, -5.43852523e-02,\n",
              "         -4.33088213e-01, -2.29683980e-01,  2.09305137e-01,\n",
              "          3.98666024e-01],\n",
              "        [ 1.30983498e-02, -1.54136509e-01,  2.52039492e-01,\n",
              "          1.73230946e-01,  3.45932335e-01, -5.64642489e-01,\n",
              "         -1.58409491e-01, -2.32103467e-01,  5.75525612e-02,\n",
              "          4.25060280e-02],\n",
              "        [ 1.24879070e-01, -1.13556668e-01,  2.20193252e-01,\n",
              "          3.21638972e-01, -2.35045269e-01, -1.88019276e-01,\n",
              "         -3.54416408e-02, -4.56395000e-02, -2.24620566e-01,\n",
              "          1.86998308e-01],\n",
              "        [-2.24207804e-01,  1.26332253e-01, -6.10200036e-03,\n",
              "         -1.20666951e-01,  5.96310869e-02, -1.19990461e-01,\n",
              "          8.88120830e-02,  3.68144587e-02,  2.14396477e-01,\n",
              "         -4.30071354e-01],\n",
              "        [-2.28761777e-01, -1.96766943e-01,  1.87191784e-01,\n",
              "         -4.12274599e-02, -8.09191763e-01,  1.53818503e-02,\n",
              "         -6.19966745e-01,  3.62351805e-01, -1.29371211e-01,\n",
              "         -2.21453592e-01],\n",
              "        [-2.54785687e-01,  3.44721749e-02,  8.69709626e-02,\n",
              "          2.11287707e-01,  2.34580860e-01, -1.06332958e-01,\n",
              "         -3.96381050e-01, -2.24789560e-01,  1.01064824e-01,\n",
              "         -2.08834171e-01],\n",
              "        [-8.04192185e-01,  1.93357449e-02, -4.15763795e-01,\n",
              "          3.02847892e-01,  2.89778829e-01,  1.18222266e-01,\n",
              "         -9.25704002e-01,  1.84330523e-01, -2.91193187e-01,\n",
              "          3.31336334e-02],\n",
              "        [-1.72937978e-02,  3.46550643e-01,  1.67633861e-01,\n",
              "          2.97808647e-01,  3.99220914e-01, -9.33640838e-01,\n",
              "         -1.25515327e-01,  2.86380470e-01, -2.11130202e-01,\n",
              "         -2.18880087e-01],\n",
              "        [ 8.90340880e-02,  7.94075057e-02,  1.80716872e-01,\n",
              "         -1.17998496e-02, -6.16927110e-02,  5.90403676e-02,\n",
              "          1.69239253e-01, -1.53653637e-01,  1.63500428e-01,\n",
              "         -3.63079786e-01],\n",
              "        [-3.87797922e-01, -9.45513789e-03,  1.42729267e-01,\n",
              "          4.31810766e-01,  1.63481478e-02, -1.38960764e-01,\n",
              "          3.69232923e-01,  9.73534286e-02, -2.92152405e-01,\n",
              "          1.51894093e-01],\n",
              "        [-1.32049784e-01,  3.75305921e-01, -1.92155331e-01,\n",
              "         -1.44825839e-02,  3.61135602e-01, -1.92062572e-01,\n",
              "          3.59833658e-01, -2.06644356e-01, -2.58221000e-01,\n",
              "          2.41321474e-02],\n",
              "        [ 4.15333696e-02,  1.66691989e-01,  4.75137860e-01,\n",
              "         -3.77979904e-01,  1.40920043e-01, -3.42483044e-01,\n",
              "         -3.83206047e-02,  5.58999032e-02,  3.67197216e-01,\n",
              "         -7.43303716e-01],\n",
              "        [ 7.39603043e-02, -1.69860899e-01,  4.15828526e-02,\n",
              "         -1.39052704e-01,  1.87673178e-02,  1.54316336e-01,\n",
              "          1.27181888e-01, -3.87518078e-01,  6.82300106e-02,\n",
              "         -1.50570109e-01],\n",
              "        [ 1.67538375e-01,  3.96371663e-01, -1.70151711e-01,\n",
              "         -5.15650272e-01,  1.64917737e-01,  1.76446304e-01,\n",
              "          7.47889131e-02,  2.25013480e-01, -5.09603143e-01,\n",
              "         -5.15199564e-02],\n",
              "        [-3.81090671e-01, -3.75807956e-02, -4.54171270e-01,\n",
              "         -4.14869487e-01, -2.78460920e-01,  3.99542779e-01,\n",
              "          3.04539710e-01, -3.66384029e-01,  3.57826024e-01,\n",
              "          3.54130536e-01],\n",
              "        [-1.74474940e-01,  5.21198614e-03, -5.20986877e-02,\n",
              "          7.82123730e-02,  2.62317598e-01, -5.74828506e-01,\n",
              "          1.91090271e-01,  3.97241354e-01, -2.19416201e-01,\n",
              "         -6.57509863e-01],\n",
              "        [-1.35203168e-01, -1.18075706e-01,  8.53638351e-02,\n",
              "          1.59689397e-01,  1.11581825e-01,  9.14558098e-02,\n",
              "          7.34042153e-02, -4.80591774e-01, -1.00911675e-04,\n",
              "         -5.82192950e-02],\n",
              "        [ 4.61548626e-01, -1.80990957e-02, -1.02904206e-02,\n",
              "         -3.95414829e-01,  2.20704436e-01, -3.63370031e-01,\n",
              "         -2.29735732e-01, -3.66828367e-02, -5.20706952e-01,\n",
              "          2.01927274e-01],\n",
              "        [ 2.03680277e-01, -2.45586708e-01, -1.85849291e-04,\n",
              "          1.41430140e-01,  1.76369056e-01,  5.52365221e-02,\n",
              "         -3.27344202e-02, -1.24523319e-01,  4.89744544e-02,\n",
              "         -8.88321921e-02],\n",
              "        [ 2.17541486e-01, -2.31843501e-01,  6.75162822e-02,\n",
              "          1.86461881e-01, -6.61295354e-01,  8.80101137e-03,\n",
              "         -4.33648616e-01,  3.73738110e-01,  2.14876071e-01,\n",
              "         -4.02983636e-01],\n",
              "        [-4.39768564e-03,  1.55695036e-01, -6.56698048e-02,\n",
              "         -6.41681969e-01,  1.63065687e-01, -2.38035426e-01,\n",
              "          3.21976513e-01, -2.79148161e-01,  3.20767283e-01,\n",
              "         -4.76236939e-01],\n",
              "        [-9.28697065e-02, -4.46057379e-01,  2.32930332e-01,\n",
              "          1.34403303e-01,  2.45118082e-01,  2.10481942e-01,\n",
              "          1.41901672e-01,  2.13383883e-02, -4.90550131e-01,\n",
              "         -4.00036454e-01],\n",
              "        [ 8.90702605e-02, -5.38051546e-01,  7.14845434e-02,\n",
              "          1.75289109e-01, -5.88623248e-02, -5.03651738e-01,\n",
              "          2.02655450e-01,  1.70250535e-01,  9.07102674e-02,\n",
              "          1.41682133e-01],\n",
              "        [ 1.28046125e-01, -5.59538841e-01, -4.24596900e-03,\n",
              "         -1.73853278e-01, -4.80947010e-02,  5.31676337e-02,\n",
              "          6.53992593e-02,  8.72607827e-02,  5.14489599e-02,\n",
              "         -3.35572004e-01],\n",
              "        [ 5.49983373e-03, -1.32521167e-01, -3.71473104e-01,\n",
              "          3.48957062e-01,  4.84910160e-02, -5.79632297e-02,\n",
              "         -3.87367219e-01,  1.06475621e-01, -2.95683503e-01,\n",
              "          2.62326658e-01],\n",
              "        [-6.10347167e-02,  1.17165022e-01, -7.65892625e-01,\n",
              "          2.74267823e-01,  7.45332539e-02,  3.48367393e-01,\n",
              "          3.15438539e-01,  1.52626574e-01,  5.09282053e-02,\n",
              "          1.37204587e-01],\n",
              "        [ 2.25711733e-01,  3.34658548e-02,  1.45472735e-01,\n",
              "          1.53150558e-01, -4.39594358e-01, -2.57690728e-01,\n",
              "         -3.38566691e-01, -1.09142222e-01, -7.25468546e-02,\n",
              "          1.59432039e-01],\n",
              "        [ 2.37754717e-01, -5.24043202e-01, -1.52397111e-01,\n",
              "         -1.05258465e-01, -2.41966695e-01, -1.50578290e-01,\n",
              "          9.87764150e-02, -3.32996786e-01, -3.68957818e-01,\n",
              "          2.37642676e-01],\n",
              "        [ 2.64320910e-01, -7.51827881e-02, -7.76582863e-03,\n",
              "         -1.53192610e-01, -6.87702298e-01,  1.85816810e-01,\n",
              "          4.93098646e-01, -7.84858838e-02,  1.22509405e-01,\n",
              "         -4.61673737e-01],\n",
              "        [-2.68461883e-01,  7.87487105e-02,  2.76539534e-01,\n",
              "          1.11994289e-01, -3.99347365e-01,  2.56142974e-01,\n",
              "          2.74895042e-01, -6.48754001e-01, -1.06391132e-01,\n",
              "         -6.95268631e-01],\n",
              "        [ 1.58676088e-01, -4.89832342e-01, -2.06820309e-01,\n",
              "          1.05987482e-01,  1.97722256e-01,  1.09934524e-01,\n",
              "          2.13171974e-01,  1.10754661e-01,  2.03413859e-01,\n",
              "          1.87470898e-01],\n",
              "        [-2.11864144e-01, -7.85678104e-02, -1.49717018e-01,\n",
              "         -1.14263095e-01,  1.84638470e-01, -9.71982703e-02,\n",
              "         -9.05601531e-02,  1.44339398e-01,  2.38431215e-01,\n",
              "          1.39040589e-01],\n",
              "        [-5.36084652e-01,  2.48348806e-02, -2.86048740e-01,\n",
              "          2.05510557e-01, -2.29861394e-01, -2.98866648e-02,\n",
              "          1.44219503e-01,  1.76969189e-02,  2.32961163e-01,\n",
              "         -1.44051434e-02],\n",
              "        [-2.07806334e-01,  4.16614294e-01,  7.40989149e-02,\n",
              "          1.78609610e-01, -5.37427366e-01, -9.37483311e-02,\n",
              "         -6.03933334e-01,  3.45879138e-01, -2.35449120e-01,\n",
              "         -3.14985543e-01],\n",
              "        [-1.27930865e-01,  2.14456379e-01, -5.63443244e-01,\n",
              "         -8.25082138e-02,  3.89539093e-01,  1.41819164e-01,\n",
              "         -3.30979258e-01,  1.76383451e-01,  1.37396455e-01,\n",
              "          3.37453723e-01],\n",
              "        [-6.20418131e-01,  1.80195212e-01,  2.16714174e-01,\n",
              "         -1.06490321e-01, -5.41314363e-01, -2.38788733e-03,\n",
              "         -3.77549566e-02,  7.11590052e-02,  1.22035637e-01,\n",
              "         -1.98611170e-01],\n",
              "        [-3.35312068e-01, -7.51686916e-02,  3.59599680e-01,\n",
              "          2.78193712e-01, -3.93924743e-01,  2.15958849e-01,\n",
              "         -4.16496307e-01,  4.39690918e-01, -5.10110080e-01,\n",
              "         -4.14592624e-01],\n",
              "        [ 4.81601097e-02,  3.62624750e-02, -3.05792689e-01,\n",
              "          1.11089051e-01,  2.54895934e-03, -4.27696630e-02,\n",
              "         -1.19325958e-01,  1.77816555e-01,  1.68920383e-01,\n",
              "          2.64711350e-01],\n",
              "        [ 1.88900188e-01, -9.05253813e-02, -5.73419183e-02,\n",
              "          7.79644400e-02, -8.46809819e-02,  1.72916740e-01,\n",
              "          2.46816203e-01, -8.70965600e-01, -1.41308829e-01,\n",
              "         -3.03862989e-01],\n",
              "        [-1.44366166e-02, -3.31658542e-01,  3.59985411e-01,\n",
              "         -1.03225455e-01, -1.38823017e-01,  6.49102032e-01,\n",
              "         -5.94650209e-01, -3.39345098e-01, -2.24675521e-01,\n",
              "          2.30248296e-03],\n",
              "        [-4.98103529e-01,  2.19166860e-01,  2.41274163e-01,\n",
              "          4.34371024e-01,  4.43387404e-02, -2.61308521e-01,\n",
              "         -3.64029914e-01,  2.87062079e-01, -5.88792741e-01,\n",
              "         -6.65387213e-01],\n",
              "        [ 4.71560284e-02, -2.34462783e-01, -3.42724808e-02,\n",
              "         -1.61992490e-01, -4.60424460e-02, -1.07349865e-01,\n",
              "          3.25280204e-02, -2.88126796e-01,  2.24053442e-01,\n",
              "         -1.55445457e-01],\n",
              "        [ 3.39949504e-02,  1.87745392e-01,  2.46724531e-01,\n",
              "         -1.15161039e-01,  9.41527486e-02, -2.44919077e-01,\n",
              "          1.07900105e-01, -4.44265902e-01,  6.61044419e-02,\n",
              "          1.91495344e-01],\n",
              "        [-6.49562836e-01,  2.31816530e-01,  1.65415496e-01,\n",
              "         -3.46920371e-01,  2.24024802e-01,  3.35544676e-01,\n",
              "          1.24728329e-01, -3.81522149e-01, -5.15006542e-01,\n",
              "          2.23930374e-01],\n",
              "        [-1.33136939e-02,  1.33403149e-02, -3.08778249e-02,\n",
              "          1.06429063e-01, -3.16777796e-01,  4.40119803e-02,\n",
              "          3.30001451e-02, -3.60977381e-01,  2.10408196e-01,\n",
              "         -6.49470612e-02],\n",
              "        [ 9.11908001e-02,  2.95230389e-01,  3.11747164e-01,\n",
              "          8.39760751e-02, -6.62869930e-01, -2.26782188e-01,\n",
              "         -5.15900314e-01,  3.87500316e-01, -3.73460203e-01,\n",
              "         -3.67716134e-01],\n",
              "        [-2.47735158e-01, -1.34900317e-01,  1.91013426e-01,\n",
              "          1.04946814e-01, -7.42782205e-02, -5.88608086e-02,\n",
              "         -3.09432410e-02, -1.85224384e-01,  2.93853074e-01,\n",
              "          1.54370919e-01],\n",
              "        [-3.42809319e-01, -2.03034639e-01,  1.30726084e-01,\n",
              "         -9.71788466e-02, -1.17798313e-01, -6.18409276e-01,\n",
              "          1.54600084e-01,  9.18069556e-02, -3.60981300e-02,\n",
              "          1.34350225e-01],\n",
              "        [-3.41717690e-01, -3.07535231e-02,  3.08951437e-01,\n",
              "         -2.38176510e-01,  1.06819600e-01,  3.49546105e-01,\n",
              "         -4.25440192e-01,  2.09624499e-01,  1.91937327e-01,\n",
              "         -9.86655578e-02],\n",
              "        [ 2.24050954e-01, -6.35851622e-01,  1.50682598e-01,\n",
              "          1.45159900e-01, -5.27728319e-01, -1.97720125e-01,\n",
              "         -2.50839531e-01, -6.66539138e-03,  2.30724718e-02,\n",
              "          3.24843466e-01],\n",
              "        [ 2.96310671e-02, -1.57147989e-01, -3.05986889e-02,\n",
              "          1.02986665e-02,  5.29567041e-02,  2.11912245e-01,\n",
              "         -8.01491961e-02, -9.90583096e-03,  8.21219236e-02,\n",
              "         -4.14385609e-02],\n",
              "        [ 1.61213174e-01, -5.75663149e-01, -4.48850006e-01,\n",
              "          4.02407758e-02,  2.33348966e-01,  2.12554589e-01,\n",
              "          8.39486346e-02, -1.12096012e-01, -2.44984832e-02,\n",
              "         -1.95830047e-01],\n",
              "        [-4.58419591e-01,  3.64543349e-01, -6.05694130e-02,\n",
              "          6.19209744e-02,  2.11926758e-01,  1.68292016e-01,\n",
              "          6.43524453e-02,  1.59832239e-01,  1.09766655e-01,\n",
              "         -1.97060958e-01],\n",
              "        [ 3.51977110e-01,  4.14747626e-01, -7.55273104e-02,\n",
              "         -2.14511856e-01, -2.00212494e-01,  3.43698710e-02,\n",
              "          1.08399093e-02,  3.65391046e-01, -8.48504484e-01,\n",
              "         -3.81558210e-01],\n",
              "        [-4.70729396e-02,  2.78502196e-01,  3.97436589e-01,\n",
              "         -2.55194187e-01, -1.64417803e-01, -8.53317857e-01,\n",
              "         -4.84613866e-01, -1.91710711e-01,  3.21283471e-03,\n",
              "          4.29563075e-01],\n",
              "        [-2.39588633e-01, -5.57547450e-01, -7.33776987e-01,\n",
              "          6.60488829e-02,  1.31549940e-01,  1.66567251e-01,\n",
              "         -8.23664591e-02, -6.91074014e-01, -3.29009593e-02,\n",
              "          1.80742979e-01],\n",
              "        [-4.80205953e-01, -3.68787199e-02, -2.40010113e-01,\n",
              "         -6.73292994e-01, -7.89860845e-01,  5.29443800e-01,\n",
              "          3.09492350e-01,  1.19275369e-01,  8.21088925e-02,\n",
              "         -1.34218648e-01],\n",
              "        [ 1.18455790e-01, -4.83119130e-01, -7.08698332e-02,\n",
              "          4.48707193e-02, -6.15649857e-02,  1.00858495e-01,\n",
              "         -9.82295945e-02, -9.39993467e-03,  1.74257159e-01,\n",
              "          1.72200873e-01],\n",
              "        [-1.19397543e-01,  4.24407423e-01, -3.88381362e-01,\n",
              "         -2.77569801e-01, -3.69351864e-01,  6.33682072e-01,\n",
              "          6.26675010e-01,  2.61232555e-01, -1.30499870e-01,\n",
              "         -3.14858764e-01],\n",
              "        [-5.34766018e-01, -8.06436092e-02, -3.54082376e-01,\n",
              "          3.14342827e-01,  1.92716628e-01,  3.72342229e-01,\n",
              "          3.81905655e-03, -4.57877308e-01,  1.83634013e-01,\n",
              "          2.81608701e-01],\n",
              "        [-1.86641365e-01, -4.89704341e-01, -2.64270931e-01,\n",
              "         -6.20132804e-01,  9.59311277e-02,  1.86882198e-01,\n",
              "         -6.88197464e-02,  1.86158761e-01, -2.72515845e-02,\n",
              "         -9.89481062e-02],\n",
              "        [-2.00600728e-01,  6.78281933e-02,  2.30383664e-01,\n",
              "          3.33122984e-02,  1.01715447e-02, -1.76160671e-02,\n",
              "         -1.95297152e-01,  6.54690340e-02,  1.88630372e-01,\n",
              "         -2.84854829e-01],\n",
              "        [ 9.33998302e-02,  1.15549318e-01,  2.71800607e-01,\n",
              "          1.18878506e-01, -2.88603544e-01,  1.53019145e-01,\n",
              "         -5.17425910e-02, -5.56633711e-01,  1.65230304e-01,\n",
              "         -2.02091128e-01],\n",
              "        [ 2.75217921e-01, -2.26330698e-01,  1.69048429e-01,\n",
              "          2.40263298e-01, -5.83844423e-01, -8.07716474e-02,\n",
              "          8.29148367e-02,  2.68439025e-01,  6.59333020e-02,\n",
              "          1.47755131e-01],\n",
              "        [-4.60588992e-01,  1.44073740e-01, -1.80810437e-01,\n",
              "          7.51032010e-02, -7.48521164e-02,  2.68577039e-02,\n",
              "         -3.96371186e-01, -2.26428747e-01,  6.41687140e-02,\n",
              "          1.16509132e-01],\n",
              "        [ 2.80232221e-01, -4.87349987e-01,  1.37691513e-01,\n",
              "         -1.93507358e-01, -4.18436788e-02,  2.95524150e-01,\n",
              "          1.59903280e-02, -1.45399392e-01,  1.32725790e-01,\n",
              "          1.25553608e-01],\n",
              "        [ 2.32296661e-01, -3.38028878e-01, -3.64834756e-01,\n",
              "         -1.02237895e-01, -5.41958138e-02, -1.77103709e-02,\n",
              "         -1.56525850e-01,  5.96675515e-01, -1.77666306e-01,\n",
              "         -2.79826641e-01],\n",
              "        [ 1.45459920e-01,  3.86363000e-01,  3.56352687e-01,\n",
              "         -5.20043194e-01,  9.32362080e-02, -1.68484896e-02,\n",
              "          1.25239566e-01,  1.21506169e-01, -4.25005138e-01,\n",
              "         -5.27155757e-01],\n",
              "        [-7.30243385e-01, -5.17544597e-02, -1.28031179e-01,\n",
              "          3.98180515e-01,  1.21152170e-01,  5.73672533e-01,\n",
              "         -7.03148603e-01, -1.74885824e-01, -8.43751609e-01,\n",
              "         -1.62022449e-02],\n",
              "        [-4.87356216e-01, -1.22318044e-01,  3.16992283e-01,\n",
              "         -7.25660026e-01,  4.05919373e-01, -3.38043272e-01,\n",
              "         -2.54326046e-01,  4.76750582e-01, -3.46971452e-01,\n",
              "         -1.09788842e-01],\n",
              "        [ 2.48391509e-01, -5.21093249e-01,  1.86108276e-02,\n",
              "          3.94778311e-01, -7.68546939e-01,  1.23107769e-01,\n",
              "         -1.32963717e-01,  1.07610993e-01,  4.55485694e-02,\n",
              "          2.45514691e-01],\n",
              "        [-1.19563200e-01,  5.30072093e-01,  1.24547511e-01,\n",
              "         -3.70173573e-01, -3.25089134e-02,  3.17308962e-01,\n",
              "         -2.92404979e-01,  7.71857426e-02, -2.25567788e-01,\n",
              "         -4.03359354e-01],\n",
              "        [-2.36216784e-01, -8.23065490e-02, -5.47046065e-01,\n",
              "          1.84232041e-01, -2.40321439e-02,  4.01816666e-01,\n",
              "         -1.69977337e-01, -2.32914612e-01,  2.16220647e-01,\n",
              "          7.34113678e-02],\n",
              "        [-2.65524238e-01, -2.05600023e-01, -9.87899229e-02,\n",
              "         -2.44196653e-01,  1.58938944e-01,  3.83459665e-02,\n",
              "          3.04939955e-01,  2.20269978e-01, -1.03087649e-01,\n",
              "          2.71350890e-01],\n",
              "        [ 7.38707855e-02,  8.80811512e-02,  5.05577549e-02,\n",
              "          1.22499309e-01, -2.14562148e-01, -1.58195093e-01,\n",
              "          1.89537287e-01,  2.01277554e-01,  1.25937566e-01,\n",
              "         -3.92246008e-01],\n",
              "        [ 2.21315965e-01,  3.24021071e-01, -4.14886147e-01,\n",
              "         -2.67869949e-01, -2.01323867e-01, -2.44796410e-01,\n",
              "          1.85482770e-01,  3.80263338e-03,  2.71338620e-03,\n",
              "         -2.67758407e-02],\n",
              "        [ 7.73614878e-03, -1.78650036e-01, -3.58806998e-01,\n",
              "         -3.07779163e-01, -8.77485871e-02,  1.24598742e-01,\n",
              "          6.74392038e-04, -7.47881532e-02, -1.49256205e-02,\n",
              "          1.48017988e-01],\n",
              "        [-2.51638323e-01, -1.99092329e-01, -3.06672573e-01,\n",
              "         -3.29565078e-01,  3.33034694e-01,  8.12532306e-02,\n",
              "         -1.68277159e-01,  8.50737765e-02,  3.06665212e-01,\n",
              "         -3.63934457e-01],\n",
              "        [ 3.45120251e-01, -3.33784848e-01, -2.73318768e-01,\n",
              "         -3.05166364e-01, -2.01978520e-01, -5.23644745e-01,\n",
              "          2.80209273e-01, -1.25301808e-01, -1.97201055e-02,\n",
              "          1.14573866e-01],\n",
              "        [-4.59539711e-01, -8.34666193e-02,  2.92122252e-02,\n",
              "          3.28782707e-01,  1.73933133e-01,  2.77820915e-01,\n",
              "         -9.11139071e-01, -4.93948609e-01,  6.39759153e-02,\n",
              "          3.25816095e-01],\n",
              "        [ 1.81044832e-01, -1.78151913e-02, -3.01780067e-02,\n",
              "         -6.27638459e-01,  3.63720119e-01, -3.39882940e-01,\n",
              "         -3.83486509e-01,  8.30624327e-02, -3.12346369e-01,\n",
              "          3.72672439e-01],\n",
              "        [ 2.45771557e-01, -3.15934271e-01,  2.74922680e-02,\n",
              "         -3.20422679e-01,  2.52454162e-01,  8.65751952e-02,\n",
              "          1.07706882e-01, -3.42916906e-01,  1.04403347e-01,\n",
              "          3.26799810e-01],\n",
              "        [-3.23255539e-01,  2.51323301e-02,  2.64113575e-01,\n",
              "          2.41890877e-01,  2.96113342e-01, -7.56738305e-01,\n",
              "         -4.45872098e-01,  4.05124575e-02,  1.24763794e-01,\n",
              "          6.87821060e-02],\n",
              "        [ 2.75625940e-02,  4.01977599e-01, -6.13939881e-01,\n",
              "         -7.84619868e-01,  9.81402248e-02, -3.52671295e-02,\n",
              "          4.04016703e-01, -1.47375867e-01, -6.53815985e-01,\n",
              "         -1.13559015e-01],\n",
              "        [-8.26712325e-03,  2.09677726e-01,  3.95692617e-01,\n",
              "          1.59401685e-01, -1.04888253e-01, -3.18065614e-01,\n",
              "         -6.42542183e-01,  2.21139759e-01, -3.39705795e-01,\n",
              "          2.50603408e-01],\n",
              "        [ 2.31203660e-01, -3.67187053e-01,  1.57688573e-01,\n",
              "         -1.38881162e-01, -5.45298271e-02, -8.42439681e-02,\n",
              "          4.49493043e-02,  1.32782713e-01,  1.69870496e-01,\n",
              "         -7.21958354e-02],\n",
              "        [ 2.25809917e-01, -8.19649547e-02,  2.20003739e-01,\n",
              "          9.23045129e-02, -7.24120498e-01,  1.45018116e-01,\n",
              "          3.20958421e-02, -2.54411846e-01,  9.00302231e-02,\n",
              "         -2.40710825e-01],\n",
              "        [-2.30439231e-01,  3.17553967e-01,  2.75029149e-02,\n",
              "          2.98171312e-01, -7.05034137e-01,  3.58073473e-01,\n",
              "         -2.97671348e-01, -2.09870666e-01, -5.73157966e-01,\n",
              "          1.16644107e-01],\n",
              "        [-2.58189946e-01, -3.00539974e-02, -5.34014627e-02,\n",
              "         -1.30390063e-01, -2.23124772e-02,  1.42476514e-01,\n",
              "          7.95812905e-02, -1.30111232e-01,  1.07297726e-01,\n",
              "          6.94208294e-02],\n",
              "        [-4.75180358e-01, -8.00128579e-02,  2.14656428e-01,\n",
              "          7.28146685e-03, -9.35522914e-02,  5.47746956e-01,\n",
              "          1.53043687e-01,  3.43733788e-01, -4.94290143e-02,\n",
              "         -4.38296646e-01],\n",
              "        [ 2.46028736e-01,  8.07283446e-02, -3.94603908e-01,\n",
              "          7.35041201e-02, -1.86270684e-01,  2.46897951e-01,\n",
              "         -1.23923324e-01, -1.82248250e-01,  1.18221328e-01,\n",
              "          1.48441970e-01],\n",
              "        [-8.45084339e-02,  1.65012792e-01, -1.53282166e-01,\n",
              "         -9.07379016e-02, -4.31617469e-01,  1.90831840e-01,\n",
              "         -5.69004677e-02, -4.05280620e-01,  6.37344867e-02,\n",
              "          1.54873161e-02],\n",
              "        [-3.38189900e-01, -8.44939709e-01,  7.87372366e-02,\n",
              "         -3.16600084e-01,  1.23743832e-01,  3.83325182e-02,\n",
              "          5.40563986e-02, -3.75584900e-01,  4.33287248e-02,\n",
              "          2.53416151e-01],\n",
              "        [ 1.76512033e-01,  1.89169079e-01,  2.37468168e-01,\n",
              "         -2.35152215e-01, -2.50735842e-02, -3.42536420e-01,\n",
              "          2.12335885e-01,  1.60607800e-01,  2.03672215e-01,\n",
              "         -6.86593235e-01],\n",
              "        [ 2.76619196e-01, -2.27251261e-01,  3.14547539e-01,\n",
              "          8.49180147e-02,  2.44307294e-01, -3.33437115e-01,\n",
              "         -2.00949594e-01,  3.74476880e-01, -5.02353072e-01,\n",
              "          1.98830124e-02],\n",
              "        [-4.51725870e-02,  3.80626142e-01, -4.23429668e-01,\n",
              "          9.39762220e-02,  2.90434241e-01, -3.79866034e-01,\n",
              "         -1.32027134e-01, -5.79122826e-02,  1.75800323e-01,\n",
              "         -1.49191290e-01],\n",
              "        [ 9.28790346e-02, -2.26173744e-01, -2.06649408e-01,\n",
              "          9.63194072e-02, -6.27264157e-02, -3.86295021e-02,\n",
              "         -2.85192072e-01,  1.40244812e-01,  2.46265575e-01,\n",
              "          2.40596920e-01],\n",
              "        [-4.03816432e-01,  4.89142388e-01, -6.96359038e-01,\n",
              "         -3.81159991e-01,  4.06291425e-01,  1.09529711e-01,\n",
              "         -3.56544048e-01,  3.62887651e-01, -5.68881035e-01,\n",
              "          3.87757927e-01]], dtype=float32),\n",
              " array([-0.11116181, -0.04388282,  0.02391801, -0.07893506,  0.03304898,\n",
              "         0.13724068, -0.07440169,  0.0392248 ,  0.07117096, -0.05467208],\n",
              "       dtype=float32)]"
            ]
          },
          "metadata": {},
          "execution_count": 12
        }
      ],
      "source": [
        "model.get_weights()"
      ]
    }
  ],
  "metadata": {
    "kernelspec": {
      "display_name": "Python 3",
      "language": "python",
      "name": "python3"
    },
    "language_info": {
      "codemirror_mode": {
        "name": "ipython",
        "version": 3
      },
      "file_extension": ".py",
      "mimetype": "text/x-python",
      "name": "python",
      "nbconvert_exporter": "python",
      "pygments_lexer": "ipython3",
      "version": "3.8.5"
    },
    "colab": {
      "provenance": [],
      "include_colab_link": true
    },
    "accelerator": "GPU",
    "gpuClass": "standard"
  },
  "nbformat": 4,
  "nbformat_minor": 0
}